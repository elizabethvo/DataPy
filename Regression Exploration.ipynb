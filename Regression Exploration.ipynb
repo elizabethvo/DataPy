{
 "cells": [
  {
   "cell_type": "markdown",
   "metadata": {},
   "source": [
    "# Regression Exploration"
   ]
  },
  {
   "cell_type": "code",
   "execution_count": 1,
   "metadata": {},
   "outputs": [],
   "source": [
    "import pandas as pd\n",
    "import numpy as np\n",
    "import matplotlib.pyplot as plt\n",
    "import matplotlib as mpl"
   ]
  },
  {
   "cell_type": "code",
   "execution_count": 2,
   "metadata": {},
   "outputs": [],
   "source": [
    "%matplotlib inline"
   ]
  },
  {
   "cell_type": "markdown",
   "metadata": {},
   "source": [
    "# Does shoe size depend on height?"
   ]
  },
  {
   "cell_type": "code",
   "execution_count": 7,
   "metadata": {},
   "outputs": [],
   "source": [
    "shoes = pd.read_csv('/users/elizabeth/downloads/shoes.csv')"
   ]
  },
  {
   "cell_type": "code",
   "execution_count": 8,
   "metadata": {},
   "outputs": [
    {
     "data": {
      "text/plain": [
       "Text(0.5,1,'Shoe Size by Height')"
      ]
     },
     "execution_count": 8,
     "metadata": {},
     "output_type": "execute_result"
    },
    {
     "data": {
      "image/png": "[encoded data removed]",
      "text/plain": [
       "<Figure size 432x288 with 1 Axes>"
      ]
     },
     "metadata": {},
     "output_type": "display_data"
    }
   ],
   "source": [
    "plt.scatter(shoes['HEIGHT (IN)'], shoes['SHOE SIZE (FT)'])\n",
    "plt.xlabel('Height (in inches)')\n",
    "plt.ylabel('Shoe Size (in feet)')\n",
    "plt.title('Shoe Size by Height')"
   ]
  },
  {
   "cell_type": "code",
   "execution_count": 9,
   "metadata": {},
   "outputs": [],
   "source": [
    "#computing the correlation coefficient using the long method:"
   ]
  },
  {
   "cell_type": "code",
   "execution_count": 10,
   "metadata": {},
   "outputs": [],
   "source": [
    "def standardize(anylist):\n",
    "    '''convert any array of numbers to std units '''\n",
    "    return (anylist - np.mean(anylist)) / np.std(anylist) "
   ]
  },
  {
   "cell_type": "code",
   "execution_count": 11,
   "metadata": {},
   "outputs": [],
   "source": [
    "standardize_x = standardize(shoes['HEIGHT (IN)'])\n",
    "standardize_y = standardize(shoes['SHOE SIZE (FT)'])"
   ]
  },
  {
   "cell_type": "code",
   "execution_count": 12,
   "metadata": {},
   "outputs": [
    {
     "data": {
      "text/plain": [
       "0.6221982612753523"
      ]
     },
     "execution_count": 12,
     "metadata": {},
     "output_type": "execute_result"
    }
   ],
   "source": [
    "#correlation coefficient r\n",
    "r = np.mean(standardize_x * standardize_y)\n",
    "r"
   ]
  },
  {
   "cell_type": "code",
   "execution_count": 13,
   "metadata": {},
   "outputs": [
    {
     "data": {
      "text/plain": [
       "array([[1.        , 0.62219826],\n",
       "       [0.62219826, 1.        ]])"
      ]
     },
     "execution_count": 13,
     "metadata": {},
     "output_type": "execute_result"
    }
   ],
   "source": [
    "#computing the correlation coefficient using np.corrcoef()\n",
    "np.corrcoef(shoes['HEIGHT (IN)'], shoes['SHOE SIZE (FT)'])"
   ]
  },
  {
   "cell_type": "code",
   "execution_count": 14,
   "metadata": {},
   "outputs": [
    {
     "data": {
      "text/plain": [
       "Text(0,0.5,'Shoe Size (in feet)')"
      ]
     },
     "execution_count": 14,
     "metadata": {},
     "output_type": "execute_result"
    },
    {
     "data": {
      "image/png": "[encoded data removed]",
      "text/plain": [
       "<Figure size 432x288 with 1 Axes>"
      ]
     },
     "metadata": {},
     "output_type": "display_data"
    }
   ],
   "source": [
    "#fitting a linear regression line\n",
    "\n",
    "plt.scatter(standardize_x, standardize_y) #graphs the scatter plot of data\n",
    "xvals = np.arange(-4, 3, 0.3) #setting the range of x values for regression line\n",
    "yvals = r * xvals #the regression y values (correlation coefficient * x values)\n",
    "plt.plot(xvals, yvals, color = 'g') #graphing the linear regression\n",
    "plt.title('Distribution of Shoe Sizes by Height')\n",
    "plt.xlabel('Height (in inches)')\n",
    "plt.ylabel('Shoe Size (in feet)')"
   ]
  },
  {
   "cell_type": "code",
   "execution_count": 15,
   "metadata": {},
   "outputs": [],
   "source": [
    "#predicting shoe size"
   ]
  },
  {
   "cell_type": "code",
   "execution_count": 16,
   "metadata": {},
   "outputs": [],
   "source": [
    "m, b = np.polyfit(shoes['HEIGHT (IN)'], shoes['SHOE SIZE (FT)'], 1)"
   ]
  },
  {
   "cell_type": "code",
   "execution_count": 17,
   "metadata": {},
   "outputs": [
    {
     "data": {
      "text/plain": [
       "(0.2337014136204536, -5.667964282283006)"
      ]
     },
     "execution_count": 17,
     "metadata": {},
     "output_type": "execute_result"
    }
   ],
   "source": [
    "m, b"
   ]
  },
  {
   "cell_type": "code",
   "execution_count": 18,
   "metadata": {},
   "outputs": [],
   "source": [
    "# predicting using the linear regression: y = mx + b\n",
    "# My height: 63 inches\n",
    "my_height = 63"
   ]
  },
  {
   "cell_type": "code",
   "execution_count": 19,
   "metadata": {},
   "outputs": [
    {
     "data": {
      "text/plain": [
       "9.05522477580557"
      ]
     },
     "execution_count": 19,
     "metadata": {},
     "output_type": "execute_result"
    }
   ],
   "source": [
    "my_shoe_size = (m * my_height) + b\n",
    "my_shoe_size"
   ]
  },
  {
   "cell_type": "markdown",
   "metadata": {},
   "source": [
    "- My actual shoe size is an 8. The model is off by about a size. "
   ]
  },
  {
   "cell_type": "markdown",
   "metadata": {},
   "source": [
    "# Testing Chebychev's Inequality"
   ]
  },
  {
   "cell_type": "markdown",
   "metadata": {},
   "source": [
    "As per Chebychev's inequality, as least 88.88% of the data should be within 3 standard deviations of the mean. Is that true for this dataset?"
   ]
  },
  {
   "cell_type": "code",
   "execution_count": 20,
   "metadata": {},
   "outputs": [
    {
     "data": {
      "text/plain": [
       "(49, 31)"
      ]
     },
     "execution_count": 20,
     "metadata": {},
     "output_type": "execute_result"
    }
   ],
   "source": [
    "delays = pd.read_excel('/users/elizabeth/downloads/flightdelays.xlsx')\n",
    "delays.shape"
   ]
  },
  {
   "cell_type": "code",
   "execution_count": 21,
   "metadata": {},
   "outputs": [
    {
     "data": {
      "text/plain": [
       "(47, 31)"
      ]
     },
     "execution_count": 21,
     "metadata": {},
     "output_type": "execute_result"
    }
   ],
   "source": [
    "#cleaning data\n",
    "delays = delays.dropna(subset=['ARRIVAL_DELAY'])\n",
    "delays.shape"
   ]
  },
  {
   "cell_type": "code",
   "execution_count": 22,
   "metadata": {},
   "outputs": [
    {
     "name": "stderr",
     "output_type": "stream",
     "text": [
      "/anaconda3/lib/python3.6/site-packages/matplotlib/axes/_axes.py:6462: UserWarning: The 'normed' kwarg is deprecated, and has been replaced by the 'density' kwarg.\n",
      "  warnings.warn(\"The 'normed' kwarg is deprecated, and has been \"\n"
     ]
    },
    {
     "data": {
      "text/plain": [
       "Text(0,0.5,'Frequency')"
      ]
     },
     "execution_count": 22,
     "metadata": {},
     "output_type": "execute_result"
    },
    {
     "data": {
      "image/png": "[encoded data removed]",
      "text/plain": [
       "<Figure size 432x288 with 1 Axes>"
      ]
     },
     "metadata": {},
     "output_type": "display_data"
    }
   ],
   "source": [
    "plt.style.use('fivethirtyeight')\n",
    "plt.hist(delays['ARRIVAL_DELAY'], normed = True, bins = 15, ec = 'k')\n",
    "plt.title('distribution of arrival delays', size = 'medium')\n",
    "plt.xlabel('Delay Amount')\n",
    "plt.ylabel('Frequency')"
   ]
  },
  {
   "cell_type": "markdown",
   "metadata": {},
   "source": [
    "- As per Chebychev's inequality, as least 88.88% of the data should be within 3 standard deviations of the mean..."
   ]
  },
  {
   "cell_type": "code",
   "execution_count": 23,
   "metadata": {},
   "outputs": [],
   "source": [
    "standardized_delays = (delays['ARRIVAL_DELAY'] - np.mean(delays['ARRIVAL_DELAY'])) / np.std(delays['ARRIVAL_DELAY'])"
   ]
  },
  {
   "cell_type": "code",
   "execution_count": 24,
   "metadata": {},
   "outputs": [
    {
     "name": "stdout",
     "output_type": "stream",
     "text": [
      "97.87234042553192\n"
     ]
    }
   ],
   "source": [
    "upper_bound = np.mean(delays['ARRIVAL_DELAY']) + 3 * np.std(delays['ARRIVAL_DELAY'])\n",
    "lower_bound = np.mean(delays['ARRIVAL_DELAY']) - 3 * np.std(delays['ARRIVAL_DELAY'])\n",
    "within_3_SDs = np.sum(np.logical_and(delays['ARRIVAL_DELAY'] < upper_bound, delays['ARRIVAL_DELAY'] > lower_bound))\n",
    "print(within_3_SDs / len(delays) * 100)"
   ]
  },
  {
   "cell_type": "markdown",
   "metadata": {},
   "source": [
    "- Yes, Chebychev's inequality is true for this dataset. "
   ]
  },
  {
   "cell_type": "code",
   "execution_count": 25,
   "metadata": {},
   "outputs": [],
   "source": [
    "# Determining which airline to avoid..."
   ]
  },
  {
   "cell_type": "code",
   "execution_count": 26,
   "metadata": {},
   "outputs": [
    {
     "data": {
      "text/html": [
       "<div>\n",
       "<style scoped>\n",
       "    .dataframe tbody tr th:only-of-type {\n",
       "        vertical-align: middle;\n",
       "    }\n",
       "\n",
       "    .dataframe tbody tr th {\n",
       "        vertical-align: top;\n",
       "    }\n",
       "\n",
       "    .dataframe thead th {\n",
       "        text-align: right;\n",
       "    }\n",
       "</style>\n",
       "<table border=\"1\" class=\"dataframe\">\n",
       "  <thead>\n",
       "    <tr style=\"text-align: right;\">\n",
       "      <th></th>\n",
       "      <th>AIRLINE</th>\n",
       "      <th>ARRIVAL_DELAY</th>\n",
       "    </tr>\n",
       "  </thead>\n",
       "  <tbody>\n",
       "    <tr>\n",
       "      <th>4</th>\n",
       "      <td>HA</td>\n",
       "      <td>15.000000</td>\n",
       "    </tr>\n",
       "    <tr>\n",
       "      <th>2</th>\n",
       "      <td>B6</td>\n",
       "      <td>2.000000</td>\n",
       "    </tr>\n",
       "    <tr>\n",
       "      <th>5</th>\n",
       "      <td>NK</td>\n",
       "      <td>1.000000</td>\n",
       "    </tr>\n",
       "    <tr>\n",
       "      <th>0</th>\n",
       "      <td>AA</td>\n",
       "      <td>-8.250000</td>\n",
       "    </tr>\n",
       "    <tr>\n",
       "      <th>6</th>\n",
       "      <td>UA</td>\n",
       "      <td>-9.666667</td>\n",
       "    </tr>\n",
       "    <tr>\n",
       "      <th>3</th>\n",
       "      <td>DL</td>\n",
       "      <td>-10.400000</td>\n",
       "    </tr>\n",
       "    <tr>\n",
       "      <th>7</th>\n",
       "      <td>US</td>\n",
       "      <td>-16.400000</td>\n",
       "    </tr>\n",
       "    <tr>\n",
       "      <th>1</th>\n",
       "      <td>AS</td>\n",
       "      <td>-17.000000</td>\n",
       "    </tr>\n",
       "  </tbody>\n",
       "</table>\n",
       "</div>"
      ],
      "text/plain": [
       "  AIRLINE  ARRIVAL_DELAY\n",
       "4      HA      15.000000\n",
       "2      B6       2.000000\n",
       "5      NK       1.000000\n",
       "0      AA      -8.250000\n",
       "6      UA      -9.666667\n",
       "3      DL     -10.400000\n",
       "7      US     -16.400000\n",
       "1      AS     -17.000000"
      ]
     },
     "execution_count": 26,
     "metadata": {},
     "output_type": "execute_result"
    }
   ],
   "source": [
    "grouped_delays = delays.groupby(['AIRLINE'], as_index=False)\n",
    "grouped_delays.agg({'ARRIVAL_DELAY' : 'mean'}).sort_values('ARRIVAL_DELAY', ascending = False)"
   ]
  },
  {
   "cell_type": "markdown",
   "metadata": {},
   "source": [
    "- Based on this data alone, it would be a good idea to avoid Hawaii Airlines (HA) because it has the highest average of delay time. "
   ]
  },
  {
   "cell_type": "markdown",
   "metadata": {},
   "source": [
    "# NFL data!"
   ]
  },
  {
   "cell_type": "markdown",
   "metadata": {},
   "source": [
    "The NFL players data has the heights and weights of some players in the NFL. It also tells you what position they play in.\n",
    "\n",
    "Things I want to do:\n",
    "\n",
    "1. Plotting a histogram of the heights. Does this seem normally distributed? What is the mean? What is the median? Are there any significant outliers?\n",
    "\n",
    "2. Plotting a histogram of the weights. Does this seem normally distributed? What is the mean? What is the median? Are there any significant outliers?\n",
    "\n",
    "3. Question: does the distribution of weights depend on the position?"
   ]
  },
  {
   "cell_type": "markdown",
   "metadata": {},
   "source": [
    "#### 1: Heights"
   ]
  },
  {
   "cell_type": "code",
   "execution_count": 30,
   "metadata": {},
   "outputs": [
    {
     "data": {
      "text/html": [
       "<div>\n",
       "<style scoped>\n",
       "    .dataframe tbody tr th:only-of-type {\n",
       "        vertical-align: middle;\n",
       "    }\n",
       "\n",
       "    .dataframe tbody tr th {\n",
       "        vertical-align: top;\n",
       "    }\n",
       "\n",
       "    .dataframe thead th {\n",
       "        text-align: right;\n",
       "    }\n",
       "</style>\n",
       "<table border=\"1\" class=\"dataframe\">\n",
       "  <thead>\n",
       "    <tr style=\"text-align: right;\">\n",
       "      <th></th>\n",
       "      <th>Jersey</th>\n",
       "      <th>Name</th>\n",
       "      <th>Position</th>\n",
       "      <th>Age</th>\n",
       "      <th>Height</th>\n",
       "      <th>Weight</th>\n",
       "      <th>Years</th>\n",
       "      <th>College</th>\n",
       "      <th>Team</th>\n",
       "      <th>Position Group</th>\n",
       "      <th>Side</th>\n",
       "      <th>Level</th>\n",
       "    </tr>\n",
       "  </thead>\n",
       "  <tbody>\n",
       "    <tr>\n",
       "      <th>0</th>\n",
       "      <td>5</td>\n",
       "      <td>Donte Deayon</td>\n",
       "      <td>DB</td>\n",
       "      <td>22</td>\n",
       "      <td>69</td>\n",
       "      <td>150</td>\n",
       "      <td>0</td>\n",
       "      <td>Boise State</td>\n",
       "      <td>New York Giants</td>\n",
       "      <td>DB</td>\n",
       "      <td>DEF</td>\n",
       "      <td>Rookie</td>\n",
       "    </tr>\n",
       "    <tr>\n",
       "      <th>1</th>\n",
       "      <td>--</td>\n",
       "      <td>Chris Hubert</td>\n",
       "      <td>WR</td>\n",
       "      <td>23</td>\n",
       "      <td>69</td>\n",
       "      <td>155</td>\n",
       "      <td>0</td>\n",
       "      <td>Fayetteville State</td>\n",
       "      <td>Arizona</td>\n",
       "      <td>WR</td>\n",
       "      <td>OFF</td>\n",
       "      <td>Rookie</td>\n",
       "    </tr>\n",
       "    <tr>\n",
       "      <th>2</th>\n",
       "      <td>14</td>\n",
       "      <td>J.J. Nelson</td>\n",
       "      <td>WR</td>\n",
       "      <td>24</td>\n",
       "      <td>70</td>\n",
       "      <td>160</td>\n",
       "      <td>2</td>\n",
       "      <td>UAB</td>\n",
       "      <td>Arizona</td>\n",
       "      <td>WR</td>\n",
       "      <td>OFF</td>\n",
       "      <td>1-4 Yrs</td>\n",
       "    </tr>\n",
       "    <tr>\n",
       "      <th>3</th>\n",
       "      <td>5</td>\n",
       "      <td>Cairo Santos</td>\n",
       "      <td>PK</td>\n",
       "      <td>24</td>\n",
       "      <td>68</td>\n",
       "      <td>160</td>\n",
       "      <td>3</td>\n",
       "      <td>Tulane</td>\n",
       "      <td>Kansas City</td>\n",
       "      <td>ST</td>\n",
       "      <td>ST</td>\n",
       "      <td>1-4 Yrs</td>\n",
       "    </tr>\n",
       "    <tr>\n",
       "      <th>4</th>\n",
       "      <td>37</td>\n",
       "      <td>Nickell Robey</td>\n",
       "      <td>CB</td>\n",
       "      <td>24</td>\n",
       "      <td>68</td>\n",
       "      <td>165</td>\n",
       "      <td>4</td>\n",
       "      <td>USC</td>\n",
       "      <td>Buffalo</td>\n",
       "      <td>DB</td>\n",
       "      <td>DEF</td>\n",
       "      <td>1-4 Yrs</td>\n",
       "    </tr>\n",
       "  </tbody>\n",
       "</table>\n",
       "</div>"
      ],
      "text/plain": [
       "  Jersey           Name Position Age  Height  Weight  Years  \\\n",
       "0      5   Donte Deayon       DB  22      69     150      0   \n",
       "1     --   Chris Hubert       WR  23      69     155      0   \n",
       "2     14    J.J. Nelson       WR  24      70     160      2   \n",
       "3      5   Cairo Santos       PK  24      68     160      3   \n",
       "4     37  Nickell Robey       CB  24      68     165      4   \n",
       "\n",
       "              College             Team Position Group Side    Level  \n",
       "0         Boise State  New York Giants             DB  DEF   Rookie  \n",
       "1  Fayetteville State          Arizona             WR  OFF   Rookie  \n",
       "2                 UAB          Arizona             WR  OFF  1-4 Yrs  \n",
       "3              Tulane      Kansas City             ST   ST  1-4 Yrs  \n",
       "4                 USC          Buffalo             DB  DEF  1-4 Yrs  "
      ]
     },
     "execution_count": 30,
     "metadata": {},
     "output_type": "execute_result"
    }
   ],
   "source": [
    "nfl = pd.read_csv('/users/elizabeth/downloads/nfl_players.csv', encoding='latin-1')\n",
    "nfl.head()"
   ]
  },
  {
   "cell_type": "code",
   "execution_count": 31,
   "metadata": {},
   "outputs": [
    {
     "data": {
      "text/plain": [
       "Text(0,0.5,'Frequency')"
      ]
     },
     "execution_count": 31,
     "metadata": {},
     "output_type": "execute_result"
    },
    {
     "data": {
      "image/png": "[encoded data removed]",
      "text/plain": [
       "<Figure size 432x288 with 1 Axes>"
      ]
     },
     "metadata": {},
     "output_type": "display_data"
    }
   ],
   "source": [
    "#Plot a histogram of the heights.\n",
    "plt.hist(nfl['Height'], bins = np.arange(60, 85), ec = 'blue', color = 'lightskyblue')\n",
    "plt.title('distribution of heights', size = 'medium')\n",
    "plt.xlabel('Player Height')\n",
    "plt.ylabel('Frequency')"
   ]
  },
  {
   "cell_type": "markdown",
   "metadata": {},
   "source": [
    "- The distribution looks vaguely but not quite normal. "
   ]
  },
  {
   "cell_type": "code",
   "execution_count": 32,
   "metadata": {},
   "outputs": [
    {
     "data": {
      "text/plain": [
       "74.01338639652677"
      ]
     },
     "execution_count": 32,
     "metadata": {},
     "output_type": "execute_result"
    }
   ],
   "source": [
    "# Mean?\n",
    "np.mean(nfl['Height'])"
   ]
  },
  {
   "cell_type": "markdown",
   "metadata": {},
   "source": [
    "- The mean height of NFL players is 74.013"
   ]
  },
  {
   "cell_type": "code",
   "execution_count": 33,
   "metadata": {},
   "outputs": [
    {
     "data": {
      "text/plain": [
       "74.0"
      ]
     },
     "execution_count": 33,
     "metadata": {},
     "output_type": "execute_result"
    }
   ],
   "source": [
    "# Median?\n",
    "np.median(nfl['Height'])"
   ]
  },
  {
   "cell_type": "markdown",
   "metadata": {},
   "source": [
    "- The median height of NFL players is 74"
   ]
  },
  {
   "cell_type": "code",
   "execution_count": 34,
   "metadata": {},
   "outputs": [
    {
     "data": {
      "text/plain": [
       "(81, 61)"
      ]
     },
     "execution_count": 34,
     "metadata": {},
     "output_type": "execute_result"
    }
   ],
   "source": [
    "# Outliers?\n",
    "np.max(nfl['Height']), np.min(nfl['Height'])"
   ]
  },
  {
   "cell_type": "markdown",
   "metadata": {},
   "source": [
    "- The minimum and maximum values are not significant enough to be outliers."
   ]
  },
  {
   "cell_type": "markdown",
   "metadata": {},
   "source": [
    "#### 2: Weights"
   ]
  },
  {
   "cell_type": "code",
   "execution_count": 35,
   "metadata": {},
   "outputs": [
    {
     "data": {
      "text/plain": [
       "Text(0,0.5,'frequency')"
      ]
     },
     "execution_count": 35,
     "metadata": {},
     "output_type": "execute_result"
    },
    {
     "data": {
      "image/png": "[encoded data removed]",
      "text/plain": [
       "<Figure size 432x288 with 1 Axes>"
      ]
     },
     "metadata": {},
     "output_type": "display_data"
    }
   ],
   "source": [
    "#Plot a histogram of the weights.\n",
    "plt.hist(nfl['Weight'], bins = np.arange(150, 370, 10), ec = 'blue', color = 'lightskyblue')\n",
    "plt.title('distribution of weights', size = 'medium')\n",
    "plt.xlabel('player weight')\n",
    "plt.ylabel('frequency')"
   ]
  },
  {
   "cell_type": "markdown",
   "metadata": {},
   "source": [
    "- The distribution of weights is not normal. "
   ]
  },
  {
   "cell_type": "code",
   "execution_count": 36,
   "metadata": {},
   "outputs": [
    {
     "data": {
      "text/plain": [
       "244.81693198263386"
      ]
     },
     "execution_count": 36,
     "metadata": {},
     "output_type": "execute_result"
    }
   ],
   "source": [
    "# Mean?\n",
    "np.mean(nfl['Weight'])"
   ]
  },
  {
   "cell_type": "code",
   "execution_count": 37,
   "metadata": {},
   "outputs": [
    {
     "data": {
      "text/plain": [
       "236.0"
      ]
     },
     "execution_count": 37,
     "metadata": {},
     "output_type": "execute_result"
    }
   ],
   "source": [
    "# Median?\n",
    "np.median(nfl['Weight'])"
   ]
  },
  {
   "cell_type": "code",
   "execution_count": 38,
   "metadata": {},
   "outputs": [
    {
     "data": {
      "text/plain": [
       "(364, 150)"
      ]
     },
     "execution_count": 38,
     "metadata": {},
     "output_type": "execute_result"
    }
   ],
   "source": [
    "# Outliers?\n",
    "np.max(nfl['Weight']), np.min(nfl['Weight'])"
   ]
  },
  {
   "cell_type": "code",
   "execution_count": 39,
   "metadata": {},
   "outputs": [
    {
     "data": {
      "text/html": [
       "<div>\n",
       "<style scoped>\n",
       "    .dataframe tbody tr th:only-of-type {\n",
       "        vertical-align: middle;\n",
       "    }\n",
       "\n",
       "    .dataframe tbody tr th {\n",
       "        vertical-align: top;\n",
       "    }\n",
       "\n",
       "    .dataframe thead th {\n",
       "        text-align: right;\n",
       "    }\n",
       "</style>\n",
       "<table border=\"1\" class=\"dataframe\">\n",
       "  <thead>\n",
       "    <tr style=\"text-align: right;\">\n",
       "      <th></th>\n",
       "      <th>Weight</th>\n",
       "    </tr>\n",
       "  </thead>\n",
       "  <tbody>\n",
       "    <tr>\n",
       "      <th>0</th>\n",
       "      <td>150</td>\n",
       "    </tr>\n",
       "    <tr>\n",
       "      <th>1</th>\n",
       "      <td>155</td>\n",
       "    </tr>\n",
       "    <tr>\n",
       "      <th>2</th>\n",
       "      <td>160</td>\n",
       "    </tr>\n",
       "    <tr>\n",
       "      <th>3</th>\n",
       "      <td>160</td>\n",
       "    </tr>\n",
       "    <tr>\n",
       "      <th>4</th>\n",
       "      <td>165</td>\n",
       "    </tr>\n",
       "  </tbody>\n",
       "</table>\n",
       "</div>"
      ],
      "text/plain": [
       "   Weight\n",
       "0     150\n",
       "1     155\n",
       "2     160\n",
       "3     160\n",
       "4     165"
      ]
     },
     "execution_count": 39,
     "metadata": {},
     "output_type": "execute_result"
    }
   ],
   "source": [
    "nfl[['Weight']].sort_values('Weight', ascending=True)[:5]"
   ]
  },
  {
   "cell_type": "code",
   "execution_count": 40,
   "metadata": {},
   "outputs": [
    {
     "data": {
      "text/html": [
       "<div>\n",
       "<style scoped>\n",
       "    .dataframe tbody tr th:only-of-type {\n",
       "        vertical-align: middle;\n",
       "    }\n",
       "\n",
       "    .dataframe tbody tr th {\n",
       "        vertical-align: top;\n",
       "    }\n",
       "\n",
       "    .dataframe thead th {\n",
       "        text-align: right;\n",
       "    }\n",
       "</style>\n",
       "<table border=\"1\" class=\"dataframe\">\n",
       "  <thead>\n",
       "    <tr style=\"text-align: right;\">\n",
       "      <th></th>\n",
       "      <th>Weight</th>\n",
       "    </tr>\n",
       "  </thead>\n",
       "  <tbody>\n",
       "    <tr>\n",
       "      <th>2763</th>\n",
       "      <td>364</td>\n",
       "    </tr>\n",
       "    <tr>\n",
       "      <th>2762</th>\n",
       "      <td>359</td>\n",
       "    </tr>\n",
       "    <tr>\n",
       "      <th>2761</th>\n",
       "      <td>355</td>\n",
       "    </tr>\n",
       "    <tr>\n",
       "      <th>2760</th>\n",
       "      <td>354</td>\n",
       "    </tr>\n",
       "    <tr>\n",
       "      <th>2759</th>\n",
       "      <td>352</td>\n",
       "    </tr>\n",
       "  </tbody>\n",
       "</table>\n",
       "</div>"
      ],
      "text/plain": [
       "      Weight\n",
       "2763     364\n",
       "2762     359\n",
       "2761     355\n",
       "2760     354\n",
       "2759     352"
      ]
     },
     "execution_count": 40,
     "metadata": {},
     "output_type": "execute_result"
    }
   ],
   "source": [
    "nfl[['Weight']].sort_values('Weight', ascending=False)[:5]"
   ]
  },
  {
   "cell_type": "markdown",
   "metadata": {},
   "source": [
    "- There seem to be no significantly large outliers because the data for both ends of the weight spectrum seem to be gradually increasing/decreasing."
   ]
  },
  {
   "cell_type": "markdown",
   "metadata": {},
   "source": [
    "### Does the distribution of weights depend on the position?"
   ]
  },
  {
   "cell_type": "code",
   "execution_count": 41,
   "metadata": {},
   "outputs": [
    {
     "data": {
      "text/plain": [
       "Index(['Jersey', 'Name', 'Position', 'Age', 'Height', 'Weight', 'Years',\n",
       "       'College', 'Team', 'Position Group', 'Side', 'Level'],\n",
       "      dtype='object')"
      ]
     },
     "execution_count": 41,
     "metadata": {},
     "output_type": "execute_result"
    }
   ],
   "source": [
    "nfl.columns"
   ]
  },
  {
   "cell_type": "code",
   "execution_count": 42,
   "metadata": {},
   "outputs": [
    {
     "data": {
      "text/html": [
       "<div>\n",
       "<style scoped>\n",
       "    .dataframe tbody tr th:only-of-type {\n",
       "        vertical-align: middle;\n",
       "    }\n",
       "\n",
       "    .dataframe tbody tr th {\n",
       "        vertical-align: top;\n",
       "    }\n",
       "\n",
       "    .dataframe thead th {\n",
       "        text-align: right;\n",
       "    }\n",
       "</style>\n",
       "<table border=\"1\" class=\"dataframe\">\n",
       "  <thead>\n",
       "    <tr style=\"text-align: right;\">\n",
       "      <th></th>\n",
       "      <th>Position</th>\n",
       "      <th>Weight</th>\n",
       "    </tr>\n",
       "  </thead>\n",
       "  <tbody>\n",
       "    <tr>\n",
       "      <th>0</th>\n",
       "      <td>DB</td>\n",
       "      <td>150</td>\n",
       "    </tr>\n",
       "    <tr>\n",
       "      <th>1</th>\n",
       "      <td>WR</td>\n",
       "      <td>155</td>\n",
       "    </tr>\n",
       "    <tr>\n",
       "      <th>2</th>\n",
       "      <td>WR</td>\n",
       "      <td>160</td>\n",
       "    </tr>\n",
       "    <tr>\n",
       "      <th>3</th>\n",
       "      <td>PK</td>\n",
       "      <td>160</td>\n",
       "    </tr>\n",
       "    <tr>\n",
       "      <th>4</th>\n",
       "      <td>CB</td>\n",
       "      <td>165</td>\n",
       "    </tr>\n",
       "  </tbody>\n",
       "</table>\n",
       "</div>"
      ],
      "text/plain": [
       "  Position  Weight\n",
       "0       DB     150\n",
       "1       WR     155\n",
       "2       WR     160\n",
       "3       PK     160\n",
       "4       CB     165"
      ]
     },
     "execution_count": 42,
     "metadata": {},
     "output_type": "execute_result"
    }
   ],
   "source": [
    "weight_position = nfl[['Position', 'Weight']]\n",
    "weight_position.head()"
   ]
  },
  {
   "cell_type": "code",
   "execution_count": 43,
   "metadata": {},
   "outputs": [],
   "source": [
    "# Histogramming the Distributions of Weights per Position"
   ]
  },
  {
   "cell_type": "code",
   "execution_count": 44,
   "metadata": {},
   "outputs": [
    {
     "data": {
      "image/png": "[encoded data removed]",
      "text/plain": [
       "<Figure size 1080x2880 with 24 Axes>"
      ]
     },
     "metadata": {},
     "output_type": "display_data"
    }
   ],
   "source": [
    "mpl.style.use('seaborn')\n",
    "_ = nfl.hist(column = ['Weight'], by= ['Position'], figsize = (15, 40), \n",
    "                     layout = (12, 2), sharey = False, sharex = False,\n",
    "                     bins = np.arange(150, 364, 5))"
   ]
  },
  {
   "cell_type": "markdown",
   "metadata": {},
   "source": [
    "- As we can see in the histograms above, the distribution of weights among players of different positions changes. Therefore, yes, the distribution of weights depends on the position."
   ]
  },
  {
   "cell_type": "markdown",
   "metadata": {},
   "source": [
    "# The making of a popular song..."
   ]
  },
  {
   "cell_type": "markdown",
   "metadata": {},
   "source": [
    "I'll use this music dataset to explore what goes into the making of a popular song."
   ]
  },
  {
   "cell_type": "markdown",
   "metadata": {},
   "source": [
    "https://think.cs.vt.edu/corgis/csv/music/music.html."
   ]
  },
  {
   "cell_type": "markdown",
   "metadata": {},
   "source": [
    "#### a) Understanding the data, cleaning..."
   ]
  },
  {
   "cell_type": "code",
   "execution_count": 46,
   "metadata": {},
   "outputs": [
    {
     "data": {
      "text/plain": [
       "((10000, 35),\n",
       " Index(['artist.hotttnesss', 'artist.id', 'artist.name', 'artist_mbtags',\n",
       "        'artist_mbtags_count', 'bars_confidence', 'bars_start',\n",
       "        'beats_confidence', 'beats_start', 'duration', 'end_of_fade_in',\n",
       "        'familiarity', 'key', 'key_confidence', 'latitude', 'location',\n",
       "        'longitude', 'loudness', 'mode', 'mode_confidence', 'release.id',\n",
       "        'release.name', 'similar', 'song.hotttnesss', 'song.id',\n",
       "        'start_of_fade_out', 'tatums_confidence', 'tatums_start', 'tempo',\n",
       "        'terms', 'terms_freq', 'time_signature', 'time_signature_confidence',\n",
       "        'title', 'year'],\n",
       "       dtype='object'))"
      ]
     },
     "execution_count": 46,
     "metadata": {},
     "output_type": "execute_result"
    }
   ],
   "source": [
    "music = pd.read_csv('/users/elizabeth/downloads/music.csv')\n",
    "music.shape, music.columns"
   ]
  },
  {
   "cell_type": "code",
   "execution_count": 47,
   "metadata": {},
   "outputs": [],
   "source": [
    "music = music.rename(columns = {'terms' : 'genre'})"
   ]
  },
  {
   "cell_type": "code",
   "execution_count": 49,
   "metadata": {},
   "outputs": [
    {
     "name": "stdout",
     "output_type": "stream",
     "text": [
      "(10000, 35)\n"
     ]
    },
    {
     "data": {
      "text/html": [
       "<div>\n",
       "<style scoped>\n",
       "    .dataframe tbody tr th:only-of-type {\n",
       "        vertical-align: middle;\n",
       "    }\n",
       "\n",
       "    .dataframe tbody tr th {\n",
       "        vertical-align: top;\n",
       "    }\n",
       "\n",
       "    .dataframe thead th {\n",
       "        text-align: right;\n",
       "    }\n",
       "</style>\n",
       "<table border=\"1\" class=\"dataframe\">\n",
       "  <thead>\n",
       "    <tr style=\"text-align: right;\">\n",
       "      <th></th>\n",
       "      <th>artist.hotttnesss</th>\n",
       "      <th>artist.id</th>\n",
       "      <th>artist.name</th>\n",
       "      <th>artist_mbtags</th>\n",
       "      <th>artist_mbtags_count</th>\n",
       "      <th>bars_confidence</th>\n",
       "      <th>bars_start</th>\n",
       "      <th>beats_confidence</th>\n",
       "      <th>beats_start</th>\n",
       "      <th>duration</th>\n",
       "      <th>...</th>\n",
       "      <th>start_of_fade_out</th>\n",
       "      <th>tatums_confidence</th>\n",
       "      <th>tatums_start</th>\n",
       "      <th>tempo</th>\n",
       "      <th>genre</th>\n",
       "      <th>terms_freq</th>\n",
       "      <th>time_signature</th>\n",
       "      <th>time_signature_confidence</th>\n",
       "      <th>title</th>\n",
       "      <th>year</th>\n",
       "    </tr>\n",
       "  </thead>\n",
       "  <tbody>\n",
       "    <tr>\n",
       "      <th>0</th>\n",
       "      <td>0.401998</td>\n",
       "      <td>ARD7TVE1187B99BFB1</td>\n",
       "      <td>Casual</td>\n",
       "      <td>NaN</td>\n",
       "      <td>0.0</td>\n",
       "      <td>0.643</td>\n",
       "      <td>0.58521</td>\n",
       "      <td>0.834</td>\n",
       "      <td>0.58521</td>\n",
       "      <td>218.93179</td>\n",
       "      <td>...</td>\n",
       "      <td>218.932</td>\n",
       "      <td>0.779</td>\n",
       "      <td>0.28519</td>\n",
       "      <td>92.198</td>\n",
       "      <td>hip hop</td>\n",
       "      <td>1.000000</td>\n",
       "      <td>4.0</td>\n",
       "      <td>0.778</td>\n",
       "      <td>I Didn't Mean To</td>\n",
       "      <td>0</td>\n",
       "    </tr>\n",
       "    <tr>\n",
       "      <th>1</th>\n",
       "      <td>0.417500</td>\n",
       "      <td>ARMJAGH1187FB546F3</td>\n",
       "      <td>The Box Tops</td>\n",
       "      <td>classic pop and rock</td>\n",
       "      <td>1.0</td>\n",
       "      <td>0.007</td>\n",
       "      <td>0.71054</td>\n",
       "      <td>1.000</td>\n",
       "      <td>0.20627</td>\n",
       "      <td>148.03546</td>\n",
       "      <td>...</td>\n",
       "      <td>137.915</td>\n",
       "      <td>0.969</td>\n",
       "      <td>0.20627</td>\n",
       "      <td>121.274</td>\n",
       "      <td>blue-eyed soul</td>\n",
       "      <td>1.000000</td>\n",
       "      <td>4.0</td>\n",
       "      <td>0.384</td>\n",
       "      <td>Soul Deep</td>\n",
       "      <td>1969</td>\n",
       "    </tr>\n",
       "    <tr>\n",
       "      <th>2</th>\n",
       "      <td>0.343428</td>\n",
       "      <td>ARKRRTF1187B9984DA</td>\n",
       "      <td>Sonora Santanera</td>\n",
       "      <td>NaN</td>\n",
       "      <td>0.0</td>\n",
       "      <td>0.980</td>\n",
       "      <td>0.73152</td>\n",
       "      <td>0.980</td>\n",
       "      <td>0.73152</td>\n",
       "      <td>177.47546</td>\n",
       "      <td>...</td>\n",
       "      <td>172.304</td>\n",
       "      <td>0.482</td>\n",
       "      <td>0.42132</td>\n",
       "      <td>100.070</td>\n",
       "      <td>salsa</td>\n",
       "      <td>1.000000</td>\n",
       "      <td>1.0</td>\n",
       "      <td>0.000</td>\n",
       "      <td>Amor De Cabaret</td>\n",
       "      <td>0</td>\n",
       "    </tr>\n",
       "    <tr>\n",
       "      <th>3</th>\n",
       "      <td>0.454231</td>\n",
       "      <td>AR7G5I41187FB4CE6C</td>\n",
       "      <td>Adam Ant</td>\n",
       "      <td>uk</td>\n",
       "      <td>1.0</td>\n",
       "      <td>0.017</td>\n",
       "      <td>1.30621</td>\n",
       "      <td>0.809</td>\n",
       "      <td>0.81002</td>\n",
       "      <td>233.40363</td>\n",
       "      <td>...</td>\n",
       "      <td>217.124</td>\n",
       "      <td>0.601</td>\n",
       "      <td>0.56254</td>\n",
       "      <td>119.293</td>\n",
       "      <td>pop rock</td>\n",
       "      <td>0.988584</td>\n",
       "      <td>4.0</td>\n",
       "      <td>0.000</td>\n",
       "      <td>Something Girls</td>\n",
       "      <td>1982</td>\n",
       "    </tr>\n",
       "    <tr>\n",
       "      <th>4</th>\n",
       "      <td>0.401724</td>\n",
       "      <td>ARXR32B1187FB57099</td>\n",
       "      <td>Gob</td>\n",
       "      <td>NaN</td>\n",
       "      <td>0.0</td>\n",
       "      <td>0.175</td>\n",
       "      <td>1.06368</td>\n",
       "      <td>0.883</td>\n",
       "      <td>0.13576</td>\n",
       "      <td>209.60608</td>\n",
       "      <td>...</td>\n",
       "      <td>198.699</td>\n",
       "      <td>1.000</td>\n",
       "      <td>0.13576</td>\n",
       "      <td>129.738</td>\n",
       "      <td>pop punk</td>\n",
       "      <td>0.887288</td>\n",
       "      <td>4.0</td>\n",
       "      <td>0.562</td>\n",
       "      <td>Face the Ashes</td>\n",
       "      <td>2007</td>\n",
       "    </tr>\n",
       "  </tbody>\n",
       "</table>\n",
       "<p>5 rows × 35 columns</p>\n",
       "</div>"
      ],
      "text/plain": [
       "   artist.hotttnesss           artist.id       artist.name  \\\n",
       "0           0.401998  ARD7TVE1187B99BFB1            Casual   \n",
       "1           0.417500  ARMJAGH1187FB546F3      The Box Tops   \n",
       "2           0.343428  ARKRRTF1187B9984DA  Sonora Santanera   \n",
       "3           0.454231  AR7G5I41187FB4CE6C          Adam Ant   \n",
       "4           0.401724  ARXR32B1187FB57099               Gob   \n",
       "\n",
       "          artist_mbtags  artist_mbtags_count  bars_confidence  bars_start  \\\n",
       "0                   NaN                  0.0            0.643     0.58521   \n",
       "1  classic pop and rock                  1.0            0.007     0.71054   \n",
       "2                   NaN                  0.0            0.980     0.73152   \n",
       "3                    uk                  1.0            0.017     1.30621   \n",
       "4                   NaN                  0.0            0.175     1.06368   \n",
       "\n",
       "   beats_confidence  beats_start   duration  ...   start_of_fade_out  \\\n",
       "0             0.834      0.58521  218.93179  ...             218.932   \n",
       "1             1.000      0.20627  148.03546  ...             137.915   \n",
       "2             0.980      0.73152  177.47546  ...             172.304   \n",
       "3             0.809      0.81002  233.40363  ...             217.124   \n",
       "4             0.883      0.13576  209.60608  ...             198.699   \n",
       "\n",
       "   tatums_confidence  tatums_start    tempo           genre terms_freq  \\\n",
       "0              0.779       0.28519   92.198         hip hop   1.000000   \n",
       "1              0.969       0.20627  121.274  blue-eyed soul   1.000000   \n",
       "2              0.482       0.42132  100.070           salsa   1.000000   \n",
       "3              0.601       0.56254  119.293        pop rock   0.988584   \n",
       "4              1.000       0.13576  129.738        pop punk   0.887288   \n",
       "\n",
       "   time_signature  time_signature_confidence             title  year  \n",
       "0             4.0                      0.778  I Didn't Mean To     0  \n",
       "1             4.0                      0.384         Soul Deep  1969  \n",
       "2             1.0                      0.000   Amor De Cabaret     0  \n",
       "3             4.0                      0.000   Something Girls  1982  \n",
       "4             4.0                      0.562    Face the Ashes  2007  \n",
       "\n",
       "[5 rows x 35 columns]"
      ]
     },
     "execution_count": 49,
     "metadata": {},
     "output_type": "execute_result"
    }
   ],
   "source": [
    "print(music.shape)\n",
    "music.head(5)"
   ]
  },
  {
   "cell_type": "code",
   "execution_count": 50,
   "metadata": {},
   "outputs": [],
   "source": [
    "#removing songs where song.hottnesss is 0 (outliers)\n",
    "music = music[music['song.hotttnesss'] != 0]"
   ]
  },
  {
   "cell_type": "markdown",
   "metadata": {},
   "source": [
    "#### b. Who are the top 10 artists in terms of artist hotness?"
   ]
  },
  {
   "cell_type": "code",
   "execution_count": 51,
   "metadata": {},
   "outputs": [
    {
     "name": "stdout",
     "output_type": "stream",
     "text": [
      "These are the top 10 artists by hotness:\n",
      "Kanye West\n",
      "Kanye West / Adam Levine\n",
      "Kanye West / Lupe Fiasco\n",
      "Kanye West / Consequence / Cam'Ron\n",
      "Daft Punk\n",
      "Black Eyed Peas\n",
      "Black Eyed Peas / Terry Dexter\n",
      "Black Eyed Peas / Les Nubians / Mos Def\n",
      "Taylor Swift\n",
      "Coldplay\n"
     ]
    }
   ],
   "source": [
    "sorted_hot_artists = music.sort_values(['artist.hotttnesss'], ascending=False)\n",
    "top10 = sorted_hot_artists['artist.name'].unique()[:10]\n",
    "\n",
    "print('These are the top 10 artists by hotness:')\n",
    "for x in top10:\n",
    "    print(x)"
   ]
  },
  {
   "cell_type": "markdown",
   "metadata": {},
   "source": [
    "#### Which are the top 10 songs in terms of hotness?"
   ]
  },
  {
   "cell_type": "code",
   "execution_count": 52,
   "metadata": {},
   "outputs": [
    {
     "data": {
      "text/html": [
       "<div>\n",
       "<style scoped>\n",
       "    .dataframe tbody tr th:only-of-type {\n",
       "        vertical-align: middle;\n",
       "    }\n",
       "\n",
       "    .dataframe tbody tr th {\n",
       "        vertical-align: top;\n",
       "    }\n",
       "\n",
       "    .dataframe thead th {\n",
       "        text-align: right;\n",
       "    }\n",
       "</style>\n",
       "<table border=\"1\" class=\"dataframe\">\n",
       "  <thead>\n",
       "    <tr style=\"text-align: right;\">\n",
       "      <th></th>\n",
       "      <th>title</th>\n",
       "      <th>song.hotttnesss</th>\n",
       "      <th>artist.name</th>\n",
       "    </tr>\n",
       "  </thead>\n",
       "  <tbody>\n",
       "    <tr>\n",
       "      <th>9137</th>\n",
       "      <td>Immigrant Song (Album Version)</td>\n",
       "      <td>1.000000</td>\n",
       "      <td>Led Zeppelin</td>\n",
       "    </tr>\n",
       "    <tr>\n",
       "      <th>6437</th>\n",
       "      <td>Nothin' On You [feat. Bruno Mars] (Album Version)</td>\n",
       "      <td>1.000000</td>\n",
       "      <td>B.o.B</td>\n",
       "    </tr>\n",
       "    <tr>\n",
       "      <th>539</th>\n",
       "      <td>This Christmas (LP Version)</td>\n",
       "      <td>0.997758</td>\n",
       "      <td>Donny Hathaway</td>\n",
       "    </tr>\n",
       "    <tr>\n",
       "      <th>7847</th>\n",
       "      <td>If Today Was Your Last Day (Album Version)</td>\n",
       "      <td>0.984347</td>\n",
       "      <td>Nickelback</td>\n",
       "    </tr>\n",
       "    <tr>\n",
       "      <th>5699</th>\n",
       "      <td>Harder To Breathe</td>\n",
       "      <td>0.979837</td>\n",
       "      <td>Maroon 5</td>\n",
       "    </tr>\n",
       "    <tr>\n",
       "      <th>9724</th>\n",
       "      <td>Blue Orchid</td>\n",
       "      <td>0.972387</td>\n",
       "      <td>The White Stripes</td>\n",
       "    </tr>\n",
       "    <tr>\n",
       "      <th>3277</th>\n",
       "      <td>Just Say Yes</td>\n",
       "      <td>0.945995</td>\n",
       "      <td>Snow Patrol</td>\n",
       "    </tr>\n",
       "    <tr>\n",
       "      <th>6482</th>\n",
       "      <td>They Reminisce Over You (Single Version)</td>\n",
       "      <td>0.932274</td>\n",
       "      <td>Pete Rock &amp; C.L. Smooth</td>\n",
       "    </tr>\n",
       "    <tr>\n",
       "      <th>1354</th>\n",
       "      <td>Exogenesis: Symphony Part 1 [Overture]</td>\n",
       "      <td>0.931346</td>\n",
       "      <td>Muse</td>\n",
       "    </tr>\n",
       "    <tr>\n",
       "      <th>7917</th>\n",
       "      <td>Inertiatic Esp</td>\n",
       "      <td>0.928617</td>\n",
       "      <td>The Mars Volta</td>\n",
       "    </tr>\n",
       "  </tbody>\n",
       "</table>\n",
       "</div>"
      ],
      "text/plain": [
       "                                                  title  song.hotttnesss  \\\n",
       "9137                     Immigrant Song (Album Version)         1.000000   \n",
       "6437  Nothin' On You [feat. Bruno Mars] (Album Version)         1.000000   \n",
       "539                         This Christmas (LP Version)         0.997758   \n",
       "7847         If Today Was Your Last Day (Album Version)         0.984347   \n",
       "5699                                  Harder To Breathe         0.979837   \n",
       "9724                                        Blue Orchid         0.972387   \n",
       "3277                                       Just Say Yes         0.945995   \n",
       "6482           They Reminisce Over You (Single Version)         0.932274   \n",
       "1354             Exogenesis: Symphony Part 1 [Overture]         0.931346   \n",
       "7917                                     Inertiatic Esp         0.928617   \n",
       "\n",
       "                  artist.name  \n",
       "9137             Led Zeppelin  \n",
       "6437                    B.o.B  \n",
       "539            Donny Hathaway  \n",
       "7847               Nickelback  \n",
       "5699                 Maroon 5  \n",
       "9724        The White Stripes  \n",
       "3277              Snow Patrol  \n",
       "6482  Pete Rock & C.L. Smooth  \n",
       "1354                     Muse  \n",
       "7917           The Mars Volta  "
      ]
     },
     "execution_count": 52,
     "metadata": {},
     "output_type": "execute_result"
    }
   ],
   "source": [
    "song_hotness = music[['song.hotttnesss', 'artist.name', 'title']]\n",
    "top_10_songs = song_hotness.sort_values('song.hotttnesss', ascending = False)[:10]\n",
    "top_10_songs[['title', 'song.hotttnesss', 'artist.name']]"
   ]
  },
  {
   "cell_type": "markdown",
   "metadata": {},
   "source": [
    "- These are the top 10 songs in terms of hotness."
   ]
  },
  {
   "cell_type": "markdown",
   "metadata": {},
   "source": [
    "#### Investigating Tempo's Effect on Song Hotness."
   ]
  },
  {
   "cell_type": "code",
   "execution_count": 53,
   "metadata": {},
   "outputs": [],
   "source": [
    "music = music.dropna(subset = ['familiarity', 'song.hotttnesss'])"
   ]
  },
  {
   "cell_type": "code",
   "execution_count": 54,
   "metadata": {},
   "outputs": [
    {
     "data": {
      "text/plain": [
       "array([[1.        , 0.50648738],\n",
       "       [0.50648738, 1.        ]])"
      ]
     },
     "execution_count": 54,
     "metadata": {},
     "output_type": "execute_result"
    }
   ],
   "source": [
    "r = np.corrcoef(music['familiarity'], music['song.hotttnesss'])\n",
    "r"
   ]
  },
  {
   "cell_type": "markdown",
   "metadata": {},
   "source": [
    "- the correlation coefficient r, 0.5439, tells us that there is a significant relationship between familiarity and song hotness."
   ]
  },
  {
   "cell_type": "code",
   "execution_count": 55,
   "metadata": {},
   "outputs": [],
   "source": [
    "m, b = np.polyfit(music['familiarity'], music['song.hotttnesss'], 1)"
   ]
  },
  {
   "cell_type": "code",
   "execution_count": 56,
   "metadata": {},
   "outputs": [
    {
     "data": {
      "text/plain": [
       "Text(0,0.5,'hotness')"
      ]
     },
     "execution_count": 56,
     "metadata": {},
     "output_type": "execute_result"
    },
    {
     "data": {
      "image/png": "[encoded data removed]",
      "text/plain": [
       "<Figure size 720x360 with 1 Axes>"
      ]
     },
     "metadata": {},
     "output_type": "display_data"
    }
   ],
   "source": [
    "plt.figure(figsize=(10,5))\n",
    "\n",
    "plt.scatter(music['familiarity'], music['song.hotttnesss'], color = 'dodgerblue')\n",
    "\n",
    "#regression line\n",
    "xvals = np.arange(0, 1.1, 0.1)\n",
    "yvals = m * xvals + b \n",
    "plt.plot(xvals, yvals, color = 'navy')\n",
    "plt.title('Song Hotness by Familiarity', size = 'medium')\n",
    "plt.xlabel('familiarity')\n",
    "plt.ylabel('hotness')"
   ]
  },
  {
   "cell_type": "markdown",
   "metadata": {},
   "source": [
    "- The scatterplot shows that higher familiarity is significantly correlated with more popular songs; in general, the higher the familiarity, the hotter the song should be. This may be because people like to listen to songs over and over, familiar songs are catchy and easy to sing along to. "
   ]
  },
  {
   "cell_type": "markdown",
   "metadata": {},
   "source": [
    "#### Looking at Duration's Effect on Song Hotness.\n"
   ]
  },
  {
   "cell_type": "code",
   "execution_count": 57,
   "metadata": {},
   "outputs": [],
   "source": [
    "music = music.dropna(subset = ['duration', 'song.hotttnesss'])"
   ]
  },
  {
   "cell_type": "code",
   "execution_count": 58,
   "metadata": {},
   "outputs": [],
   "source": [
    "#removing that one nasty outlier song that lasted over 2,050 "
   ]
  },
  {
   "cell_type": "code",
   "execution_count": 59,
   "metadata": {},
   "outputs": [],
   "source": [
    "cleaned_music = music[music['duration'] < np.max(music['duration'])]"
   ]
  },
  {
   "cell_type": "code",
   "execution_count": 60,
   "metadata": {},
   "outputs": [
    {
     "data": {
      "text/plain": [
       "array([[ 1.00000000e+00, -4.76161607e-05],\n",
       "       [-4.76161607e-05,  1.00000000e+00]])"
      ]
     },
     "execution_count": 60,
     "metadata": {},
     "output_type": "execute_result"
    }
   ],
   "source": [
    "r = np.corrcoef(cleaned_music['duration'], cleaned_music['song.hotttnesss'])\n",
    "r"
   ]
  },
  {
   "cell_type": "code",
   "execution_count": 476,
   "metadata": {},
   "outputs": [
    {
     "data": {
      "text/plain": [
       "Text(0,0.5,'hotness')"
      ]
     },
     "execution_count": 476,
     "metadata": {},
     "output_type": "execute_result"
    },
    {
     "data": {
      "image/png": "[encoded data removed]",
      "text/plain": [
       "<Figure size 720x360 with 1 Axes>"
      ]
     },
     "metadata": {},
     "output_type": "display_data"
    }
   ],
   "source": [
    "plt.figure(figsize=(10,5))\n",
    "\n",
    "m, b = np.polyfit(cleaned_music['duration'], cleaned_music['song.hotttnesss'], 1)\n",
    "plt.scatter(cleaned_music['duration'], cleaned_music['song.hotttnesss'], color = 'royalblue')\n",
    "#regression line\n",
    "xvals = np.arange(0, 1760, 5)\n",
    "yvals = m * xvals + b \n",
    "plt.plot(xvals, yvals, color = 'k')\n",
    "plt.title('Song Hotness by Duration', size = 'medium')\n",
    "plt.xlabel('duration')\n",
    "plt.ylabel('hotness')"
   ]
  },
  {
   "cell_type": "markdown",
   "metadata": {},
   "source": [
    "- The scatter plot shows that as song duration increases past 750, there are fewer songs with high hotness. This is probably because people have short attention spans and like music in the 3 - 4 minute range; 30 minute songs are too long to hit the popular charts."
   ]
  },
  {
   "cell_type": "markdown",
   "metadata": {},
   "source": [
    "#### Key's Effect on Song Hotness?\n",
    "\n",
    "Does the key of a song affect it's hotness?"
   ]
  },
  {
   "cell_type": "code",
   "execution_count": 61,
   "metadata": {},
   "outputs": [],
   "source": [
    "music = music.dropna(subset = ['key', 'song.hotttnesss'])"
   ]
  },
  {
   "cell_type": "code",
   "execution_count": 62,
   "metadata": {},
   "outputs": [
    {
     "data": {
      "text/plain": [
       "array([[1.        , 0.00792963],\n",
       "       [0.00792963, 1.        ]])"
      ]
     },
     "execution_count": 62,
     "metadata": {},
     "output_type": "execute_result"
    }
   ],
   "source": [
    "r = np.corrcoef(music['key'], music['song.hotttnesss'])\n",
    "r"
   ]
  },
  {
   "cell_type": "code",
   "execution_count": 63,
   "metadata": {},
   "outputs": [],
   "source": [
    "#removing that one nasty outlier key:"
   ]
  },
  {
   "cell_type": "code",
   "execution_count": 64,
   "metadata": {},
   "outputs": [],
   "source": [
    "cleaned_music = music[music['key'] < np.max(music['key'])]"
   ]
  },
  {
   "cell_type": "code",
   "execution_count": 65,
   "metadata": {},
   "outputs": [
    {
     "data": {
      "text/plain": [
       "array([[1.        , 0.00123805],\n",
       "       [0.00123805, 1.        ]])"
      ]
     },
     "execution_count": 65,
     "metadata": {},
     "output_type": "execute_result"
    }
   ],
   "source": [
    "r = np.corrcoef(cleaned_music['key'], cleaned_music['song.hotttnesss'])\n",
    "r"
   ]
  },
  {
   "cell_type": "markdown",
   "metadata": {},
   "source": [
    "- The correlation coefficient 0.001238 tells us that there is basically no linear relationship between key and song hottness."
   ]
  },
  {
   "cell_type": "code",
   "execution_count": 66,
   "metadata": {},
   "outputs": [
    {
     "data": {
      "text/plain": [
       "Text(0,0.5,'hotness')"
      ]
     },
     "execution_count": 66,
     "metadata": {},
     "output_type": "execute_result"
    },
    {
     "data": {
      "image/png": "[encoded data removed]",
      "text/plain": [
       "<Figure size 720x360 with 1 Axes>"
      ]
     },
     "metadata": {},
     "output_type": "display_data"
    }
   ],
   "source": [
    "plt.figure(figsize=(10,5))\n",
    "\n",
    "m, b = np.polyfit(cleaned_music['key'], cleaned_music['song.hotttnesss'], 1)\n",
    "plt.scatter(cleaned_music['key'], cleaned_music['song.hotttnesss'], color = 'blue')\n",
    "#regression line\n",
    "xvals = np.arange(0, 10, 5)\n",
    "yvals = m * xvals + b \n",
    "plt.title('Song Hotness by Key', size = 'medium')\n",
    "plt.xlabel('key')\n",
    "plt.ylabel('hotness')"
   ]
  },
  {
   "cell_type": "markdown",
   "metadata": {},
   "source": [
    "- The scatter plot shows that there is generally an even distribution of hot songs by key. Therefore key has very little to no influence on the song's hotness."
   ]
  },
  {
   "cell_type": "markdown",
   "metadata": {},
   "source": [
    "#### Loudness' Effect on Song Hotness.\n"
   ]
  },
  {
   "cell_type": "code",
   "execution_count": 67,
   "metadata": {},
   "outputs": [],
   "source": [
    "music = music.dropna(subset = ['loudness', 'song.hotttnesss'])"
   ]
  },
  {
   "cell_type": "code",
   "execution_count": 68,
   "metadata": {},
   "outputs": [
    {
     "data": {
      "text/plain": [
       "array([[1.        , 0.21084245],\n",
       "       [0.21084245, 1.        ]])"
      ]
     },
     "execution_count": 68,
     "metadata": {},
     "output_type": "execute_result"
    }
   ],
   "source": [
    "r = np.corrcoef(music['loudness'], music['song.hotttnesss'])\n",
    "r"
   ]
  },
  {
   "cell_type": "markdown",
   "metadata": {},
   "source": [
    "- the correlation coefficient r, 0.22587, tells us that there is a very slight linear relationship between song loudness and song hotness."
   ]
  },
  {
   "cell_type": "code",
   "execution_count": 69,
   "metadata": {},
   "outputs": [
    {
     "data": {
      "text/plain": [
       "Text(0,0.5,'hotness')"
      ]
     },
     "execution_count": 69,
     "metadata": {},
     "output_type": "execute_result"
    },
    {
     "data": {
      "image/png": "[encoded data removed]",
      "text/plain": [
       "<Figure size 720x360 with 1 Axes>"
      ]
     },
     "metadata": {},
     "output_type": "display_data"
    }
   ],
   "source": [
    "plt.figure(figsize=(10,5))\n",
    "\n",
    "m, b = np.polyfit(music['loudness'], music['song.hotttnesss'], 1)\n",
    "plt.scatter(music['loudness'], music['song.hotttnesss'], color = 'dodgerblue')\n",
    "#regression line\n",
    "xvals = np.arange(-45, 0, 1)\n",
    "yvals = m * xvals + b \n",
    "plt.plot(xvals, yvals, color = 'navy')\n",
    "\n",
    "plt.title('Song Hotness by Loudness', size = 'medium')\n",
    "plt.xlabel('loudness')\n",
    "plt.ylabel('hotness')"
   ]
  },
  {
   "cell_type": "markdown",
   "metadata": {},
   "source": [
    "- The scatter plot shows that the number of hot songs is concentrated around louder songs;  loudness has somewhat of an influence on the song's hotness. This might be because loud songs are popular among young adults for dancing."
   ]
  },
  {
   "cell_type": "code",
   "execution_count": 70,
   "metadata": {},
   "outputs": [
    {
     "data": {
      "text/plain": [
       "Index(['artist.hotttnesss', 'artist.id', 'artist.name', 'artist_mbtags',\n",
       "       'artist_mbtags_count', 'bars_confidence', 'bars_start',\n",
       "       'beats_confidence', 'beats_start', 'duration', 'end_of_fade_in',\n",
       "       'familiarity', 'key', 'key_confidence', 'latitude', 'location',\n",
       "       'longitude', 'loudness', 'mode', 'mode_confidence', 'release.id',\n",
       "       'release.name', 'similar', 'song.hotttnesss', 'song.id',\n",
       "       'start_of_fade_out', 'tatums_confidence', 'tatums_start', 'tempo',\n",
       "       'genre', 'terms_freq', 'time_signature', 'time_signature_confidence',\n",
       "       'title', 'year'],\n",
       "      dtype='object')"
      ]
     },
     "execution_count": 70,
     "metadata": {},
     "output_type": "execute_result"
    }
   ],
   "source": [
    "music.columns"
   ]
  },
  {
   "cell_type": "markdown",
   "metadata": {},
   "source": [
    "#### Artist's hotness on song's hotness"
   ]
  },
  {
   "cell_type": "code",
   "execution_count": 71,
   "metadata": {},
   "outputs": [],
   "source": [
    "music = music.dropna(subset = ['artist.hotttnesss', 'song.hotttnesss'])"
   ]
  },
  {
   "cell_type": "code",
   "execution_count": 72,
   "metadata": {},
   "outputs": [
    {
     "data": {
      "text/plain": [
       "array([[1.        , 0.48418566],\n",
       "       [0.48418566, 1.        ]])"
      ]
     },
     "execution_count": 72,
     "metadata": {},
     "output_type": "execute_result"
    }
   ],
   "source": [
    "r = np.corrcoef(music['artist.hotttnesss'], music['song.hotttnesss'])\n",
    "r"
   ]
  },
  {
   "cell_type": "markdown",
   "metadata": {},
   "source": [
    "- The correlation coefficient r = 0.5223 shows that there is a relatively strong linear relationship between an artist's hotness and the song's hotness."
   ]
  },
  {
   "cell_type": "code",
   "execution_count": 73,
   "metadata": {},
   "outputs": [
    {
     "data": {
      "text/plain": [
       "Text(0,0.5,'song hotness')"
      ]
     },
     "execution_count": 73,
     "metadata": {},
     "output_type": "execute_result"
    },
    {
     "data": {
      "image/png": "[encoded data removed]",
      "text/plain": [
       "<Figure size 720x360 with 1 Axes>"
      ]
     },
     "metadata": {},
     "output_type": "display_data"
    }
   ],
   "source": [
    "plt.figure(figsize=(10,5))\n",
    "\n",
    "m, b = np.polyfit(music['artist.hotttnesss'], music['song.hotttnesss'], 1)\n",
    "plt.scatter(music['artist.hotttnesss'], music['song.hotttnesss'], color = 'royalblue')\n",
    "#regression line\n",
    "xvals = np.arange(0, 1.2, .1)\n",
    "yvals = m * xvals + b \n",
    "plt.plot(xvals, yvals, color = 'navy')\n",
    "\n",
    "plt.title('Song Hotness by Artist Hotness', size = 'medium')\n",
    "plt.xlabel('artist hotness')\n",
    "plt.ylabel('song hotness')"
   ]
  },
  {
   "cell_type": "markdown",
   "metadata": {},
   "source": [
    "- The scatterplot shows that there is a considerable relationship between an artist's hotness and their song's hotness. An explanation: the hotter an artist is, the larger their fanbase is. The larger the fanbase, the larger potential receptive audience for the song which means higher hotness."
   ]
  },
  {
   "cell_type": "markdown",
   "metadata": {},
   "source": [
    "#### Creating a multivariable linear regression model that helps predict song hotness!"
   ]
  },
  {
   "cell_type": "code",
   "execution_count": 74,
   "metadata": {},
   "outputs": [],
   "source": [
    "import statsmodels.api as sm"
   ]
  },
  {
   "cell_type": "code",
   "execution_count": 75,
   "metadata": {},
   "outputs": [
    {
     "data": {
      "text/html": [
       "<table class=\"simpletable\">\n",
       "<caption>OLS Regression Results</caption>\n",
       "<tr>\n",
       "  <th>Dep. Variable:</th>     <td>song.hotttnesss</td> <th>  R-squared:         </th> <td>   0.284</td> \n",
       "</tr>\n",
       "<tr>\n",
       "  <th>Model:</th>                   <td>OLS</td>       <th>  Adj. R-squared:    </th> <td>   0.283</td> \n",
       "</tr>\n",
       "<tr>\n",
       "  <th>Method:</th>             <td>Least Squares</td>  <th>  F-statistic:       </th> <td>   556.2</td> \n",
       "</tr>\n",
       "<tr>\n",
       "  <th>Date:</th>             <td>Wed, 19 Dec 2018</td> <th>  Prob (F-statistic):</th> <td>1.77e-304</td>\n",
       "</tr>\n",
       "<tr>\n",
       "  <th>Time:</th>                 <td>18:50:15</td>     <th>  Log-Likelihood:    </th> <td>  2235.4</td> \n",
       "</tr>\n",
       "<tr>\n",
       "  <th>No. Observations:</th>      <td>  4214</td>      <th>  AIC:               </th> <td>  -4463.</td> \n",
       "</tr>\n",
       "<tr>\n",
       "  <th>Df Residuals:</th>          <td>  4210</td>      <th>  BIC:               </th> <td>  -4437.</td> \n",
       "</tr>\n",
       "<tr>\n",
       "  <th>Df Model:</th>              <td>     3</td>      <th>                     </th>     <td> </td>    \n",
       "</tr>\n",
       "<tr>\n",
       "  <th>Covariance Type:</th>      <td>nonrobust</td>    <th>                     </th>     <td> </td>    \n",
       "</tr>\n",
       "</table>\n",
       "<table class=\"simpletable\">\n",
       "<tr>\n",
       "          <td></td>             <th>coef</th>     <th>std err</th>      <th>t</th>      <th>P>|t|</th>  <th>[0.025</th>    <th>0.975]</th>  \n",
       "</tr>\n",
       "<tr>\n",
       "  <th>const</th>             <td>    0.1273</td> <td>    0.012</td> <td>   10.693</td> <td> 0.000</td> <td>    0.104</td> <td>    0.151</td>\n",
       "</tr>\n",
       "<tr>\n",
       "  <th>artist.hotttnesss</th> <td>    0.3121</td> <td>    0.030</td> <td>   10.367</td> <td> 0.000</td> <td>    0.253</td> <td>    0.371</td>\n",
       "</tr>\n",
       "<tr>\n",
       "  <th>familiarity</th>       <td>    0.3652</td> <td>    0.026</td> <td>   14.274</td> <td> 0.000</td> <td>    0.315</td> <td>    0.415</td>\n",
       "</tr>\n",
       "<tr>\n",
       "  <th>loudness</th>          <td>    0.0032</td> <td>    0.000</td> <td>    7.214</td> <td> 0.000</td> <td>    0.002</td> <td>    0.004</td>\n",
       "</tr>\n",
       "</table>\n",
       "<table class=\"simpletable\">\n",
       "<tr>\n",
       "  <th>Omnibus:</th>       <td>52.849</td> <th>  Durbin-Watson:     </th> <td>   2.012</td>\n",
       "</tr>\n",
       "<tr>\n",
       "  <th>Prob(Omnibus):</th> <td> 0.000</td> <th>  Jarque-Bera (JB):  </th> <td>  39.264</td>\n",
       "</tr>\n",
       "<tr>\n",
       "  <th>Skew:</th>          <td> 0.139</td> <th>  Prob(JB):          </th> <td>2.98e-09</td>\n",
       "</tr>\n",
       "<tr>\n",
       "  <th>Kurtosis:</th>      <td> 2.617</td> <th>  Cond. No.          </th> <td>    186.</td>\n",
       "</tr>\n",
       "</table><br/><br/>Warnings:<br/>[1] Standard Errors assume that the covariance matrix of the errors is correctly specified."
      ],
      "text/plain": [
       "<class 'statsmodels.iolib.summary.Summary'>\n",
       "\"\"\"\n",
       "                            OLS Regression Results                            \n",
       "==============================================================================\n",
       "Dep. Variable:        song.hotttnesss   R-squared:                       0.284\n",
       "Model:                            OLS   Adj. R-squared:                  0.283\n",
       "Method:                 Least Squares   F-statistic:                     556.2\n",
       "Date:                Wed, 19 Dec 2018   Prob (F-statistic):          1.77e-304\n",
       "Time:                        18:50:15   Log-Likelihood:                 2235.4\n",
       "No. Observations:                4214   AIC:                            -4463.\n",
       "Df Residuals:                    4210   BIC:                            -4437.\n",
       "Df Model:                           3                                         \n",
       "Covariance Type:            nonrobust                                         \n",
       "=====================================================================================\n",
       "                        coef    std err          t      P>|t|      [0.025      0.975]\n",
       "-------------------------------------------------------------------------------------\n",
       "const                 0.1273      0.012     10.693      0.000       0.104       0.151\n",
       "artist.hotttnesss     0.3121      0.030     10.367      0.000       0.253       0.371\n",
       "familiarity           0.3652      0.026     14.274      0.000       0.315       0.415\n",
       "loudness              0.0032      0.000      7.214      0.000       0.002       0.004\n",
       "==============================================================================\n",
       "Omnibus:                       52.849   Durbin-Watson:                   2.012\n",
       "Prob(Omnibus):                  0.000   Jarque-Bera (JB):               39.264\n",
       "Skew:                           0.139   Prob(JB):                     2.98e-09\n",
       "Kurtosis:                       2.617   Cond. No.                         186.\n",
       "==============================================================================\n",
       "\n",
       "Warnings:\n",
       "[1] Standard Errors assume that the covariance matrix of the errors is correctly specified.\n",
       "\"\"\""
      ]
     },
     "execution_count": 75,
     "metadata": {},
     "output_type": "execute_result"
    }
   ],
   "source": [
    "# create a df of the independent variables\n",
    "X = music[['artist.hotttnesss', 'familiarity', 'loudness']]\n",
    "# dependent variable. what are we predicting?\n",
    "y = music['song.hotttnesss']\n",
    "\n",
    "#we are fitting y = ax_1 + bx_2+ c and not just ax_1 + bx_2\n",
    "X = sm.add_constant(X) \n",
    "# OLS - ordinary least squares.\n",
    "# best possible hyperplane through the data\n",
    "# best = minimize sum of square distances\n",
    "est = sm.OLS(y, X).fit()\n",
    "est.summary()"
   ]
  },
  {
   "cell_type": "markdown",
   "metadata": {},
   "source": [
    "#### - The model is:\n",
    "\n",
    "##### predicted song hotness = 0.1273 + 0.3121x  + 0.3652y + 0.0032z  \n",
    "\n",
    ".... where x is the song artist's hotness, y is the song's familiarity, and z is the song's loudness."
   ]
  },
  {
   "cell_type": "markdown",
   "metadata": {
    "collapsed": true
   },
   "source": [
    "# Building a regression model to predict bodyfat"
   ]
  },
  {
   "cell_type": "code",
   "execution_count": 76,
   "metadata": {},
   "outputs": [],
   "source": [
    "bodyfat = pd.read_excel('/users/elizabeth/downloads/BodyFat.xls')"
   ]
  },
  {
   "cell_type": "code",
   "execution_count": 77,
   "metadata": {},
   "outputs": [
    {
     "data": {
      "text/html": [
       "<div>\n",
       "<style scoped>\n",
       "    .dataframe tbody tr th:only-of-type {\n",
       "        vertical-align: middle;\n",
       "    }\n",
       "\n",
       "    .dataframe tbody tr th {\n",
       "        vertical-align: top;\n",
       "    }\n",
       "\n",
       "    .dataframe thead th {\n",
       "        text-align: right;\n",
       "    }\n",
       "</style>\n",
       "<table border=\"1\" class=\"dataframe\">\n",
       "  <thead>\n",
       "    <tr style=\"text-align: right;\">\n",
       "      <th></th>\n",
       "      <th>IDNO</th>\n",
       "      <th>BODYFAT</th>\n",
       "      <th>DENSITY</th>\n",
       "      <th>AGE</th>\n",
       "      <th>WEIGHT</th>\n",
       "      <th>HEIGHT</th>\n",
       "      <th>ADIPOSITY</th>\n",
       "      <th>NECK</th>\n",
       "      <th>CHEST</th>\n",
       "      <th>ABDOMEN</th>\n",
       "      <th>HIP</th>\n",
       "      <th>THIGH</th>\n",
       "      <th>KNEE</th>\n",
       "      <th>ANKLE</th>\n",
       "      <th>BICEPS</th>\n",
       "      <th>FOREARM</th>\n",
       "      <th>WRIST</th>\n",
       "    </tr>\n",
       "  </thead>\n",
       "  <tbody>\n",
       "    <tr>\n",
       "      <th>0</th>\n",
       "      <td>1</td>\n",
       "      <td>12.6</td>\n",
       "      <td>1.0708</td>\n",
       "      <td>23</td>\n",
       "      <td>154.25</td>\n",
       "      <td>67.75</td>\n",
       "      <td>23.7</td>\n",
       "      <td>36.2</td>\n",
       "      <td>93.1</td>\n",
       "      <td>85.2</td>\n",
       "      <td>94.5</td>\n",
       "      <td>59.0</td>\n",
       "      <td>37.3</td>\n",
       "      <td>21.9</td>\n",
       "      <td>32.0</td>\n",
       "      <td>27.4</td>\n",
       "      <td>17.1</td>\n",
       "    </tr>\n",
       "    <tr>\n",
       "      <th>1</th>\n",
       "      <td>2</td>\n",
       "      <td>6.9</td>\n",
       "      <td>1.0853</td>\n",
       "      <td>22</td>\n",
       "      <td>173.25</td>\n",
       "      <td>72.25</td>\n",
       "      <td>23.4</td>\n",
       "      <td>38.5</td>\n",
       "      <td>93.6</td>\n",
       "      <td>83.0</td>\n",
       "      <td>98.7</td>\n",
       "      <td>58.7</td>\n",
       "      <td>37.3</td>\n",
       "      <td>23.4</td>\n",
       "      <td>30.5</td>\n",
       "      <td>28.9</td>\n",
       "      <td>18.2</td>\n",
       "    </tr>\n",
       "    <tr>\n",
       "      <th>2</th>\n",
       "      <td>3</td>\n",
       "      <td>24.6</td>\n",
       "      <td>1.0414</td>\n",
       "      <td>22</td>\n",
       "      <td>154.00</td>\n",
       "      <td>66.25</td>\n",
       "      <td>24.7</td>\n",
       "      <td>34.0</td>\n",
       "      <td>95.8</td>\n",
       "      <td>87.9</td>\n",
       "      <td>99.2</td>\n",
       "      <td>59.6</td>\n",
       "      <td>38.9</td>\n",
       "      <td>24.0</td>\n",
       "      <td>28.8</td>\n",
       "      <td>25.2</td>\n",
       "      <td>16.6</td>\n",
       "    </tr>\n",
       "    <tr>\n",
       "      <th>3</th>\n",
       "      <td>4</td>\n",
       "      <td>10.9</td>\n",
       "      <td>1.0751</td>\n",
       "      <td>26</td>\n",
       "      <td>184.75</td>\n",
       "      <td>72.25</td>\n",
       "      <td>24.9</td>\n",
       "      <td>37.4</td>\n",
       "      <td>101.8</td>\n",
       "      <td>86.4</td>\n",
       "      <td>101.2</td>\n",
       "      <td>60.1</td>\n",
       "      <td>37.3</td>\n",
       "      <td>22.8</td>\n",
       "      <td>32.4</td>\n",
       "      <td>29.4</td>\n",
       "      <td>18.2</td>\n",
       "    </tr>\n",
       "    <tr>\n",
       "      <th>4</th>\n",
       "      <td>5</td>\n",
       "      <td>27.8</td>\n",
       "      <td>1.0340</td>\n",
       "      <td>24</td>\n",
       "      <td>184.25</td>\n",
       "      <td>71.25</td>\n",
       "      <td>25.6</td>\n",
       "      <td>34.4</td>\n",
       "      <td>97.3</td>\n",
       "      <td>100.0</td>\n",
       "      <td>101.9</td>\n",
       "      <td>63.2</td>\n",
       "      <td>42.2</td>\n",
       "      <td>24.0</td>\n",
       "      <td>32.2</td>\n",
       "      <td>27.7</td>\n",
       "      <td>17.7</td>\n",
       "    </tr>\n",
       "  </tbody>\n",
       "</table>\n",
       "</div>"
      ],
      "text/plain": [
       "   IDNO  BODYFAT  DENSITY  AGE  WEIGHT  HEIGHT  ADIPOSITY  NECK  CHEST  \\\n",
       "0     1     12.6   1.0708   23  154.25   67.75       23.7  36.2   93.1   \n",
       "1     2      6.9   1.0853   22  173.25   72.25       23.4  38.5   93.6   \n",
       "2     3     24.6   1.0414   22  154.00   66.25       24.7  34.0   95.8   \n",
       "3     4     10.9   1.0751   26  184.75   72.25       24.9  37.4  101.8   \n",
       "4     5     27.8   1.0340   24  184.25   71.25       25.6  34.4   97.3   \n",
       "\n",
       "   ABDOMEN    HIP  THIGH  KNEE  ANKLE  BICEPS  FOREARM  WRIST  \n",
       "0     85.2   94.5   59.0  37.3   21.9    32.0     27.4   17.1  \n",
       "1     83.0   98.7   58.7  37.3   23.4    30.5     28.9   18.2  \n",
       "2     87.9   99.2   59.6  38.9   24.0    28.8     25.2   16.6  \n",
       "3     86.4  101.2   60.1  37.3   22.8    32.4     29.4   18.2  \n",
       "4    100.0  101.9   63.2  42.2   24.0    32.2     27.7   17.7  "
      ]
     },
     "execution_count": 77,
     "metadata": {},
     "output_type": "execute_result"
    }
   ],
   "source": [
    "bodyfat.head()"
   ]
  },
  {
   "cell_type": "code",
   "execution_count": 78,
   "metadata": {},
   "outputs": [],
   "source": [
    "def correlation(df, x, y):\n",
    "    # r = avg(standardize(x) * standardize(y))\n",
    "    x_std = standardize(df[x])\n",
    "    y_std = standardize(df[y])\n",
    "    return np.mean(x_std * y_std)"
   ]
  },
  {
   "cell_type": "code",
   "execution_count": 79,
   "metadata": {},
   "outputs": [
    {
     "name": "stdout",
     "output_type": "stream",
     "text": [
      "0.6131561100313141\n",
      "-0.9880867267228655\n",
      "0.7279941849205852\n",
      "0.7028851557124898\n",
      "0.8137062216427914\n",
      "0.6256999272610364\n",
      "0.561284376117438\n"
     ]
    }
   ],
   "source": [
    "# The variables below have significant correlations with bodyfat\n",
    "print(correlation(bodyfat, 'BODYFAT', 'WEIGHT'))\n",
    "print(correlation(bodyfat, 'BODYFAT', 'DENSITY'))\n",
    "print(correlation(bodyfat, 'BODYFAT', 'ADIPOSITY'))\n",
    "print(correlation(bodyfat, 'BODYFAT', 'CHEST'))\n",
    "print(correlation(bodyfat, 'BODYFAT', 'ABDOMEN'))\n",
    "print(correlation(bodyfat, 'BODYFAT', 'HIP'))\n",
    "print(correlation(bodyfat, 'BODYFAT', 'THIGH'))"
   ]
  },
  {
   "cell_type": "markdown",
   "metadata": {},
   "source": [
    "#### Making the linear regression model for bodyfat"
   ]
  },
  {
   "cell_type": "code",
   "execution_count": 80,
   "metadata": {},
   "outputs": [
    {
     "data": {
      "text/html": [
       "<table class=\"simpletable\">\n",
       "<caption>OLS Regression Results</caption>\n",
       "<tr>\n",
       "  <th>Dep. Variable:</th>         <td>BODYFAT</td>     <th>  R-squared:         </th> <td>   0.978</td> \n",
       "</tr>\n",
       "<tr>\n",
       "  <th>Model:</th>                   <td>OLS</td>       <th>  Adj. R-squared:    </th> <td>   0.978</td> \n",
       "</tr>\n",
       "<tr>\n",
       "  <th>Method:</th>             <td>Least Squares</td>  <th>  F-statistic:       </th> <td>   1566.</td> \n",
       "</tr>\n",
       "<tr>\n",
       "  <th>Date:</th>             <td>Wed, 19 Dec 2018</td> <th>  Prob (F-statistic):</th> <td>8.44e-199</td>\n",
       "</tr>\n",
       "<tr>\n",
       "  <th>Time:</th>                 <td>18:51:40</td>     <th>  Log-Likelihood:    </th> <td> -390.94</td> \n",
       "</tr>\n",
       "<tr>\n",
       "  <th>No. Observations:</th>      <td>   252</td>      <th>  AIC:               </th> <td>   797.9</td> \n",
       "</tr>\n",
       "<tr>\n",
       "  <th>Df Residuals:</th>          <td>   244</td>      <th>  BIC:               </th> <td>   826.1</td> \n",
       "</tr>\n",
       "<tr>\n",
       "  <th>Df Model:</th>              <td>     7</td>      <th>                     </th>     <td> </td>    \n",
       "</tr>\n",
       "<tr>\n",
       "  <th>Covariance Type:</th>      <td>nonrobust</td>    <th>                     </th>     <td> </td>    \n",
       "</tr>\n",
       "</table>\n",
       "<table class=\"simpletable\">\n",
       "<tr>\n",
       "      <td></td>         <th>coef</th>     <th>std err</th>      <th>t</th>      <th>P>|t|</th>  <th>[0.025</th>    <th>0.975]</th>  \n",
       "</tr>\n",
       "<tr>\n",
       "  <th>const</th>     <td>  415.1138</td> <td>    8.992</td> <td>   46.162</td> <td> 0.000</td> <td>  397.401</td> <td>  432.827</td>\n",
       "</tr>\n",
       "<tr>\n",
       "  <th>WEIGHT</th>    <td>   -0.0033</td> <td>    0.010</td> <td>   -0.332</td> <td> 0.740</td> <td>   -0.023</td> <td>    0.016</td>\n",
       "</tr>\n",
       "<tr>\n",
       "  <th>DENSITY</th>   <td> -381.1288</td> <td>    7.164</td> <td>  -53.202</td> <td> 0.000</td> <td> -395.240</td> <td> -367.018</td>\n",
       "</tr>\n",
       "<tr>\n",
       "  <th>ADIPOSITY</th> <td>   -0.0422</td> <td>    0.065</td> <td>   -0.646</td> <td> 0.519</td> <td>   -0.171</td> <td>    0.086</td>\n",
       "</tr>\n",
       "<tr>\n",
       "  <th>CHEST</th>     <td>    0.0338</td> <td>    0.028</td> <td>    1.202</td> <td> 0.230</td> <td>   -0.022</td> <td>    0.089</td>\n",
       "</tr>\n",
       "<tr>\n",
       "  <th>ABDOMEN</th>   <td>    0.0428</td> <td>    0.027</td> <td>    1.596</td> <td> 0.112</td> <td>   -0.010</td> <td>    0.096</td>\n",
       "</tr>\n",
       "<tr>\n",
       "  <th>HIP</th>       <td>    0.0214</td> <td>    0.037</td> <td>    0.573</td> <td> 0.567</td> <td>   -0.052</td> <td>    0.095</td>\n",
       "</tr>\n",
       "<tr>\n",
       "  <th>THIGH</th>     <td>   -0.0285</td> <td>    0.034</td> <td>   -0.834</td> <td> 0.405</td> <td>   -0.096</td> <td>    0.039</td>\n",
       "</tr>\n",
       "</table>\n",
       "<table class=\"simpletable\">\n",
       "<tr>\n",
       "  <th>Omnibus:</th>       <td>378.512</td> <th>  Durbin-Watson:     </th>  <td>   2.092</td> \n",
       "</tr>\n",
       "<tr>\n",
       "  <th>Prob(Omnibus):</th> <td> 0.000</td>  <th>  Jarque-Bera (JB):  </th> <td>117673.663</td>\n",
       "</tr>\n",
       "<tr>\n",
       "  <th>Skew:</th>          <td> 6.831</td>  <th>  Prob(JB):          </th>  <td>    0.00</td> \n",
       "</tr>\n",
       "<tr>\n",
       "  <th>Kurtosis:</th>      <td>107.978</td> <th>  Cond. No.          </th>  <td>3.99e+04</td> \n",
       "</tr>\n",
       "</table><br/><br/>Warnings:<br/>[1] Standard Errors assume that the covariance matrix of the errors is correctly specified.<br/>[2] The condition number is large, 3.99e+04. This might indicate that there are<br/>strong multicollinearity or other numerical problems."
      ],
      "text/plain": [
       "<class 'statsmodels.iolib.summary.Summary'>\n",
       "\"\"\"\n",
       "                            OLS Regression Results                            \n",
       "==============================================================================\n",
       "Dep. Variable:                BODYFAT   R-squared:                       0.978\n",
       "Model:                            OLS   Adj. R-squared:                  0.978\n",
       "Method:                 Least Squares   F-statistic:                     1566.\n",
       "Date:                Wed, 19 Dec 2018   Prob (F-statistic):          8.44e-199\n",
       "Time:                        18:51:40   Log-Likelihood:                -390.94\n",
       "No. Observations:                 252   AIC:                             797.9\n",
       "Df Residuals:                     244   BIC:                             826.1\n",
       "Df Model:                           7                                         \n",
       "Covariance Type:            nonrobust                                         \n",
       "==============================================================================\n",
       "                 coef    std err          t      P>|t|      [0.025      0.975]\n",
       "------------------------------------------------------------------------------\n",
       "const        415.1138      8.992     46.162      0.000     397.401     432.827\n",
       "WEIGHT        -0.0033      0.010     -0.332      0.740      -0.023       0.016\n",
       "DENSITY     -381.1288      7.164    -53.202      0.000    -395.240    -367.018\n",
       "ADIPOSITY     -0.0422      0.065     -0.646      0.519      -0.171       0.086\n",
       "CHEST          0.0338      0.028      1.202      0.230      -0.022       0.089\n",
       "ABDOMEN        0.0428      0.027      1.596      0.112      -0.010       0.096\n",
       "HIP            0.0214      0.037      0.573      0.567      -0.052       0.095\n",
       "THIGH         -0.0285      0.034     -0.834      0.405      -0.096       0.039\n",
       "==============================================================================\n",
       "Omnibus:                      378.512   Durbin-Watson:                   2.092\n",
       "Prob(Omnibus):                  0.000   Jarque-Bera (JB):           117673.663\n",
       "Skew:                           6.831   Prob(JB):                         0.00\n",
       "Kurtosis:                     107.978   Cond. No.                     3.99e+04\n",
       "==============================================================================\n",
       "\n",
       "Warnings:\n",
       "[1] Standard Errors assume that the covariance matrix of the errors is correctly specified.\n",
       "[2] The condition number is large, 3.99e+04. This might indicate that there are\n",
       "strong multicollinearity or other numerical problems.\n",
       "\"\"\""
      ]
     },
     "execution_count": 80,
     "metadata": {},
     "output_type": "execute_result"
    }
   ],
   "source": [
    "# create a df of the independent variables\n",
    "X = bodyfat[['WEIGHT', 'DENSITY', 'ADIPOSITY', 'CHEST', 'ABDOMEN', 'HIP', 'THIGH']]\n",
    "# dependent variable. what are we predicting?\n",
    "y = bodyfat['BODYFAT']\n",
    "\n",
    "X = sm.add_constant(X) \n",
    "# OLS - ordinary least squares.\n",
    "# best possible hyperplane through the data\n",
    "# best = minimize sum of square distances\n",
    "est = sm.OLS(y, X).fit()\n",
    "est.summary()"
   ]
  },
  {
   "cell_type": "markdown",
   "metadata": {},
   "source": [
    "#### - The model is:\n",
    "\n",
    "##### predicted bodyfat = 415.1138 - 0.0033x - 381.1288y - 0.0422z + 0.0338a + 0.0428b + 0.0214c - 0.0285d\n",
    "\n",
    ".... where x is the weight, y is the density, and z is the adiposity, a is the chest size, b is the abdomen size, c is the hip size, and d is the thigh size."
   ]
  }
 ],
 "metadata": {
  "kernelspec": {
   "display_name": "Python 3",
   "language": "python",
   "name": "python3"
  },
  "language_info": {
   "codemirror_mode": {
    "name": "ipython",
    "version": 3
   },
   "file_extension": ".py",
   "mimetype": "text/x-python",
   "name": "python",
   "nbconvert_exporter": "python",
   "pygments_lexer": "ipython3",
   "version": "3.6.5"
  }
 },
 "nbformat": 4,
 "nbformat_minor": 1
}
