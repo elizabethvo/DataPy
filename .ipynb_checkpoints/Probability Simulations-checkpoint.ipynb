{
 "cells": [
  {
   "cell_type": "markdown",
   "metadata": {},
   "source": [
    "# Exploring Probability Simulations"
   ]
  },
  {
   "cell_type": "code",
   "execution_count": 1,
   "metadata": {},
   "outputs": [],
   "source": [
    "import pandas as pd\n",
    "import numpy as np\n",
    "import matplotlib.pyplot as plt\n",
    "import matplotlib as mpl"
   ]
  },
  {
   "cell_type": "code",
   "execution_count": 2,
   "metadata": {},
   "outputs": [],
   "source": [
    "%matplotlib inline"
   ]
  },
  {
   "cell_type": "code",
   "execution_count": 3,
   "metadata": {},
   "outputs": [],
   "source": [
    "plt.style.use('fivethirtyeight')"
   ]
  },
  {
   "cell_type": "markdown",
   "metadata": {},
   "source": [
    "In order to ensure your plots are inline, make sure to run the matplotlib magic command. "
   ]
  },
  {
   "cell_type": "markdown",
   "metadata": {},
   "source": [
    "# Simulating 2 die rolls"
   ]
  },
  {
   "cell_type": "markdown",
   "metadata": {},
   "source": [
    "I'm interested in simulating the rolling of two dice to figure out\n",
    "1. The average value of the sum of two dice.\n",
    "2. The probability distribution of that sum."
   ]
  },
  {
   "cell_type": "code",
   "execution_count": 4,
   "metadata": {},
   "outputs": [],
   "source": [
    "for i in np.arange(1000):\n",
    "    num_trials = 1000\n",
    "    roll_1 = np.random.randint(1, 7, num_trials)\n",
    "    roll_2 = np.random.randint(1, 7, num_trials)\n",
    "    sum_rolls = roll_1 + roll_2\n",
    "    mean_sums = np.mean(sum_rolls)"
   ]
  },
  {
   "cell_type": "code",
   "execution_count": 5,
   "metadata": {},
   "outputs": [
    {
     "data": {
      "text/plain": [
       "7.006"
      ]
     },
     "execution_count": 5,
     "metadata": {},
     "output_type": "execute_result"
    }
   ],
   "source": [
    "mean_sums"
   ]
  },
  {
   "cell_type": "code",
   "execution_count": 6,
   "metadata": {},
   "outputs": [
    {
     "data": {
      "text/plain": [
       "array([ 6,  7,  7,  7, 11, 11,  8,  8,  3,  8,  7,  6,  7,  5,  5,  9, 11,\n",
       "       10,  6,  3])"
      ]
     },
     "execution_count": 6,
     "metadata": {},
     "output_type": "execute_result"
    }
   ],
   "source": [
    "sum_rolls[:20]"
   ]
  },
  {
   "cell_type": "code",
   "execution_count": 7,
   "metadata": {},
   "outputs": [
    {
     "name": "stderr",
     "output_type": "stream",
     "text": [
      "/anaconda3/lib/python3.6/site-packages/matplotlib/cbook/deprecation.py:107: MatplotlibDeprecationWarning: Passing one of 'on', 'true', 'off', 'false' as a boolean is deprecated; use an actual boolean (True/False) instead.\n",
      "  warnings.warn(message, mplDeprecation, stacklevel=1)\n"
     ]
    },
    {
     "data": {
      "text/plain": [
       "Text(0.5,1,'Frequency Dist. of Various Values of the Sum')"
      ]
     },
     "execution_count": 7,
     "metadata": {},
     "output_type": "execute_result"
    },
    {
     "data": {
      "image/png": "[encoded data removed]",
      "text/plain": [
       "<Figure size 504x360 with 1 Axes>"
      ]
     },
     "metadata": {},
     "output_type": "display_data"
    }
   ],
   "source": [
    "plt.figure(figsize = (7,5))\n",
    "plt.style.use('fivethirtyeight')\n",
    "n, bins, patches = plt.hist(sum_rolls, bins=len(np.unique(sum_rolls)), color = 'lightcoral', ec = 'black')\n",
    "plt.xlabel('Possible Values of Sums')\n",
    "plt.ylabel('Number of Occurrences')\n",
    "plt.grid('on')         \n",
    "plt.title('Frequency Dist. of Various Values of the Sum', size = 'medium')\n"
   ]
  },
  {
   "cell_type": "markdown",
   "metadata": {},
   "source": [
    "## Finding the probability of a poker flush via simulation"
   ]
  },
  {
   "cell_type": "markdown",
   "metadata": {},
   "source": [
    "### 5 card Poker \n",
    "\n",
    "I want to use simulations to figure out the probability of getting a flush in 5 card poker. I will do this by...\n",
    "\n",
    "1. Creating an array that has all the ranks of the cards. For aces we will use 1, for jacks 11, for queens 12, and for kings 13. \n",
    "2. Creating an array that has the 4 suits - 'H', 'D', 'S', 'C'.\n",
    "3. Creating a pandas dataframe that represents the entire deck using those 2 arrays\n",
    "4. Sampling from that list repeatedly simulating a 5-card hand. \n",
    "5. Checking sample to see if all the cards have the same suit. If so, I'll count it as a flush.\n",
    "6. Repeating the sampling process multiple times in order to estimate the required probability.\n",
    "\n"
   ]
  },
  {
   "cell_type": "code",
   "execution_count": 8,
   "metadata": {},
   "outputs": [],
   "source": [
    "card_ranks = np.arange(1, 14)"
   ]
  },
  {
   "cell_type": "code",
   "execution_count": 9,
   "metadata": {},
   "outputs": [],
   "source": [
    "suits = ['H', 'D', 'S', 'C']\n",
    "card_suits = np.array(suits)\n"
   ]
  },
  {
   "cell_type": "code",
   "execution_count": 10,
   "metadata": {},
   "outputs": [
    {
     "data": {
      "text/html": [
       "<div>\n",
       "<style scoped>\n",
       "    .dataframe tbody tr th:only-of-type {\n",
       "        vertical-align: middle;\n",
       "    }\n",
       "\n",
       "    .dataframe tbody tr th {\n",
       "        vertical-align: top;\n",
       "    }\n",
       "\n",
       "    .dataframe thead th {\n",
       "        text-align: right;\n",
       "    }\n",
       "</style>\n",
       "<table border=\"1\" class=\"dataframe\">\n",
       "  <thead>\n",
       "    <tr style=\"text-align: right;\">\n",
       "      <th></th>\n",
       "      <th>suits</th>\n",
       "      <th>ranks</th>\n",
       "    </tr>\n",
       "  </thead>\n",
       "  <tbody>\n",
       "    <tr>\n",
       "      <th>22</th>\n",
       "      <td>D</td>\n",
       "      <td>10</td>\n",
       "    </tr>\n",
       "    <tr>\n",
       "      <th>15</th>\n",
       "      <td>D</td>\n",
       "      <td>3</td>\n",
       "    </tr>\n",
       "    <tr>\n",
       "      <th>27</th>\n",
       "      <td>S</td>\n",
       "      <td>2</td>\n",
       "    </tr>\n",
       "    <tr>\n",
       "      <th>22</th>\n",
       "      <td>D</td>\n",
       "      <td>10</td>\n",
       "    </tr>\n",
       "    <tr>\n",
       "      <th>26</th>\n",
       "      <td>S</td>\n",
       "      <td>1</td>\n",
       "    </tr>\n",
       "  </tbody>\n",
       "</table>\n",
       "</div>"
      ],
      "text/plain": [
       "   suits  ranks\n",
       "22     D     10\n",
       "15     D      3\n",
       "27     S      2\n",
       "22     D     10\n",
       "26     S      1"
      ]
     },
     "execution_count": 10,
     "metadata": {},
     "output_type": "execute_result"
    }
   ],
   "source": [
    "suits = np.array(list(card_suits[0]) * len(card_ranks) + list(card_suits[1]) * len(card_ranks) \n",
    "         + list(card_suits[2]) * len(card_ranks) + list(card_suits[3]) * len(card_ranks))\n",
    "ranks = np.append(np.append(np.append(card_ranks, card_ranks), card_ranks), card_ranks)\n",
    "card_deck = pd.DataFrame({\"suits\" : suits, \"ranks\" : ranks})\n",
    "card_deck.sample(5, replace = True)"
   ]
  },
  {
   "cell_type": "code",
   "execution_count": 11,
   "metadata": {},
   "outputs": [
    {
     "data": {
      "text/plain": [
       "3"
      ]
     },
     "execution_count": 11,
     "metadata": {},
     "output_type": "execute_result"
    }
   ],
   "source": [
    "cards_draw = card_deck.sample(5, replace=True)\n",
    "len(np.unique(cards_draw['suits']))"
   ]
  },
  {
   "cell_type": "code",
   "execution_count": 12,
   "metadata": {},
   "outputs": [
    {
     "name": "stdout",
     "output_type": "stream",
     "text": [
      "The total number of flushes:\n",
      "199\n",
      "The prob of a flush out of 50000 simulations:\n",
      "0.00398\n"
     ]
    }
   ],
   "source": [
    "num_simulations = 50000\n",
    "#create an empty list called winnings\n",
    "num_flushes = 0\n",
    "for i in np.arange(num_simulations):\n",
    "    cards_draw = card_deck.sample(5, replace=True)\n",
    "    if len(np.unique(cards_draw['suits'])) == 1:\n",
    "        num_flushes = num_flushes + 1\n",
    "print('The total number of flushes:')        \n",
    "print(num_flushes)\n",
    "print('The prob of a flush out of 50000 simulations:')\n",
    "print(num_flushes / num_simulations)"
   ]
  },
  {
   "cell_type": "markdown",
   "metadata": {},
   "source": [
    "### What about a full house?"
   ]
  },
  {
   "cell_type": "markdown",
   "metadata": {},
   "source": [
    "I want to compute the probability of getting a full house (getting 3 cards of one kind and 2 other cards of a different kind)."
   ]
  },
  {
   "cell_type": "code",
   "execution_count": 13,
   "metadata": {},
   "outputs": [],
   "source": [
    "vect_str = np.vectorize(str)\n",
    "card_deck['ranks'] = vect_str(card_deck['ranks'])"
   ]
  },
  {
   "cell_type": "code",
   "execution_count": 14,
   "metadata": {},
   "outputs": [
    {
     "name": "stdout",
     "output_type": "stream",
     "text": [
      "The total number of full houses:\n",
      "212\n",
      "The prob of a full house out of 50000 simulations:\n",
      "0.00424\n"
     ]
    }
   ],
   "source": [
    "num_simulations = 50000\n",
    "#create an empty list called winnings\n",
    "full_house_count = 0\n",
    "for i in np.arange(num_simulations):\n",
    "    cards_draw = card_deck.sample(5, replace=True)\n",
    "    if len(np.unique(cards_draw['ranks'])) == 2:\n",
    "        cards = np.array(cards_draw['ranks'])\n",
    "        card_1 = np.unique(cards)[0] #first card type\n",
    "        card_2 = np.unique(cards)[1] #second card type\n",
    "        two_of_card_1 = (list(cards).count(np.unique(cards)[0]) == 2) #boolean to check if there are 2 of card_1\n",
    "        two_of_card_2 = (list(cards).count(np.unique(cards)[1]) == 2) #boolean to check if there are 2 of card_2\n",
    "\n",
    "        # if there are 2 of the same card (either card_1 or card_2), it must be a full house.\n",
    "        if np.logical_or(two_of_card_1, two_of_card_2) == True:\n",
    "            full_house_count = full_house_count + 1\n",
    "print('The total number of full houses:')\n",
    "print(full_house_count)\n",
    "print('The prob of a full house out of 50000 simulations:')\n",
    "print(full_house_count / num_simulations)"
   ]
  },
  {
   "cell_type": "markdown",
   "metadata": {},
   "source": [
    "## Simulating the famous derangement/hat check problem."
   ]
  },
  {
   "cell_type": "markdown",
   "metadata": {},
   "source": [
    "Here's the premise:\n",
    "\n",
    "- A group of 20 people enter a restaurant and check their hats. \n",
    "\n",
    "- The hat-checker is absent minded, and upon leaving, they redistribute the hats back to the patrons at random.\n",
    "\n",
    "- I want to know how many people got their hats back. Since this is a random process, each time this experiment is conducted, we could have anywhere from 0 to 20 people getting their hats back. \n",
    "\n",
    "- I want to simulate the experiment and get a distribution for the number of people who get their hats back.\n"
   ]
  },
  {
   "cell_type": "markdown",
   "metadata": {},
   "source": [
    "#### Step 1 - Helper functions"
   ]
  },
  {
   "cell_type": "markdown",
   "metadata": {},
   "source": [
    "Writing a function called **arrange_hats** that takes in the number of patrons as an argument and then returns n samples (without replacement) as an array.\n",
    "\n",
    "For example,if n is 5 and the function returns the array [1, 3, 4, 5 ,2] this means person 1 gets hat 1 (their own hat), person 2 gets hat 3 and so on"
   ]
  },
  {
   "cell_type": "code",
   "execution_count": 15,
   "metadata": {},
   "outputs": [],
   "source": [
    "def arrange_hats(num_patrons):\n",
    "    num_patrons = np.arange(1, num_patrons + 1)\n",
    "    return np.random.choice(num_patrons, len(num_patrons), replace=False)"
   ]
  },
  {
   "cell_type": "code",
   "execution_count": 16,
   "metadata": {},
   "outputs": [
    {
     "data": {
      "text/plain": [
       "array([ 2,  7, 19, 11, 18,  5, 13, 16,  1,  4, 14, 20,  8,  9, 15,  6, 17,\n",
       "        3, 12, 10])"
      ]
     },
     "execution_count": 16,
     "metadata": {},
     "output_type": "execute_result"
    }
   ],
   "source": [
    "arrange_hats(20)"
   ]
  },
  {
   "cell_type": "markdown",
   "metadata": {},
   "source": [
    "Write a function called **num_happy_patrons** that figures out the number of patrons who got the correct hat back. The input to this function should be an array which has a random ordering of numbers from 1 to n and the output should be the number of places in the array where the ith element has the value i."
   ]
  },
  {
   "cell_type": "code",
   "execution_count": 17,
   "metadata": {},
   "outputs": [],
   "source": [
    "def num_happy_patrons(random_hats):\n",
    "    count_event = 0\n",
    "    for x in random_hats:\n",
    "        if x == random_hats[x - 1]: #weird x - 1 is because of indexing\n",
    "            count_event += 1\n",
    "    return(count_event)"
   ]
  },
  {
   "cell_type": "code",
   "execution_count": 18,
   "metadata": {},
   "outputs": [
    {
     "data": {
      "text/plain": [
       "0"
      ]
     },
     "execution_count": 18,
     "metadata": {},
     "output_type": "execute_result"
    }
   ],
   "source": [
    "num_happy_patrons(arrange_hats(20))"
   ]
  },
  {
   "cell_type": "markdown",
   "metadata": {},
   "source": [
    "#### Step 2 - Simulation "
   ]
  },
  {
   "cell_type": "markdown",
   "metadata": {},
   "source": [
    "Run the experiment 1000 times. Each time, I'll use my functions to figure out the number of patrons who got their hats back and store it in a dataframe. Then I'll plot the distribution (histogram) of the number of patrons who got their hats back."
   ]
  },
  {
   "cell_type": "code",
   "execution_count": 20,
   "metadata": {},
   "outputs": [
    {
     "name": "stderr",
     "output_type": "stream",
     "text": [
      "/anaconda3/lib/python3.6/site-packages/matplotlib/axes/_axes.py:6462: UserWarning: The 'normed' kwarg is deprecated, and has been replaced by the 'density' kwarg.\n",
      "  warnings.warn(\"The 'normed' kwarg is deprecated, and has been \"\n"
     ]
    },
    {
     "data": {
      "text/plain": [
       "Text(0.5,1,'Distribution of the number of patrons \\n who got their hats back')"
      ]
     },
     "execution_count": 20,
     "metadata": {},
     "output_type": "execute_result"
    },
    {
     "data": {
      "image/png": "[encoded data removed]",
      "text/plain": [
       "<Figure size 432x288 with 1 Axes>"
      ]
     },
     "metadata": {},
     "output_type": "display_data"
    }
   ],
   "source": [
    "num_patrons = 20\n",
    "iters = 10000\n",
    "happy_patrons_count = []\n",
    "for i in np.arange(iters):\n",
    "    random_hats = arrange_hats(num_patrons)\n",
    "    happy_patrons = num_happy_patrons(random_hats)\n",
    "    happy_patrons_count.append(happy_patrons)\n",
    "hat_check = pd.DataFrame({'Trial Number' : np.arange(1, iters + 1), 'Number of Happy Patrons' : happy_patrons_count})\n",
    "hat_check.head(10)\n",
    "n, bins, patches = plt.hist(hat_check['Number of Happy Patrons'], normed=True, bins = len(np.unique(happy_patrons_count)),\n",
    "                           color = 'lightcoral', ec = 'indigo')\n",
    "plt.xlabel('Possible numbers of patrons getting their hat back', size = 'medium')\n",
    "plt.ylabel('Respective Frequencies', size = 'medium')\n",
    "plt.title('Distribution of the number of patrons \\n who got their hats back', size = 'medium')"
   ]
  },
  {
   "cell_type": "markdown",
   "metadata": {},
   "source": [
    "- According to the histogram, the average number of people who get their hats back is 1."
   ]
  },
  {
   "cell_type": "markdown",
   "metadata": {},
   "source": [
    "#### Does this depend on the number of patrons?"
   ]
  },
  {
   "cell_type": "markdown",
   "metadata": {},
   "source": [
    "Re-running this experiment with 30 patrons. \n",
    "\n",
    "Does your distribution change dramatically? Do fewer people get their hats back?"
   ]
  },
  {
   "cell_type": "code",
   "execution_count": 21,
   "metadata": {},
   "outputs": [
    {
     "name": "stderr",
     "output_type": "stream",
     "text": [
      "/anaconda3/lib/python3.6/site-packages/matplotlib/axes/_axes.py:6462: UserWarning: The 'normed' kwarg is deprecated, and has been replaced by the 'density' kwarg.\n",
      "  warnings.warn(\"The 'normed' kwarg is deprecated, and has been \"\n"
     ]
    },
    {
     "data": {
      "text/plain": [
       "Text(0.5,1,'Distribution of the number of patrons \\n who got their hats back')"
      ]
     },
     "execution_count": 21,
     "metadata": {},
     "output_type": "execute_result"
    },
    {
     "data": {
      "image/png": "[encoded data removed]",
      "text/plain": [
       "<Figure size 432x288 with 1 Axes>"
      ]
     },
     "metadata": {},
     "output_type": "display_data"
    }
   ],
   "source": [
    "num_patrons = 30\n",
    "iters = 1000\n",
    "happy_patrons_count = []\n",
    "for i in np.arange(iters):\n",
    "    random_hats = arrange_hats(num_patrons)\n",
    "    happy_patrons = num_happy_patrons(random_hats)\n",
    "    happy_patrons_count.append(happy_patrons)\n",
    "hat_check = pd.DataFrame({'Trial Number' : np.arange(1, iters + 1), 'Number of Happy Patrons' : happy_patrons_count})\n",
    "hat_check.head(10)\n",
    "n, bins, patches = plt.hist(hat_check['Number of Happy Patrons'], normed=True, bins = len(np.unique(happy_patrons_count)),\n",
    "                           color = 'lightcoral', ec = 'indigo')\n",
    "plt.xlabel('Possible numbers of patrons getting their hat back', size = 'medium')\n",
    "plt.ylabel('Respective Frequencies', size = 'medium')\n",
    "plt.title('Distribution of the number of patrons \\n who got their hats back', size = 'medium')"
   ]
  },
  {
   "cell_type": "code",
   "execution_count": 22,
   "metadata": {},
   "outputs": [
    {
     "data": {
      "text/plain": [
       "0.951"
      ]
     },
     "execution_count": 22,
     "metadata": {},
     "output_type": "execute_result"
    }
   ],
   "source": [
    "np.mean(hat_check['Number of Happy Patrons'])"
   ]
  },
  {
   "cell_type": "markdown",
   "metadata": {},
   "source": [
    "- No, the distribution does not change dramatically."
   ]
  },
  {
   "cell_type": "markdown",
   "metadata": {},
   "source": [
    "# Estimating War Planes"
   ]
  },
  {
   "cell_type": "markdown",
   "metadata": {},
   "source": [
    "Here is the setup: The British Royal Air Force (RAF) want to know how many warplanes the Germans have.  They hypothesize that the Germans label their planes with serial numbers, starting from 1 for the first plane, and increasing by 1 for each new plane built.  That means that the number of planes the Germans have is equal to the largest serial number among their planes.  Let's call that number 'N'.\n",
    "\n",
    "The RAF make the further assumption that each time the Germans send a plane into combat, they send one of their planes chosen uniformly at random, and an RAF observer always reports its serial number.  (That's not really true, and it's not exactly what the RAF assumed, but it makes the math simpler for this example.)  \n",
    "\n",
    "Some planes might be observed several times, or not at all.  So if the Germans have 5 planes and send planes into combat 3 times, the RAF might observe the serial numbers 4, 1, and 4. Given a bunch of these random observations of serial numbers, the RAF want to estimate 'N'.We're going to simulate that sampling process and try out a few methods for estimating 'N'.  Then we'll check how well each method typically does at estimating 'N'."
   ]
  },
  {
   "cell_type": "markdown",
   "metadata": {},
   "source": [
    "Suppose that `N` is actually 150 (though the RAF don't know that) and we observe serial numbers 14 times."
   ]
  },
  {
   "cell_type": "markdown",
   "metadata": {},
   "source": [
    "### Part 1\n",
    "\n",
    "Writing a function called **'simulate_observations'** to simulate that by making an array of 14 random serial numbers from 1 to 150. The function should take no arguments and return the random array it generates.\n",
    "\n",
    "Next: setting a variable called observations to be the result of one call to simulate_observations."
   ]
  },
  {
   "cell_type": "code",
   "execution_count": 23,
   "metadata": {},
   "outputs": [],
   "source": [
    "def simulate_observations():\n",
    "    random_nums = np.random.randint(1, 151, 14)\n",
    "    return random_nums"
   ]
  },
  {
   "cell_type": "code",
   "execution_count": 24,
   "metadata": {},
   "outputs": [],
   "source": [
    "observations = simulate_observations()"
   ]
  },
  {
   "cell_type": "code",
   "execution_count": 25,
   "metadata": {},
   "outputs": [
    {
     "data": {
      "text/plain": [
       "array([140,  74,  23, 114,  83, 114,  69,  53,  66,  79,  78,  54,  59,\n",
       "        85])"
      ]
     },
     "execution_count": 25,
     "metadata": {},
     "output_type": "execute_result"
    }
   ],
   "source": [
    "observations"
   ]
  },
  {
   "cell_type": "markdown",
   "metadata": {},
   "source": [
    "### Part 2\n",
    "\n",
    "A straightforward way to estimate the biggest serial number is to find the biggest serial number among the serial numbers we managed to observe.  Use that method to estimate `N` from `observations`."
   ]
  },
  {
   "cell_type": "code",
   "execution_count": 26,
   "metadata": {},
   "outputs": [
    {
     "data": {
      "text/plain": [
       "140"
      ]
     },
     "execution_count": 26,
     "metadata": {},
     "output_type": "execute_result"
    }
   ],
   "source": [
    "max_estimate = np.max(observations)\n",
    "max_estimate"
   ]
  },
  {
   "cell_type": "markdown",
   "metadata": {},
   "source": [
    "### Part 3\n",
    "\n",
    "Here's another idea for an estimator. If we observe a bunch of numbers uniformly distributed between 1 and N, then the average of those observations is likely to be the middle of the numbers, which is roughly N/2.  So if we multiply the average of our observations by 2, we might get something close to N. \n",
    "\n",
    "Writing a function called **'mean_based_estimator'** that takes a single argument, an array of observed serial numbers.  It should return the mean (a.k.a. the average) of the numbers in that array, times two."
   ]
  },
  {
   "cell_type": "code",
   "execution_count": 27,
   "metadata": {},
   "outputs": [],
   "source": [
    "def mean_based_estimator(x):\n",
    "    estimate_of_n = (np.mean(x)) * 2\n",
    "    return estimate_of_n"
   ]
  },
  {
   "cell_type": "markdown",
   "metadata": {},
   "source": [
    "### Part 4 \n",
    "\n",
    "Using the mean_based_estimator to estimate N from observations. Call the result mean_based_estimate.\n",
    "\n",
    "Either max_estimate or mean_based_estimate could be closer to the actual value of N, depending on how the observations turned out.\n",
    "\n",
    "Rather than comparing them, it's more interesting to compare what would happen if we reproduced our 14 observations many times."
   ]
  },
  {
   "cell_type": "code",
   "execution_count": 29,
   "metadata": {},
   "outputs": [
    {
     "data": {
      "text/plain": [
       "155.85714285714286"
      ]
     },
     "execution_count": 29,
     "metadata": {},
     "output_type": "execute_result"
    }
   ],
   "source": [
    "mean_based_estimate = mean_based_estimator(observations)\n",
    "mean_based_estimate"
   ]
  },
  {
   "cell_type": "markdown",
   "metadata": {},
   "source": [
    "### Part 5\n",
    "\n",
    "Creating a dataframe called **estimates** with two columns named **\"max_estimate\"** and **\"mean_based_estimate\"**. Using a for loop , I simulate the following process 1,000 times.\n",
    "\n",
    "I'll estimate N using these two estimators, then append the two estimates to the estimates dataframe."
   ]
  },
  {
   "cell_type": "code",
   "execution_count": 30,
   "metadata": {},
   "outputs": [
    {
     "data": {
      "text/html": [
       "<div>\n",
       "<style scoped>\n",
       "    .dataframe tbody tr th:only-of-type {\n",
       "        vertical-align: middle;\n",
       "    }\n",
       "\n",
       "    .dataframe tbody tr th {\n",
       "        vertical-align: top;\n",
       "    }\n",
       "\n",
       "    .dataframe thead th {\n",
       "        text-align: right;\n",
       "    }\n",
       "</style>\n",
       "<table border=\"1\" class=\"dataframe\">\n",
       "  <thead>\n",
       "    <tr style=\"text-align: right;\">\n",
       "      <th></th>\n",
       "      <th>max_estimate</th>\n",
       "      <th>mean_based_estimate</th>\n",
       "    </tr>\n",
       "  </thead>\n",
       "  <tbody>\n",
       "    <tr>\n",
       "      <th>0</th>\n",
       "      <td>149</td>\n",
       "      <td>173.285714</td>\n",
       "    </tr>\n",
       "    <tr>\n",
       "      <th>1</th>\n",
       "      <td>136</td>\n",
       "      <td>153.285714</td>\n",
       "    </tr>\n",
       "    <tr>\n",
       "      <th>2</th>\n",
       "      <td>143</td>\n",
       "      <td>161.285714</td>\n",
       "    </tr>\n",
       "    <tr>\n",
       "      <th>3</th>\n",
       "      <td>132</td>\n",
       "      <td>130.857143</td>\n",
       "    </tr>\n",
       "    <tr>\n",
       "      <th>4</th>\n",
       "      <td>141</td>\n",
       "      <td>151.142857</td>\n",
       "    </tr>\n",
       "    <tr>\n",
       "      <th>5</th>\n",
       "      <td>144</td>\n",
       "      <td>139.857143</td>\n",
       "    </tr>\n",
       "    <tr>\n",
       "      <th>6</th>\n",
       "      <td>148</td>\n",
       "      <td>172.285714</td>\n",
       "    </tr>\n",
       "    <tr>\n",
       "      <th>7</th>\n",
       "      <td>139</td>\n",
       "      <td>147.857143</td>\n",
       "    </tr>\n",
       "    <tr>\n",
       "      <th>8</th>\n",
       "      <td>147</td>\n",
       "      <td>151.000000</td>\n",
       "    </tr>\n",
       "    <tr>\n",
       "      <th>9</th>\n",
       "      <td>145</td>\n",
       "      <td>150.285714</td>\n",
       "    </tr>\n",
       "    <tr>\n",
       "      <th>10</th>\n",
       "      <td>143</td>\n",
       "      <td>144.000000</td>\n",
       "    </tr>\n",
       "    <tr>\n",
       "      <th>11</th>\n",
       "      <td>137</td>\n",
       "      <td>154.000000</td>\n",
       "    </tr>\n",
       "    <tr>\n",
       "      <th>12</th>\n",
       "      <td>116</td>\n",
       "      <td>118.000000</td>\n",
       "    </tr>\n",
       "    <tr>\n",
       "      <th>13</th>\n",
       "      <td>124</td>\n",
       "      <td>140.857143</td>\n",
       "    </tr>\n",
       "    <tr>\n",
       "      <th>14</th>\n",
       "      <td>148</td>\n",
       "      <td>121.285714</td>\n",
       "    </tr>\n",
       "    <tr>\n",
       "      <th>15</th>\n",
       "      <td>138</td>\n",
       "      <td>130.857143</td>\n",
       "    </tr>\n",
       "    <tr>\n",
       "      <th>16</th>\n",
       "      <td>138</td>\n",
       "      <td>154.142857</td>\n",
       "    </tr>\n",
       "    <tr>\n",
       "      <th>17</th>\n",
       "      <td>138</td>\n",
       "      <td>150.714286</td>\n",
       "    </tr>\n",
       "    <tr>\n",
       "      <th>18</th>\n",
       "      <td>146</td>\n",
       "      <td>141.571429</td>\n",
       "    </tr>\n",
       "    <tr>\n",
       "      <th>19</th>\n",
       "      <td>118</td>\n",
       "      <td>145.000000</td>\n",
       "    </tr>\n",
       "    <tr>\n",
       "      <th>20</th>\n",
       "      <td>146</td>\n",
       "      <td>148.714286</td>\n",
       "    </tr>\n",
       "    <tr>\n",
       "      <th>21</th>\n",
       "      <td>147</td>\n",
       "      <td>186.428571</td>\n",
       "    </tr>\n",
       "    <tr>\n",
       "      <th>22</th>\n",
       "      <td>149</td>\n",
       "      <td>177.000000</td>\n",
       "    </tr>\n",
       "    <tr>\n",
       "      <th>23</th>\n",
       "      <td>150</td>\n",
       "      <td>192.142857</td>\n",
       "    </tr>\n",
       "    <tr>\n",
       "      <th>24</th>\n",
       "      <td>126</td>\n",
       "      <td>161.285714</td>\n",
       "    </tr>\n",
       "    <tr>\n",
       "      <th>25</th>\n",
       "      <td>147</td>\n",
       "      <td>170.571429</td>\n",
       "    </tr>\n",
       "    <tr>\n",
       "      <th>26</th>\n",
       "      <td>137</td>\n",
       "      <td>154.571429</td>\n",
       "    </tr>\n",
       "    <tr>\n",
       "      <th>27</th>\n",
       "      <td>149</td>\n",
       "      <td>177.285714</td>\n",
       "    </tr>\n",
       "    <tr>\n",
       "      <th>28</th>\n",
       "      <td>150</td>\n",
       "      <td>182.428571</td>\n",
       "    </tr>\n",
       "    <tr>\n",
       "      <th>29</th>\n",
       "      <td>149</td>\n",
       "      <td>184.000000</td>\n",
       "    </tr>\n",
       "    <tr>\n",
       "      <th>...</th>\n",
       "      <td>...</td>\n",
       "      <td>...</td>\n",
       "    </tr>\n",
       "    <tr>\n",
       "      <th>970</th>\n",
       "      <td>145</td>\n",
       "      <td>193.714286</td>\n",
       "    </tr>\n",
       "    <tr>\n",
       "      <th>971</th>\n",
       "      <td>147</td>\n",
       "      <td>176.000000</td>\n",
       "    </tr>\n",
       "    <tr>\n",
       "      <th>972</th>\n",
       "      <td>126</td>\n",
       "      <td>90.714286</td>\n",
       "    </tr>\n",
       "    <tr>\n",
       "      <th>973</th>\n",
       "      <td>149</td>\n",
       "      <td>174.000000</td>\n",
       "    </tr>\n",
       "    <tr>\n",
       "      <th>974</th>\n",
       "      <td>144</td>\n",
       "      <td>148.428571</td>\n",
       "    </tr>\n",
       "    <tr>\n",
       "      <th>975</th>\n",
       "      <td>143</td>\n",
       "      <td>142.571429</td>\n",
       "    </tr>\n",
       "    <tr>\n",
       "      <th>976</th>\n",
       "      <td>140</td>\n",
       "      <td>172.000000</td>\n",
       "    </tr>\n",
       "    <tr>\n",
       "      <th>977</th>\n",
       "      <td>133</td>\n",
       "      <td>163.142857</td>\n",
       "    </tr>\n",
       "    <tr>\n",
       "      <th>978</th>\n",
       "      <td>128</td>\n",
       "      <td>107.571429</td>\n",
       "    </tr>\n",
       "    <tr>\n",
       "      <th>979</th>\n",
       "      <td>138</td>\n",
       "      <td>149.571429</td>\n",
       "    </tr>\n",
       "    <tr>\n",
       "      <th>980</th>\n",
       "      <td>149</td>\n",
       "      <td>149.857143</td>\n",
       "    </tr>\n",
       "    <tr>\n",
       "      <th>981</th>\n",
       "      <td>147</td>\n",
       "      <td>139.857143</td>\n",
       "    </tr>\n",
       "    <tr>\n",
       "      <th>982</th>\n",
       "      <td>111</td>\n",
       "      <td>119.000000</td>\n",
       "    </tr>\n",
       "    <tr>\n",
       "      <th>983</th>\n",
       "      <td>148</td>\n",
       "      <td>137.857143</td>\n",
       "    </tr>\n",
       "    <tr>\n",
       "      <th>984</th>\n",
       "      <td>116</td>\n",
       "      <td>138.857143</td>\n",
       "    </tr>\n",
       "    <tr>\n",
       "      <th>985</th>\n",
       "      <td>121</td>\n",
       "      <td>140.571429</td>\n",
       "    </tr>\n",
       "    <tr>\n",
       "      <th>986</th>\n",
       "      <td>147</td>\n",
       "      <td>142.285714</td>\n",
       "    </tr>\n",
       "    <tr>\n",
       "      <th>987</th>\n",
       "      <td>146</td>\n",
       "      <td>156.142857</td>\n",
       "    </tr>\n",
       "    <tr>\n",
       "      <th>988</th>\n",
       "      <td>145</td>\n",
       "      <td>140.285714</td>\n",
       "    </tr>\n",
       "    <tr>\n",
       "      <th>989</th>\n",
       "      <td>120</td>\n",
       "      <td>124.714286</td>\n",
       "    </tr>\n",
       "    <tr>\n",
       "      <th>990</th>\n",
       "      <td>143</td>\n",
       "      <td>119.285714</td>\n",
       "    </tr>\n",
       "    <tr>\n",
       "      <th>991</th>\n",
       "      <td>150</td>\n",
       "      <td>151.714286</td>\n",
       "    </tr>\n",
       "    <tr>\n",
       "      <th>992</th>\n",
       "      <td>123</td>\n",
       "      <td>125.000000</td>\n",
       "    </tr>\n",
       "    <tr>\n",
       "      <th>993</th>\n",
       "      <td>147</td>\n",
       "      <td>169.000000</td>\n",
       "    </tr>\n",
       "    <tr>\n",
       "      <th>994</th>\n",
       "      <td>124</td>\n",
       "      <td>139.857143</td>\n",
       "    </tr>\n",
       "    <tr>\n",
       "      <th>995</th>\n",
       "      <td>145</td>\n",
       "      <td>144.142857</td>\n",
       "    </tr>\n",
       "    <tr>\n",
       "      <th>996</th>\n",
       "      <td>144</td>\n",
       "      <td>155.285714</td>\n",
       "    </tr>\n",
       "    <tr>\n",
       "      <th>997</th>\n",
       "      <td>148</td>\n",
       "      <td>170.285714</td>\n",
       "    </tr>\n",
       "    <tr>\n",
       "      <th>998</th>\n",
       "      <td>149</td>\n",
       "      <td>145.571429</td>\n",
       "    </tr>\n",
       "    <tr>\n",
       "      <th>999</th>\n",
       "      <td>150</td>\n",
       "      <td>152.571429</td>\n",
       "    </tr>\n",
       "  </tbody>\n",
       "</table>\n",
       "<p>1000 rows × 2 columns</p>\n",
       "</div>"
      ],
      "text/plain": [
       "     max_estimate  mean_based_estimate\n",
       "0             149           173.285714\n",
       "1             136           153.285714\n",
       "2             143           161.285714\n",
       "3             132           130.857143\n",
       "4             141           151.142857\n",
       "5             144           139.857143\n",
       "6             148           172.285714\n",
       "7             139           147.857143\n",
       "8             147           151.000000\n",
       "9             145           150.285714\n",
       "10            143           144.000000\n",
       "11            137           154.000000\n",
       "12            116           118.000000\n",
       "13            124           140.857143\n",
       "14            148           121.285714\n",
       "15            138           130.857143\n",
       "16            138           154.142857\n",
       "17            138           150.714286\n",
       "18            146           141.571429\n",
       "19            118           145.000000\n",
       "20            146           148.714286\n",
       "21            147           186.428571\n",
       "22            149           177.000000\n",
       "23            150           192.142857\n",
       "24            126           161.285714\n",
       "25            147           170.571429\n",
       "26            137           154.571429\n",
       "27            149           177.285714\n",
       "28            150           182.428571\n",
       "29            149           184.000000\n",
       "..            ...                  ...\n",
       "970           145           193.714286\n",
       "971           147           176.000000\n",
       "972           126            90.714286\n",
       "973           149           174.000000\n",
       "974           144           148.428571\n",
       "975           143           142.571429\n",
       "976           140           172.000000\n",
       "977           133           163.142857\n",
       "978           128           107.571429\n",
       "979           138           149.571429\n",
       "980           149           149.857143\n",
       "981           147           139.857143\n",
       "982           111           119.000000\n",
       "983           148           137.857143\n",
       "984           116           138.857143\n",
       "985           121           140.571429\n",
       "986           147           142.285714\n",
       "987           146           156.142857\n",
       "988           145           140.285714\n",
       "989           120           124.714286\n",
       "990           143           119.285714\n",
       "991           150           151.714286\n",
       "992           123           125.000000\n",
       "993           147           169.000000\n",
       "994           124           139.857143\n",
       "995           145           144.142857\n",
       "996           144           155.285714\n",
       "997           148           170.285714\n",
       "998           149           145.571429\n",
       "999           150           152.571429\n",
       "\n",
       "[1000 rows x 2 columns]"
      ]
     },
     "execution_count": 30,
     "metadata": {},
     "output_type": "execute_result"
    }
   ],
   "source": [
    "iters = 1000\n",
    "max_estimate_list = []\n",
    "mean_based_estimate_list = []\n",
    "\n",
    "for i in np.arange(iters):\n",
    "    observations = simulate_observations()\n",
    "    max_estimate = np.max(observations)\n",
    "    mean_based_estimate = mean_based_estimator(observations)\n",
    "    \n",
    "    max_estimate_list.append(max_estimate)\n",
    "    mean_based_estimate_list.append(mean_based_estimate)\n",
    "\n",
    "estimates = pd.DataFrame({'max_estimate' : max_estimate_list, \n",
    "                          'mean_based_estimate' : mean_based_estimate_list})  \n",
    "estimates"
   ]
  },
  {
   "cell_type": "markdown",
   "metadata": {},
   "source": [
    "### Part 6\n",
    "\n",
    "Visualizations"
   ]
  },
  {
   "cell_type": "code",
   "execution_count": 31,
   "metadata": {},
   "outputs": [
    {
     "data": {
      "text/plain": [
       "Text(0.5,1,'Max Estimate vs. Mean Based Estimate')"
      ]
     },
     "execution_count": 31,
     "metadata": {},
     "output_type": "execute_result"
    },
    {
     "data": {
      "image/png": "[encoded data removed]",
      "text/plain": [
       "<Figure size 720x360 with 1 Axes>"
      ]
     },
     "metadata": {},
     "output_type": "display_data"
    }
   ],
   "source": [
    "plt.figure(figsize = (10,5))\n",
    "\n",
    "n, max_bins, patches = plt.hist(estimates['mean_based_estimate'], bins = 20, \n",
    "                                color = 'slateblue', ec = 'black', label = 'Mean Based Estimate')\n",
    "n, bins, patches = plt.hist(estimates['max_estimate'], bins = max_bins, width = 5.5, ec = 'k',\n",
    "                            color = 'skyblue', alpha = 0.7, label = 'Max Estimate')\n",
    "plt.legend(loc='upper left')\n",
    "plt.title('Max Estimate vs. Mean Based Estimate')"
   ]
  },
  {
   "cell_type": "markdown",
   "metadata": {},
   "source": [
    "### Part 7 \n",
    "\n",
    "Observations..."
   ]
  },
  {
   "cell_type": "markdown",
   "metadata": {
    "collapsed": true
   },
   "source": [
    "- The two ways of estimating N give more different results as the values in the random observations array increase. This is because the maximum number that the array can generate is 150. The max_estimate method can only produce a number as big as 150. On the other hand, the mean_based_estimate approach takes the mean of the observations array and multiplies it by 2; if the mean of the observations trends high, that mean that the mean_based_estimate can also be very high (suppose that all the observed serial numbers are 150, then the mean is 150, and the mean_based_estimate could be as high as 300). "
   ]
  }
 ],
 "metadata": {
  "kernelspec": {
   "display_name": "Python 3",
   "language": "python",
   "name": "python3"
  },
  "language_info": {
   "codemirror_mode": {
    "name": "ipython",
    "version": 3
   },
   "file_extension": ".py",
   "mimetype": "text/x-python",
   "name": "python",
   "nbconvert_exporter": "python",
   "pygments_lexer": "ipython3",
   "version": "3.6.5"
  }
 },
 "nbformat": 4,
 "nbformat_minor": 1
}
