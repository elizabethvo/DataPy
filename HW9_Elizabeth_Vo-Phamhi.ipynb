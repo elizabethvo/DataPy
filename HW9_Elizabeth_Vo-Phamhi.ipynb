{
 "cells": [
  {
   "cell_type": "code",
   "execution_count": 1,
   "metadata": {},
   "outputs": [],
   "source": [
    "import numpy as np\n",
    "import pandas as pd\n",
    "from bs4 import BeautifulSoup\n",
    "import requests\n",
    "from bs4 import SoupStrainer\n",
    "import matplotlib.pyplot as plt"
   ]
  },
  {
   "cell_type": "code",
   "execution_count": 2,
   "metadata": {},
   "outputs": [],
   "source": [
    "%matplotlib inline"
   ]
  },
  {
   "cell_type": "markdown",
   "metadata": {},
   "source": [
    "# HW9 "
   ]
  },
  {
   "cell_type": "markdown",
   "metadata": {},
   "source": [
    "This HW deals with scraping data from https://homeatlastdogrescue.com/adoptable/, a website that has a number of puppies that are available for adoption.\n",
    "\n",
    "*This is a local area adoption agency. If you want a puppy, ....*"
   ]
  },
  {
   "cell_type": "markdown",
   "metadata": {},
   "source": [
    "As a first step visit the website and take a look at the raw HTML of that webpage. Remember that in order to do this, you right click on the page and either hit \"view page source\" or \"inspect element\".\n"
   ]
  },
  {
   "cell_type": "markdown",
   "metadata": {},
   "source": [
    "Now using Beautiful Soup, scrape this website for information that will help you create the following visualizations."
   ]
  },
  {
   "cell_type": "code",
   "execution_count": 31,
   "metadata": {},
   "outputs": [],
   "source": [
    "r = requests.get(\"https://homeatlastdogrescue.com/adoptable/\")"
   ]
  },
  {
   "cell_type": "code",
   "execution_count": 32,
   "metadata": {},
   "outputs": [],
   "source": [
    "soup = BeautifulSoup(r.text, 'html.parser')"
   ]
  },
  {
   "cell_type": "markdown",
   "metadata": {},
   "source": [
    "## Q1"
   ]
  },
  {
   "cell_type": "markdown",
   "metadata": {},
   "source": [
    "Plot a pie chart with the percent of male and female dogs that are up for adoption. \n"
   ]
  },
  {
   "cell_type": "code",
   "execution_count": 33,
   "metadata": {},
   "outputs": [
    {
     "data": {
      "text/plain": [
       "(103,\n",
       " [<a class=\"details\" href=\"dog_desc.php?ID=11060\" rel=\"dog_desc.php?ID=11060\" title=\"Dog Detail\"><h1>** SAVE A LIFE **</h1></a>,\n",
       "  <a class=\"details\" href=\"dog_desc.php?ID=9655\" rel=\"dog_desc.php?ID=9655\" title=\"Dog Detail\"><h1>*HELP Ronald Weasley*</h1></a>,\n",
       "  <a class=\"details\" href=\"dog_desc.php?ID=11384\" rel=\"dog_desc.php?ID=11384\" title=\"Dog Detail\"><h1>Aggie</h1></a>,\n",
       "  <a class=\"details\" href=\"dog_desc.php?ID=5632\" rel=\"dog_desc.php?ID=5632\" title=\"Dog Detail\"><h1>Alexander</h1></a>,\n",
       "  <a class=\"details\" href=\"dog_desc.php?ID=11381\" rel=\"dog_desc.php?ID=11381\" title=\"Dog Detail\"><h1>Alice</h1></a>])"
      ]
     },
     "execution_count": 33,
     "metadata": {},
     "output_type": "execute_result"
    }
   ],
   "source": [
    "urls = soup.find_all(\"a\", class_ = \"details\")\n",
    "len(urls), urls[:5]"
   ]
  },
  {
   "cell_type": "code",
   "execution_count": 34,
   "metadata": {},
   "outputs": [],
   "source": [
    "fetch_urls = []\n",
    "for x in urls:\n",
    "    base_url = 'https://homeatlastdogrescue.com/adoptable/'\n",
    "    url_str = str(x)\n",
    "    start = url_str.index('dog_desc')\n",
    "    end = url_str.index('\" rel')\n",
    "    new_url = url_str[start : end]\n",
    "    new_url = new_url.strip()\n",
    "    request_url = base_url + new_url\n",
    "    fetch_urls.append(request_url)"
   ]
  },
  {
   "cell_type": "code",
   "execution_count": 35,
   "metadata": {},
   "outputs": [],
   "source": [
    "fetch_urls = fetch_urls[1:]"
   ]
  },
  {
   "cell_type": "code",
   "execution_count": 36,
   "metadata": {},
   "outputs": [],
   "source": [
    "header_texts = []\n",
    "dog_soups = []\n",
    "for x in fetch_urls:\n",
    "    r = requests.get(x)\n",
    "    soup = BeautifulSoup(r.text, 'html.parser')\n",
    "    dog_soups.append(soup)\n",
    "for x in dog_soups:\n",
    "    header = x.find('h3').get_text()\n",
    "    header_texts.append(header)"
   ]
  },
  {
   "cell_type": "code",
   "execution_count": 37,
   "metadata": {},
   "outputs": [
    {
     "data": {
      "text/plain": [
       "['Baby Male Cavalier King Charles Spaniel',\n",
       " 'Baby Female Retriever',\n",
       " 'Adult Male Shepherd/Australian Shepherd mix\\r\\n',\n",
       " 'Baby Female Retriever',\n",
       " 'Baby Female Labrador Retriever']"
      ]
     },
     "execution_count": 37,
     "metadata": {},
     "output_type": "execute_result"
    }
   ],
   "source": [
    "header_texts[:5]"
   ]
  },
  {
   "cell_type": "code",
   "execution_count": 38,
   "metadata": {},
   "outputs": [],
   "source": [
    "genders = []\n",
    "for x in header_texts:\n",
    "    split_header = x.split(' ')\n",
    "    gender = split_header[1]\n",
    "    genders.append(gender)"
   ]
  },
  {
   "cell_type": "code",
   "execution_count": 39,
   "metadata": {},
   "outputs": [
    {
     "data": {
      "text/html": [
       "<div>\n",
       "<style scoped>\n",
       "    .dataframe tbody tr th:only-of-type {\n",
       "        vertical-align: middle;\n",
       "    }\n",
       "\n",
       "    .dataframe tbody tr th {\n",
       "        vertical-align: top;\n",
       "    }\n",
       "\n",
       "    .dataframe thead th {\n",
       "        text-align: right;\n",
       "    }\n",
       "</style>\n",
       "<table border=\"1\" class=\"dataframe\">\n",
       "  <thead>\n",
       "    <tr style=\"text-align: right;\">\n",
       "      <th></th>\n",
       "      <th>Dog</th>\n",
       "      <th>Gender</th>\n",
       "    </tr>\n",
       "  </thead>\n",
       "  <tbody>\n",
       "    <tr>\n",
       "      <th>0</th>\n",
       "      <td>Baby Male Cavalier King Charles Spaniel</td>\n",
       "      <td>Male</td>\n",
       "    </tr>\n",
       "    <tr>\n",
       "      <th>1</th>\n",
       "      <td>Baby Female Retriever</td>\n",
       "      <td>Female</td>\n",
       "    </tr>\n",
       "    <tr>\n",
       "      <th>2</th>\n",
       "      <td>Adult Male Shepherd/Australian Shepherd mix\\r\\n</td>\n",
       "      <td>Male</td>\n",
       "    </tr>\n",
       "    <tr>\n",
       "      <th>3</th>\n",
       "      <td>Baby Female Retriever</td>\n",
       "      <td>Female</td>\n",
       "    </tr>\n",
       "    <tr>\n",
       "      <th>4</th>\n",
       "      <td>Baby Female Labrador Retriever</td>\n",
       "      <td>Female</td>\n",
       "    </tr>\n",
       "    <tr>\n",
       "      <th>5</th>\n",
       "      <td>Baby Male Labrador Retriever</td>\n",
       "      <td>Male</td>\n",
       "    </tr>\n",
       "    <tr>\n",
       "      <th>6</th>\n",
       "      <td>Baby Female Retriever</td>\n",
       "      <td>Female</td>\n",
       "    </tr>\n",
       "    <tr>\n",
       "      <th>7</th>\n",
       "      <td>Baby Male Hound/Rat Terrier mix\\r\\n</td>\n",
       "      <td>Male</td>\n",
       "    </tr>\n",
       "    <tr>\n",
       "      <th>8</th>\n",
       "      <td>Young Female Pit Bull Terrier</td>\n",
       "      <td>Female</td>\n",
       "    </tr>\n",
       "    <tr>\n",
       "      <th>9</th>\n",
       "      <td>Senior Male Chihuahua/Poodle mix\\r\\n</td>\n",
       "      <td>Male</td>\n",
       "    </tr>\n",
       "    <tr>\n",
       "      <th>10</th>\n",
       "      <td>Baby Female Hound/Rat Terrier mix\\r\\n</td>\n",
       "      <td>Female</td>\n",
       "    </tr>\n",
       "    <tr>\n",
       "      <th>11</th>\n",
       "      <td>Young Female Rat Terrier</td>\n",
       "      <td>Female</td>\n",
       "    </tr>\n",
       "    <tr>\n",
       "      <th>12</th>\n",
       "      <td>Baby Male Hound/Rat Terrier mix\\r\\n</td>\n",
       "      <td>Male</td>\n",
       "    </tr>\n",
       "    <tr>\n",
       "      <th>13</th>\n",
       "      <td>Young Female Boxer</td>\n",
       "      <td>Female</td>\n",
       "    </tr>\n",
       "    <tr>\n",
       "      <th>14</th>\n",
       "      <td>Senior Female Chihuahua</td>\n",
       "      <td>Female</td>\n",
       "    </tr>\n",
       "    <tr>\n",
       "      <th>15</th>\n",
       "      <td>Adult Male Pit Bull Terrier</td>\n",
       "      <td>Male</td>\n",
       "    </tr>\n",
       "    <tr>\n",
       "      <th>16</th>\n",
       "      <td>Young Male Terrier</td>\n",
       "      <td>Male</td>\n",
       "    </tr>\n",
       "    <tr>\n",
       "      <th>17</th>\n",
       "      <td>Young Male Wirehaired Terrier</td>\n",
       "      <td>Male</td>\n",
       "    </tr>\n",
       "    <tr>\n",
       "      <th>18</th>\n",
       "      <td>Young Male Chihuahua</td>\n",
       "      <td>Male</td>\n",
       "    </tr>\n",
       "    <tr>\n",
       "      <th>19</th>\n",
       "      <td>Baby Male Terrier</td>\n",
       "      <td>Male</td>\n",
       "    </tr>\n",
       "    <tr>\n",
       "      <th>20</th>\n",
       "      <td>Adult Female Husky</td>\n",
       "      <td>Female</td>\n",
       "    </tr>\n",
       "    <tr>\n",
       "      <th>21</th>\n",
       "      <td>Young Female Border Collie</td>\n",
       "      <td>Female</td>\n",
       "    </tr>\n",
       "    <tr>\n",
       "      <th>22</th>\n",
       "      <td>Young Female Pit Bull Terrier</td>\n",
       "      <td>Female</td>\n",
       "    </tr>\n",
       "    <tr>\n",
       "      <th>23</th>\n",
       "      <td>Baby Female Labrador Retriever</td>\n",
       "      <td>Female</td>\n",
       "    </tr>\n",
       "    <tr>\n",
       "      <th>24</th>\n",
       "      <td>Baby Female Labrador Retriever</td>\n",
       "      <td>Female</td>\n",
       "    </tr>\n",
       "    <tr>\n",
       "      <th>25</th>\n",
       "      <td>Baby Female Labrador Retriever</td>\n",
       "      <td>Female</td>\n",
       "    </tr>\n",
       "    <tr>\n",
       "      <th>26</th>\n",
       "      <td>Adult Male Retriever</td>\n",
       "      <td>Male</td>\n",
       "    </tr>\n",
       "    <tr>\n",
       "      <th>27</th>\n",
       "      <td>Adult Male Shih Tzu/Schnauzer mix\\r\\n</td>\n",
       "      <td>Male</td>\n",
       "    </tr>\n",
       "    <tr>\n",
       "      <th>28</th>\n",
       "      <td>Baby Male Standard Poodle/Labrador Retriever m...</td>\n",
       "      <td>Male</td>\n",
       "    </tr>\n",
       "    <tr>\n",
       "      <th>29</th>\n",
       "      <td>Young Female Labrador Retriever</td>\n",
       "      <td>Female</td>\n",
       "    </tr>\n",
       "    <tr>\n",
       "      <th>...</th>\n",
       "      <td>...</td>\n",
       "      <td>...</td>\n",
       "    </tr>\n",
       "    <tr>\n",
       "      <th>72</th>\n",
       "      <td>Adult Female Pit Bull Terrier/Labrador Retriev...</td>\n",
       "      <td>Female</td>\n",
       "    </tr>\n",
       "    <tr>\n",
       "      <th>73</th>\n",
       "      <td>Adult Male Labrador Retriever/Hound mix\\r\\n</td>\n",
       "      <td>Male</td>\n",
       "    </tr>\n",
       "    <tr>\n",
       "      <th>74</th>\n",
       "      <td>Young Male Pit Bull Terrier</td>\n",
       "      <td>Male</td>\n",
       "    </tr>\n",
       "    <tr>\n",
       "      <th>75</th>\n",
       "      <td>Adult Male Hound</td>\n",
       "      <td>Male</td>\n",
       "    </tr>\n",
       "    <tr>\n",
       "      <th>76</th>\n",
       "      <td>Young Female Dachshund</td>\n",
       "      <td>Female</td>\n",
       "    </tr>\n",
       "    <tr>\n",
       "      <th>77</th>\n",
       "      <td>Adult Male Pit Bull Terrier</td>\n",
       "      <td>Male</td>\n",
       "    </tr>\n",
       "    <tr>\n",
       "      <th>78</th>\n",
       "      <td>Baby Male Labrador Retriever</td>\n",
       "      <td>Male</td>\n",
       "    </tr>\n",
       "    <tr>\n",
       "      <th>79</th>\n",
       "      <td>Adult Female Poodle</td>\n",
       "      <td>Female</td>\n",
       "    </tr>\n",
       "    <tr>\n",
       "      <th>80</th>\n",
       "      <td>Adult Male Dachshund</td>\n",
       "      <td>Male</td>\n",
       "    </tr>\n",
       "    <tr>\n",
       "      <th>81</th>\n",
       "      <td>Young Male Labrador Retriever</td>\n",
       "      <td>Male</td>\n",
       "    </tr>\n",
       "    <tr>\n",
       "      <th>82</th>\n",
       "      <td>Senior Male Poodle</td>\n",
       "      <td>Male</td>\n",
       "    </tr>\n",
       "    <tr>\n",
       "      <th>83</th>\n",
       "      <td>Senior Female English Cocker Spaniel</td>\n",
       "      <td>Female</td>\n",
       "    </tr>\n",
       "    <tr>\n",
       "      <th>84</th>\n",
       "      <td>Young Male Chinese Crested Dog</td>\n",
       "      <td>Male</td>\n",
       "    </tr>\n",
       "    <tr>\n",
       "      <th>85</th>\n",
       "      <td>Senior Female Beagle</td>\n",
       "      <td>Female</td>\n",
       "    </tr>\n",
       "    <tr>\n",
       "      <th>86</th>\n",
       "      <td>Young Male Shar Pei</td>\n",
       "      <td>Male</td>\n",
       "    </tr>\n",
       "    <tr>\n",
       "      <th>87</th>\n",
       "      <td>Female Pit Bull Terrier</td>\n",
       "      <td>Female</td>\n",
       "    </tr>\n",
       "    <tr>\n",
       "      <th>88</th>\n",
       "      <td>Baby Male Hound</td>\n",
       "      <td>Male</td>\n",
       "    </tr>\n",
       "    <tr>\n",
       "      <th>89</th>\n",
       "      <td>Adult Female Jack Russell Terrier</td>\n",
       "      <td>Female</td>\n",
       "    </tr>\n",
       "    <tr>\n",
       "      <th>90</th>\n",
       "      <td>Baby Male Rottweiler</td>\n",
       "      <td>Male</td>\n",
       "    </tr>\n",
       "    <tr>\n",
       "      <th>91</th>\n",
       "      <td>Adult Female Pomeranian</td>\n",
       "      <td>Female</td>\n",
       "    </tr>\n",
       "    <tr>\n",
       "      <th>92</th>\n",
       "      <td>Adult Male Black Labrador Retriever</td>\n",
       "      <td>Male</td>\n",
       "    </tr>\n",
       "    <tr>\n",
       "      <th>93</th>\n",
       "      <td>Young Female Labrador Retriever</td>\n",
       "      <td>Female</td>\n",
       "    </tr>\n",
       "    <tr>\n",
       "      <th>94</th>\n",
       "      <td>Young Female Hound</td>\n",
       "      <td>Female</td>\n",
       "    </tr>\n",
       "    <tr>\n",
       "      <th>95</th>\n",
       "      <td>Young Male Labrador Retriever</td>\n",
       "      <td>Male</td>\n",
       "    </tr>\n",
       "    <tr>\n",
       "      <th>96</th>\n",
       "      <td>Senior Male Jack Russell Terrier</td>\n",
       "      <td>Male</td>\n",
       "    </tr>\n",
       "    <tr>\n",
       "      <th>97</th>\n",
       "      <td>Young Male Bluetick Coonhound</td>\n",
       "      <td>Male</td>\n",
       "    </tr>\n",
       "    <tr>\n",
       "      <th>98</th>\n",
       "      <td>Young Female Labrador Retriever</td>\n",
       "      <td>Female</td>\n",
       "    </tr>\n",
       "    <tr>\n",
       "      <th>99</th>\n",
       "      <td>Young Male Shih Tzu</td>\n",
       "      <td>Male</td>\n",
       "    </tr>\n",
       "    <tr>\n",
       "      <th>100</th>\n",
       "      <td>Senior Female Chihuahua</td>\n",
       "      <td>Female</td>\n",
       "    </tr>\n",
       "    <tr>\n",
       "      <th>101</th>\n",
       "      <td>Adult Female Labrador Retriever</td>\n",
       "      <td>Female</td>\n",
       "    </tr>\n",
       "  </tbody>\n",
       "</table>\n",
       "<p>102 rows × 2 columns</p>\n",
       "</div>"
      ],
      "text/plain": [
       "                                                   Dog  Gender\n",
       "0              Baby Male Cavalier King Charles Spaniel    Male\n",
       "1                                Baby Female Retriever  Female\n",
       "2      Adult Male Shepherd/Australian Shepherd mix\\r\\n    Male\n",
       "3                                Baby Female Retriever  Female\n",
       "4                       Baby Female Labrador Retriever  Female\n",
       "5                         Baby Male Labrador Retriever    Male\n",
       "6                                Baby Female Retriever  Female\n",
       "7                  Baby Male Hound/Rat Terrier mix\\r\\n    Male\n",
       "8                        Young Female Pit Bull Terrier  Female\n",
       "9                 Senior Male Chihuahua/Poodle mix\\r\\n    Male\n",
       "10               Baby Female Hound/Rat Terrier mix\\r\\n  Female\n",
       "11                            Young Female Rat Terrier  Female\n",
       "12                 Baby Male Hound/Rat Terrier mix\\r\\n    Male\n",
       "13                                  Young Female Boxer  Female\n",
       "14                             Senior Female Chihuahua  Female\n",
       "15                         Adult Male Pit Bull Terrier    Male\n",
       "16                                  Young Male Terrier    Male\n",
       "17                       Young Male Wirehaired Terrier    Male\n",
       "18                                Young Male Chihuahua    Male\n",
       "19                                   Baby Male Terrier    Male\n",
       "20                                  Adult Female Husky  Female\n",
       "21                          Young Female Border Collie  Female\n",
       "22                       Young Female Pit Bull Terrier  Female\n",
       "23                      Baby Female Labrador Retriever  Female\n",
       "24                      Baby Female Labrador Retriever  Female\n",
       "25                      Baby Female Labrador Retriever  Female\n",
       "26                                Adult Male Retriever    Male\n",
       "27               Adult Male Shih Tzu/Schnauzer mix\\r\\n    Male\n",
       "28   Baby Male Standard Poodle/Labrador Retriever m...    Male\n",
       "29                     Young Female Labrador Retriever  Female\n",
       "..                                                 ...     ...\n",
       "72   Adult Female Pit Bull Terrier/Labrador Retriev...  Female\n",
       "73         Adult Male Labrador Retriever/Hound mix\\r\\n    Male\n",
       "74                         Young Male Pit Bull Terrier    Male\n",
       "75                                    Adult Male Hound    Male\n",
       "76                              Young Female Dachshund  Female\n",
       "77                         Adult Male Pit Bull Terrier    Male\n",
       "78                        Baby Male Labrador Retriever    Male\n",
       "79                                 Adult Female Poodle  Female\n",
       "80                                Adult Male Dachshund    Male\n",
       "81                       Young Male Labrador Retriever    Male\n",
       "82                                  Senior Male Poodle    Male\n",
       "83                Senior Female English Cocker Spaniel  Female\n",
       "84                      Young Male Chinese Crested Dog    Male\n",
       "85                                Senior Female Beagle  Female\n",
       "86                                 Young Male Shar Pei    Male\n",
       "87                             Female Pit Bull Terrier  Female\n",
       "88                                     Baby Male Hound    Male\n",
       "89                   Adult Female Jack Russell Terrier  Female\n",
       "90                                Baby Male Rottweiler    Male\n",
       "91                             Adult Female Pomeranian  Female\n",
       "92                 Adult Male Black Labrador Retriever    Male\n",
       "93                     Young Female Labrador Retriever  Female\n",
       "94                                  Young Female Hound  Female\n",
       "95                       Young Male Labrador Retriever    Male\n",
       "96                    Senior Male Jack Russell Terrier    Male\n",
       "97                       Young Male Bluetick Coonhound    Male\n",
       "98                     Young Female Labrador Retriever  Female\n",
       "99                                 Young Male Shih Tzu    Male\n",
       "100                            Senior Female Chihuahua  Female\n",
       "101                    Adult Female Labrador Retriever  Female\n",
       "\n",
       "[102 rows x 2 columns]"
      ]
     },
     "execution_count": 39,
     "metadata": {},
     "output_type": "execute_result"
    }
   ],
   "source": [
    "dogs = pd.DataFrame({ \"Dog\" : header_texts, \"Gender\" : genders})\n",
    "dogs"
   ]
  },
  {
   "cell_type": "code",
   "execution_count": 40,
   "metadata": {},
   "outputs": [],
   "source": [
    "grouped_genders = dogs.groupby(['Gender'], as_index = False)"
   ]
  },
  {
   "cell_type": "code",
   "execution_count": 41,
   "metadata": {},
   "outputs": [],
   "source": [
    "dogs_by_gender = grouped_genders.agg({'Dog' : 'count'})\n",
    "dogs_by_gender = dogs_by_gender.rename(columns = {\"Dog\" : \"number\"})"
   ]
  },
  {
   "cell_type": "code",
   "execution_count": 42,
   "metadata": {},
   "outputs": [],
   "source": [
    "male_vs_female = dogs_by_gender[np.logical_or(dogs_by_gender['Gender'] == 'Female', dogs_by_gender['Gender'] == 'Male')]"
   ]
  },
  {
   "cell_type": "code",
   "execution_count": 43,
   "metadata": {},
   "outputs": [
    {
     "data": {
      "text/html": [
       "<div>\n",
       "<style scoped>\n",
       "    .dataframe tbody tr th:only-of-type {\n",
       "        vertical-align: middle;\n",
       "    }\n",
       "\n",
       "    .dataframe tbody tr th {\n",
       "        vertical-align: top;\n",
       "    }\n",
       "\n",
       "    .dataframe thead th {\n",
       "        text-align: right;\n",
       "    }\n",
       "</style>\n",
       "<table border=\"1\" class=\"dataframe\">\n",
       "  <thead>\n",
       "    <tr style=\"text-align: right;\">\n",
       "      <th></th>\n",
       "      <th>Gender</th>\n",
       "      <th>number</th>\n",
       "    </tr>\n",
       "  </thead>\n",
       "  <tbody>\n",
       "    <tr>\n",
       "      <th>1</th>\n",
       "      <td>Female</td>\n",
       "      <td>49</td>\n",
       "    </tr>\n",
       "    <tr>\n",
       "      <th>2</th>\n",
       "      <td>Male</td>\n",
       "      <td>52</td>\n",
       "    </tr>\n",
       "  </tbody>\n",
       "</table>\n",
       "</div>"
      ],
      "text/plain": [
       "   Gender  number\n",
       "1  Female      49\n",
       "2    Male      52"
      ]
     },
     "execution_count": 43,
     "metadata": {},
     "output_type": "execute_result"
    }
   ],
   "source": [
    "male_vs_female"
   ]
  },
  {
   "cell_type": "code",
   "execution_count": 44,
   "metadata": {},
   "outputs": [
    {
     "data": {
      "text/plain": [
       "Text(0.5,1,'Percentages of Male and Female Dogs for Adoption')"
      ]
     },
     "execution_count": 44,
     "metadata": {},
     "output_type": "execute_result"
    },
    {
     "data": {
      "image/png": "[encoded data removed]",
      "text/plain": [
       "<Figure size 432x432 with 1 Axes>"
      ]
     },
     "metadata": {},
     "output_type": "display_data"
    }
   ],
   "source": [
    "plt.style.use('fivethirtyeight')\n",
    "fig = plt.figure(figsize = (6,6))\n",
    "sizes = male_vs_female['number']\n",
    "labels = male_vs_female['Gender']\n",
    "colors = [\"lightskyblue\", \"lightcoral\"]\n",
    "plt.pie(sizes, labels = labels, colors = colors, autopct='%1.4f%%')\n",
    "plt.title('Percentages of Male and Female Dogs for Adoption', size = 'medium')"
   ]
  },
  {
   "cell_type": "markdown",
   "metadata": {},
   "source": [
    "## Q2 "
   ]
  },
  {
   "cell_type": "markdown",
   "metadata": {},
   "source": [
    "Plot a graph that represents the number of adoptable dogs by breed. For this question please consider the complete breed. "
   ]
  },
  {
   "cell_type": "code",
   "execution_count": 45,
   "metadata": {},
   "outputs": [
    {
     "data": {
      "text/plain": [
       "['Baby Male Cavalier King Charles Spaniel',\n",
       " 'Baby Female Retriever',\n",
       " 'Adult Male Shepherd/Australian Shepherd mix\\r\\n',\n",
       " 'Baby Female Retriever',\n",
       " 'Baby Female Labrador Retriever']"
      ]
     },
     "execution_count": 45,
     "metadata": {},
     "output_type": "execute_result"
    }
   ],
   "source": [
    "header_texts[:5]"
   ]
  },
  {
   "cell_type": "code",
   "execution_count": 46,
   "metadata": {},
   "outputs": [],
   "source": [
    "breeds = []\n",
    "for x in header_texts:\n",
    "    split_header = x.split() #splitting the header with all the info we want\n",
    "    split_breed = split_header[2:]\n",
    "    breed = ' '.join(split_breed)\n",
    "    breeds.append(breed)"
   ]
  },
  {
   "cell_type": "code",
   "execution_count": 47,
   "metadata": {},
   "outputs": [
    {
     "data": {
      "text/plain": [
       "45"
      ]
     },
     "execution_count": 47,
     "metadata": {},
     "output_type": "execute_result"
    }
   ],
   "source": [
    "len(np.unique(breeds))"
   ]
  },
  {
   "cell_type": "code",
   "execution_count": 48,
   "metadata": {},
   "outputs": [],
   "source": [
    "dogs['breed'] = breeds"
   ]
  },
  {
   "cell_type": "code",
   "execution_count": 49,
   "metadata": {},
   "outputs": [
    {
     "data": {
      "text/html": [
       "<div>\n",
       "<style scoped>\n",
       "    .dataframe tbody tr th:only-of-type {\n",
       "        vertical-align: middle;\n",
       "    }\n",
       "\n",
       "    .dataframe tbody tr th {\n",
       "        vertical-align: top;\n",
       "    }\n",
       "\n",
       "    .dataframe thead th {\n",
       "        text-align: right;\n",
       "    }\n",
       "</style>\n",
       "<table border=\"1\" class=\"dataframe\">\n",
       "  <thead>\n",
       "    <tr style=\"text-align: right;\">\n",
       "      <th></th>\n",
       "      <th>Dog</th>\n",
       "      <th>Gender</th>\n",
       "      <th>breed</th>\n",
       "    </tr>\n",
       "  </thead>\n",
       "  <tbody>\n",
       "    <tr>\n",
       "      <th>0</th>\n",
       "      <td>Baby Male Cavalier King Charles Spaniel</td>\n",
       "      <td>Male</td>\n",
       "      <td>Cavalier King Charles Spaniel</td>\n",
       "    </tr>\n",
       "    <tr>\n",
       "      <th>1</th>\n",
       "      <td>Baby Female Retriever</td>\n",
       "      <td>Female</td>\n",
       "      <td>Retriever</td>\n",
       "    </tr>\n",
       "    <tr>\n",
       "      <th>2</th>\n",
       "      <td>Adult Male Shepherd/Australian Shepherd mix\\r\\n</td>\n",
       "      <td>Male</td>\n",
       "      <td>Shepherd/Australian Shepherd mix</td>\n",
       "    </tr>\n",
       "    <tr>\n",
       "      <th>3</th>\n",
       "      <td>Baby Female Retriever</td>\n",
       "      <td>Female</td>\n",
       "      <td>Retriever</td>\n",
       "    </tr>\n",
       "    <tr>\n",
       "      <th>4</th>\n",
       "      <td>Baby Female Labrador Retriever</td>\n",
       "      <td>Female</td>\n",
       "      <td>Labrador Retriever</td>\n",
       "    </tr>\n",
       "  </tbody>\n",
       "</table>\n",
       "</div>"
      ],
      "text/plain": [
       "                                               Dog  Gender  \\\n",
       "0          Baby Male Cavalier King Charles Spaniel    Male   \n",
       "1                            Baby Female Retriever  Female   \n",
       "2  Adult Male Shepherd/Australian Shepherd mix\\r\\n    Male   \n",
       "3                            Baby Female Retriever  Female   \n",
       "4                   Baby Female Labrador Retriever  Female   \n",
       "\n",
       "                              breed  \n",
       "0     Cavalier King Charles Spaniel  \n",
       "1                         Retriever  \n",
       "2  Shepherd/Australian Shepherd mix  \n",
       "3                         Retriever  \n",
       "4                Labrador Retriever  "
      ]
     },
     "execution_count": 49,
     "metadata": {},
     "output_type": "execute_result"
    }
   ],
   "source": [
    "dogs[:5]"
   ]
  },
  {
   "cell_type": "code",
   "execution_count": 50,
   "metadata": {},
   "outputs": [],
   "source": [
    "grouped_breeds = dogs.groupby(['breed'], as_index = False)"
   ]
  },
  {
   "cell_type": "code",
   "execution_count": 51,
   "metadata": {},
   "outputs": [],
   "source": [
    "dogs_by_breed = grouped_breeds.agg({'Dog' : 'count'})\n",
    "dogs_by_breed = dogs_by_breed.rename(columns = {'Dog' : 'number'})"
   ]
  },
  {
   "cell_type": "code",
   "execution_count": 53,
   "metadata": {},
   "outputs": [
    {
     "data": {
      "text/plain": [
       "<matplotlib.axes._subplots.AxesSubplot at 0x11efb1e80>"
      ]
     },
     "execution_count": 53,
     "metadata": {},
     "output_type": "execute_result"
    },
    {
     "data": {
      "image/png": "[encoded data removed]",
      "text/plain": [
       "<Figure size 1080x432 with 1 Axes>"
      ]
     },
     "metadata": {},
     "output_type": "display_data"
    }
   ],
   "source": [
    "dogs_by_breed.plot.bar(x = 'breed', y = 'number', figsize = (15,6), title = 'Number of Dogs per Breed')\n"
   ]
  },
  {
   "cell_type": "markdown",
   "metadata": {},
   "source": [
    "## Q3"
   ]
  },
  {
   "cell_type": "markdown",
   "metadata": {},
   "source": [
    "How many Labradors are up for adoption? How many Chihuahuas? What percentage of the adoptable dogs do they constitute? For this question, we will consider any dog that has a little bit of Labrador in them to be a Labrador. \n",
    "Similar consideration for the Chihuahuas."
   ]
  },
  {
   "cell_type": "markdown",
   "metadata": {
    "collapsed": true
   },
   "source": [
    "#### How many Labradors are up for adoption?"
   ]
  },
  {
   "cell_type": "code",
   "execution_count": 54,
   "metadata": {},
   "outputs": [
    {
     "name": "stdout",
     "output_type": "stream",
     "text": [
      "There are 24 Labradors up for adoption.\n",
      "The Labradors constitute 0.23529411764705882 percent of the adoptable dogs.\n"
     ]
    }
   ],
   "source": [
    "labradors = dogs[dogs['breed'].str.contains('Labrador')]\n",
    "labradors_percentage = len(labradors) / len(dogs)\n",
    "print('There are ' + str(len(labradors)) + ' Labradors up for adoption.')\n",
    "print('The Labradors constitute ' + str(labradors_percentage) + ' percent of the adoptable dogs.')"
   ]
  },
  {
   "cell_type": "markdown",
   "metadata": {},
   "source": [
    "#### How many Chihuahuas?"
   ]
  },
  {
   "cell_type": "code",
   "execution_count": 55,
   "metadata": {},
   "outputs": [
    {
     "name": "stdout",
     "output_type": "stream",
     "text": [
      "There are 5 Chihuahuas up for adoption.\n",
      "The Chihuahuas constitute 0.049019607843137254 percent of the adoptable dogs.\n"
     ]
    }
   ],
   "source": [
    "chihuahuas = dogs[dogs['breed'].str.contains('Chihuahua')]\n",
    "chihuahuas_percentage = len(chihuahuas) / len(dogs)\n",
    "\n",
    "print('There are ' + str(len(chihuahuas)) + ' Chihuahuas up for adoption.')\n",
    "print('The Chihuahuas constitute ' + str(chihuahuas_percentage) + ' percent of the adoptable dogs.')"
   ]
  },
  {
   "cell_type": "code",
   "execution_count": 211,
   "metadata": {},
   "outputs": [
    {
     "name": "stdout",
     "output_type": "stream",
     "text": [
      "Together, the Labs and Chihuahuas constitute 0.3675213675213675 percent of the adoptable dogs.\n"
     ]
    }
   ],
   "source": [
    "print('Together, the Labs and Chihuahuas constitute ' + str(labradors_percentage + chihuahuas_percentage) + ' percent of the adoptable dogs.')"
   ]
  },
  {
   "cell_type": "markdown",
   "metadata": {},
   "source": [
    "## Q4"
   ]
  },
  {
   "cell_type": "markdown",
   "metadata": {},
   "source": [
    "Get the names of all the officially recognized breeds as per the akc. \n",
    "Start from here http://www.akc.org/dog-breeds/?letter=A\n",
    "\n",
    "Store this into a dataframe.\n",
    "\n",
    "Next, use this information to figure out which of the officially recognized breeds shows up most commonly amongst the adoptable dogs (the adoptable dogs as per  https://homeatlastdogrescue.com/adoptable/) "
   ]
  },
  {
   "cell_type": "code",
   "execution_count": 104,
   "metadata": {},
   "outputs": [],
   "source": [
    "r = requests.get('https://www.akc.org/dog-breeds/?letter=A')\n",
    "soup = BeautifulSoup(r.text, 'html.parser')"
   ]
  },
  {
   "cell_type": "code",
   "execution_count": 105,
   "metadata": {},
   "outputs": [],
   "source": [
    "akc = soup.find_all('option')"
   ]
  },
  {
   "cell_type": "code",
   "execution_count": 106,
   "metadata": {},
   "outputs": [],
   "source": [
    "akc = akc[1:]"
   ]
  },
  {
   "cell_type": "code",
   "execution_count": 107,
   "metadata": {},
   "outputs": [],
   "source": [
    "akc_breeds = []\n",
    "for x in akc:\n",
    "    akc_breeds.append(x.get_text())"
   ]
  },
  {
   "cell_type": "code",
   "execution_count": 109,
   "metadata": {},
   "outputs": [],
   "source": [
    "recognized_breeds = pd.DataFrame({'AKC Breeds' : akc_breeds})"
   ]
  },
  {
   "cell_type": "code",
   "execution_count": 128,
   "metadata": {},
   "outputs": [
    {
     "data": {
      "text/html": [
       "<div>\n",
       "<style scoped>\n",
       "    .dataframe tbody tr th:only-of-type {\n",
       "        vertical-align: middle;\n",
       "    }\n",
       "\n",
       "    .dataframe tbody tr th {\n",
       "        vertical-align: top;\n",
       "    }\n",
       "\n",
       "    .dataframe thead th {\n",
       "        text-align: right;\n",
       "    }\n",
       "</style>\n",
       "<table border=\"1\" class=\"dataframe\">\n",
       "  <thead>\n",
       "    <tr style=\"text-align: right;\">\n",
       "      <th></th>\n",
       "      <th>AKC Breeds</th>\n",
       "    </tr>\n",
       "  </thead>\n",
       "  <tbody>\n",
       "    <tr>\n",
       "      <th>0</th>\n",
       "      <td>Affenpinscher</td>\n",
       "    </tr>\n",
       "    <tr>\n",
       "      <th>1</th>\n",
       "      <td>Afghan Hound</td>\n",
       "    </tr>\n",
       "    <tr>\n",
       "      <th>2</th>\n",
       "      <td>Airedale Terrier</td>\n",
       "    </tr>\n",
       "    <tr>\n",
       "      <th>3</th>\n",
       "      <td>Akita</td>\n",
       "    </tr>\n",
       "    <tr>\n",
       "      <th>4</th>\n",
       "      <td>Alaskan Malamute</td>\n",
       "    </tr>\n",
       "    <tr>\n",
       "      <th>5</th>\n",
       "      <td>American English Coonhound</td>\n",
       "    </tr>\n",
       "    <tr>\n",
       "      <th>6</th>\n",
       "      <td>American Eskimo Dog</td>\n",
       "    </tr>\n",
       "    <tr>\n",
       "      <th>7</th>\n",
       "      <td>American Foxhound</td>\n",
       "    </tr>\n",
       "    <tr>\n",
       "      <th>8</th>\n",
       "      <td>American Hairless Terrier</td>\n",
       "    </tr>\n",
       "    <tr>\n",
       "      <th>9</th>\n",
       "      <td>American Leopard Hound</td>\n",
       "    </tr>\n",
       "    <tr>\n",
       "      <th>10</th>\n",
       "      <td>American Staffordshire Terrier</td>\n",
       "    </tr>\n",
       "    <tr>\n",
       "      <th>11</th>\n",
       "      <td>American Water Spaniel</td>\n",
       "    </tr>\n",
       "    <tr>\n",
       "      <th>12</th>\n",
       "      <td>Anatolian Shepherd Dog</td>\n",
       "    </tr>\n",
       "    <tr>\n",
       "      <th>13</th>\n",
       "      <td>Appenzeller Sennenhund</td>\n",
       "    </tr>\n",
       "    <tr>\n",
       "      <th>14</th>\n",
       "      <td>Australian Cattle Dog</td>\n",
       "    </tr>\n",
       "    <tr>\n",
       "      <th>15</th>\n",
       "      <td>Australian Kelpie</td>\n",
       "    </tr>\n",
       "    <tr>\n",
       "      <th>16</th>\n",
       "      <td>Australian Shepherd</td>\n",
       "    </tr>\n",
       "    <tr>\n",
       "      <th>17</th>\n",
       "      <td>Australian Stumpy Tail Cattle Dog</td>\n",
       "    </tr>\n",
       "    <tr>\n",
       "      <th>18</th>\n",
       "      <td>Australian Terrier</td>\n",
       "    </tr>\n",
       "    <tr>\n",
       "      <th>19</th>\n",
       "      <td>Azawakh</td>\n",
       "    </tr>\n",
       "  </tbody>\n",
       "</table>\n",
       "</div>"
      ],
      "text/plain": [
       "                           AKC Breeds\n",
       "0                       Affenpinscher\n",
       "1                        Afghan Hound\n",
       "2                    Airedale Terrier\n",
       "3                               Akita\n",
       "4                    Alaskan Malamute\n",
       "5          American English Coonhound\n",
       "6                 American Eskimo Dog\n",
       "7                   American Foxhound\n",
       "8           American Hairless Terrier\n",
       "9              American Leopard Hound\n",
       "10     American Staffordshire Terrier\n",
       "11             American Water Spaniel\n",
       "12             Anatolian Shepherd Dog\n",
       "13             Appenzeller Sennenhund\n",
       "14              Australian Cattle Dog\n",
       "15                  Australian Kelpie\n",
       "16                Australian Shepherd\n",
       "17  Australian Stumpy Tail Cattle Dog\n",
       "18                 Australian Terrier\n",
       "19                            Azawakh"
      ]
     },
     "execution_count": 128,
     "metadata": {},
     "output_type": "execute_result"
    }
   ],
   "source": [
    "recognized_breeds.head(20)"
   ]
  },
  {
   "cell_type": "code",
   "execution_count": 129,
   "metadata": {},
   "outputs": [],
   "source": [
    "# merging the AKC dogs df with the dogs-grouped-by-breed df\n",
    "adoptable_akc = pd.merge(recognized_breeds, dogs_by_breed, left_on= \"AKC Breeds\", right_on = \"breed\", how = 'inner')"
   ]
  },
  {
   "cell_type": "code",
   "execution_count": 130,
   "metadata": {},
   "outputs": [
    {
     "data": {
      "text/html": [
       "<div>\n",
       "<style scoped>\n",
       "    .dataframe tbody tr th:only-of-type {\n",
       "        vertical-align: middle;\n",
       "    }\n",
       "\n",
       "    .dataframe tbody tr th {\n",
       "        vertical-align: top;\n",
       "    }\n",
       "\n",
       "    .dataframe thead th {\n",
       "        text-align: right;\n",
       "    }\n",
       "</style>\n",
       "<table border=\"1\" class=\"dataframe\">\n",
       "  <thead>\n",
       "    <tr style=\"text-align: right;\">\n",
       "      <th></th>\n",
       "      <th>AKC Breeds</th>\n",
       "      <th>breed</th>\n",
       "      <th>number</th>\n",
       "    </tr>\n",
       "  </thead>\n",
       "  <tbody>\n",
       "    <tr>\n",
       "      <th>0</th>\n",
       "      <td>Beagle</td>\n",
       "      <td>Beagle</td>\n",
       "      <td>3</td>\n",
       "    </tr>\n",
       "    <tr>\n",
       "      <th>1</th>\n",
       "      <td>Beagle</td>\n",
       "      <td>Beagle</td>\n",
       "      <td>3</td>\n",
       "    </tr>\n",
       "    <tr>\n",
       "      <th>2</th>\n",
       "      <td>Beagle</td>\n",
       "      <td>Beagle</td>\n",
       "      <td>3</td>\n",
       "    </tr>\n",
       "    <tr>\n",
       "      <th>3</th>\n",
       "      <td>Bluetick Coonhound</td>\n",
       "      <td>Bluetick Coonhound</td>\n",
       "      <td>1</td>\n",
       "    </tr>\n",
       "    <tr>\n",
       "      <th>4</th>\n",
       "      <td>Bluetick Coonhound</td>\n",
       "      <td>Bluetick Coonhound</td>\n",
       "      <td>1</td>\n",
       "    </tr>\n",
       "  </tbody>\n",
       "</table>\n",
       "</div>"
      ],
      "text/plain": [
       "           AKC Breeds               breed  number\n",
       "0              Beagle              Beagle       3\n",
       "1              Beagle              Beagle       3\n",
       "2              Beagle              Beagle       3\n",
       "3  Bluetick Coonhound  Bluetick Coonhound       1\n",
       "4  Bluetick Coonhound  Bluetick Coonhound       1"
      ]
     },
     "execution_count": 130,
     "metadata": {},
     "output_type": "execute_result"
    }
   ],
   "source": [
    "adoptable_akc.head()"
   ]
  },
  {
   "cell_type": "code",
   "execution_count": 131,
   "metadata": {},
   "outputs": [],
   "source": [
    "# removing duplicate rows\n",
    "adoptable_akc = adoptable_akc.drop_duplicates(subset=['breed'], keep='first')"
   ]
  },
  {
   "cell_type": "code",
   "execution_count": 132,
   "metadata": {},
   "outputs": [
    {
     "data": {
      "text/plain": [
       "<matplotlib.axes._subplots.AxesSubplot at 0x12648f390>"
      ]
     },
     "execution_count": 132,
     "metadata": {},
     "output_type": "execute_result"
    },
    {
     "data": {
      "image/png": "[encoded data removed]",
      "text/plain": [
       "<Figure size 576x432 with 1 Axes>"
      ]
     },
     "metadata": {},
     "output_type": "display_data"
    }
   ],
   "source": [
    "adoptable_akc.plot.bar(x = 'breed', y = 'number', figsize = (8,6), title = 'Number of Adoptable Dogs per AKC-Recognized Breed')"
   ]
  },
  {
   "cell_type": "markdown",
   "metadata": {},
   "source": [
    "- We can see that, of the officially recognized breeds, the Labrador Retriever shows up most commonly among the adoptable dogs."
   ]
  }
 ],
 "metadata": {
  "kernelspec": {
   "display_name": "Python 3",
   "language": "python",
   "name": "python3"
  },
  "language_info": {
   "codemirror_mode": {
    "name": "ipython",
    "version": 3
   },
   "file_extension": ".py",
   "mimetype": "text/x-python",
   "name": "python",
   "nbconvert_exporter": "python",
   "pygments_lexer": "ipython3",
   "version": "3.6.5"
  }
 },
 "nbformat": 4,
 "nbformat_minor": 2
}
