{
 "cells": [
  {
   "cell_type": "markdown",
   "metadata": {},
   "source": [
    "# Regression Comparisons and Bootstrapping"
   ]
  },
  {
   "cell_type": "code",
   "execution_count": 3,
   "metadata": {},
   "outputs": [],
   "source": [
    "import pandas as pd\n",
    "import numpy as np\n",
    "import matplotlib.pyplot as plt\n",
    "import statsmodels.api as sm\n"
   ]
  },
  {
   "cell_type": "code",
   "execution_count": 4,
   "metadata": {},
   "outputs": [],
   "source": [
    "%matplotlib inline"
   ]
  },
  {
   "cell_type": "code",
   "execution_count": 18,
   "metadata": {},
   "outputs": [],
   "source": [
    "def standardize(anylist):\n",
    "    '''convert any array of numbers to std units '''\n",
    "    return (anylist - np.mean(anylist)) / np.std(anylist)\n",
    "\n",
    "def correlation(df, x, y):\n",
    "    '''correlation between two columns of a dataframe '''\n",
    "    return np.mean(standardize(df[x]) * standardize(df[y]))\n",
    "\n",
    "def slope(df, x, y):\n",
    "    r = correlation(df, x, y)\n",
    "    return r * np.std(df[y]) / np.std(df[x])\n",
    "\n",
    "def intercept(df, x, y):\n",
    "    a = slope(df, x, y)\n",
    "    return np.mean(df[y]) - a * np.mean(df[x])"
   ]
  },
  {
   "cell_type": "markdown",
   "metadata": {},
   "source": [
    "# Evaluating the baby weight prediction model "
   ]
  },
  {
   "cell_type": "markdown",
   "metadata": {},
   "source": [
    "## Q3\n",
    "\n",
    "We know that a typical linear regression line is the one that minimizes mean squared error.\n",
    "\n",
    "However, this is not the best method of checking the predictive power of a model.\n",
    "\n",
    "A good model should not only fit the data that it has been exposed to, but should also be able to predict the truly unseen data."
   ]
  },
  {
   "cell_type": "code",
   "execution_count": 4,
   "metadata": {},
   "outputs": [],
   "source": [
    "phillybabies = pd.read_csv('/users/elizabeth/downloads/phillybabies.csv')"
   ]
  },
  {
   "cell_type": "code",
   "execution_count": 6,
   "metadata": {},
   "outputs": [
    {
     "data": {
      "text/html": [
       "<div>\n",
       "<style scoped>\n",
       "    .dataframe tbody tr th:only-of-type {\n",
       "        vertical-align: middle;\n",
       "    }\n",
       "\n",
       "    .dataframe tbody tr th {\n",
       "        vertical-align: top;\n",
       "    }\n",
       "\n",
       "    .dataframe thead th {\n",
       "        text-align: right;\n",
       "    }\n",
       "</style>\n",
       "<table border=\"1\" class=\"dataframe\">\n",
       "  <thead>\n",
       "    <tr style=\"text-align: right;\">\n",
       "      <th></th>\n",
       "      <th>count</th>\n",
       "      <th>black</th>\n",
       "      <th>educ</th>\n",
       "      <th>smoke</th>\n",
       "      <th>gestate</th>\n",
       "      <th>weight</th>\n",
       "    </tr>\n",
       "  </thead>\n",
       "  <tbody>\n",
       "    <tr>\n",
       "      <th>0</th>\n",
       "      <td>1</td>\n",
       "      <td>NO</td>\n",
       "      <td>0</td>\n",
       "      <td>YES</td>\n",
       "      <td>40</td>\n",
       "      <td>2898</td>\n",
       "    </tr>\n",
       "    <tr>\n",
       "      <th>1</th>\n",
       "      <td>2</td>\n",
       "      <td>YES</td>\n",
       "      <td>0</td>\n",
       "      <td>YES</td>\n",
       "      <td>26</td>\n",
       "      <td>994</td>\n",
       "    </tr>\n",
       "    <tr>\n",
       "      <th>2</th>\n",
       "      <td>3</td>\n",
       "      <td>NO</td>\n",
       "      <td>2</td>\n",
       "      <td>NO</td>\n",
       "      <td>38</td>\n",
       "      <td>3977</td>\n",
       "    </tr>\n",
       "    <tr>\n",
       "      <th>3</th>\n",
       "      <td>4</td>\n",
       "      <td>NO</td>\n",
       "      <td>2</td>\n",
       "      <td>YES</td>\n",
       "      <td>37</td>\n",
       "      <td>3040</td>\n",
       "    </tr>\n",
       "    <tr>\n",
       "      <th>4</th>\n",
       "      <td>5</td>\n",
       "      <td>NO</td>\n",
       "      <td>2</td>\n",
       "      <td>NO</td>\n",
       "      <td>38</td>\n",
       "      <td>3523</td>\n",
       "    </tr>\n",
       "  </tbody>\n",
       "</table>\n",
       "</div>"
      ],
      "text/plain": [
       "   count black  educ smoke  gestate  weight\n",
       "0      1    NO     0   YES       40    2898\n",
       "1      2   YES     0   YES       26     994\n",
       "2      3    NO     2    NO       38    3977\n",
       "3      4    NO     2   YES       37    3040\n",
       "4      5    NO     2    NO       38    3523"
      ]
     },
     "execution_count": 6,
     "metadata": {},
     "output_type": "execute_result"
    }
   ],
   "source": [
    "phillybabies.head()"
   ]
  },
  {
   "cell_type": "code",
   "execution_count": 5,
   "metadata": {},
   "outputs": [],
   "source": [
    "import scipy.optimize as opt"
   ]
  },
  {
   "cell_type": "code",
   "execution_count": 6,
   "metadata": {},
   "outputs": [
    {
     "data": {
      "text/plain": [
       "<matplotlib.axes._subplots.AxesSubplot at 0x11364b710>"
      ]
     },
     "execution_count": 6,
     "metadata": {},
     "output_type": "execute_result"
    },
    {
     "data": {
      "image/png": "[encoded data removed]",
      "text/plain": [
       "<Figure size 432x288 with 1 Axes>"
      ]
     },
     "metadata": {},
     "output_type": "display_data"
    }
   ],
   "source": [
    "phillybabies.plot.scatter(\"gestate\", \"weight\")\n"
   ]
  },
  {
   "cell_type": "code",
   "execution_count": 12,
   "metadata": {},
   "outputs": [
    {
     "name": "stdout",
     "output_type": "stream",
     "text": [
      "slope: 166.44628542785355\n",
      "intercept: -3245.4463939995358\n"
     ]
    }
   ],
   "source": [
    "m, b = np.polyfit(phillybabies[\"gestate\"], phillybabies[\"weight\"], 1)\n",
    "print(\"slope:\", m)\n",
    "print(\"intercept:\", b)"
   ]
  },
  {
   "cell_type": "code",
   "execution_count": 13,
   "metadata": {},
   "outputs": [
    {
     "name": "stdout",
     "output_type": "stream",
     "text": [
      "the root mean squared error: 450.920959539229\n"
     ]
    }
   ],
   "source": [
    "predicted_weight = phillybabies[\"gestate\"] * m + b\n",
    "res = phillybabies[\"weight\"] - predicted_weight\n",
    "rmse = np.sqrt(np.mean(np.power(res, 2)))\n",
    "print('the root mean squared error: ' + str(rmse))"
   ]
  },
  {
   "cell_type": "code",
   "execution_count": 14,
   "metadata": {},
   "outputs": [],
   "source": [
    "def baby_rmse(s):\n",
    "    x = phillybabies[\"gestate\"]\n",
    "    y = phillybabies[\"weight\"]\n",
    "    y_pred = s[0] * x + s[1]\n",
    "    return np.sqrt(np.mean(y_pred - y)**2)"
   ]
  },
  {
   "cell_type": "code",
   "execution_count": 15,
   "metadata": {},
   "outputs": [
    {
     "data": {
      "text/plain": [
       "      fun: 6.472555836432952e-08\n",
       " hess_inv: array([[6.29760731e-03, 1.62137069e-04],\n",
       "       [1.62137069e-04, 1.00066702e+00]])\n",
       "      jac: array([30.15393822, -1.        ])\n",
       "  message: 'Desired error not necessarily achieved due to precision loss.'\n",
       "     nfev: 408\n",
       "      nit: 1\n",
       "     njev: 99\n",
       "   status: 2\n",
       "  success: False\n",
       "        x: array([  166.43450464, -3244.98881332])"
      ]
     },
     "execution_count": 15,
     "metadata": {},
     "output_type": "execute_result"
    }
   ],
   "source": [
    "# using the approximations of the slope and intercept from np.polyfit\n",
    "opt.minimize(baby_rmse, np.array([166, -3245]))"
   ]
  },
  {
   "cell_type": "markdown",
   "metadata": {},
   "source": [
    "- model that predicts philly baby weights based on gestational days (via opt.minimize model):\n",
    "      baby weight = -3244.99 + 166.4345 * number of gestational days"
   ]
  },
  {
   "cell_type": "code",
   "execution_count": 16,
   "metadata": {},
   "outputs": [
    {
     "data": {
      "text/plain": [
       "<matplotlib.collections.PathCollection at 0x113705828>"
      ]
     },
     "execution_count": 16,
     "metadata": {},
     "output_type": "execute_result"
    },
    {
     "data": {
      "image/png": "[encoded data removed]",
      "text/plain": [
       "<Figure size 432x288 with 1 Axes>"
      ]
     },
     "metadata": {},
     "output_type": "display_data"
    }
   ],
   "source": [
    "plt.scatter(phillybabies[\"gestate\"], res)"
   ]
  },
  {
   "cell_type": "markdown",
   "metadata": {},
   "source": [
    "- When we plot the residuals, we want to see not only small residuals centered around 0, but also random-looking residuals. This scatter plot of the residuals does not have a high concentration of points centered around 0, which may be explained by heteroscedasticity. So no, this is not an amazing regression model."
   ]
  },
  {
   "cell_type": "markdown",
   "metadata": {},
   "source": [
    "## Making a regression model (removed outliers) to predict a baby's birth weight depending on gestational days"
   ]
  },
  {
   "cell_type": "code",
   "execution_count": 19,
   "metadata": {},
   "outputs": [
    {
     "data": {
      "text/html": [
       "<div>\n",
       "<style scoped>\n",
       "    .dataframe tbody tr th:only-of-type {\n",
       "        vertical-align: middle;\n",
       "    }\n",
       "\n",
       "    .dataframe tbody tr th {\n",
       "        vertical-align: top;\n",
       "    }\n",
       "\n",
       "    .dataframe thead th {\n",
       "        text-align: right;\n",
       "    }\n",
       "</style>\n",
       "<table border=\"1\" class=\"dataframe\">\n",
       "  <thead>\n",
       "    <tr style=\"text-align: right;\">\n",
       "      <th></th>\n",
       "      <th>count</th>\n",
       "      <th>black</th>\n",
       "      <th>educ</th>\n",
       "      <th>smoke</th>\n",
       "      <th>gestate</th>\n",
       "      <th>weight</th>\n",
       "      <th>standardized_gestate</th>\n",
       "    </tr>\n",
       "  </thead>\n",
       "  <tbody>\n",
       "    <tr>\n",
       "      <th>0</th>\n",
       "      <td>1</td>\n",
       "      <td>NO</td>\n",
       "      <td>0</td>\n",
       "      <td>YES</td>\n",
       "      <td>40</td>\n",
       "      <td>2898</td>\n",
       "      <td>0.433818</td>\n",
       "    </tr>\n",
       "    <tr>\n",
       "      <th>1</th>\n",
       "      <td>2</td>\n",
       "      <td>YES</td>\n",
       "      <td>0</td>\n",
       "      <td>YES</td>\n",
       "      <td>26</td>\n",
       "      <td>994</td>\n",
       "      <td>-4.807591</td>\n",
       "    </tr>\n",
       "    <tr>\n",
       "      <th>2</th>\n",
       "      <td>3</td>\n",
       "      <td>NO</td>\n",
       "      <td>2</td>\n",
       "      <td>NO</td>\n",
       "      <td>38</td>\n",
       "      <td>3977</td>\n",
       "      <td>-0.314955</td>\n",
       "    </tr>\n",
       "    <tr>\n",
       "      <th>3</th>\n",
       "      <td>4</td>\n",
       "      <td>NO</td>\n",
       "      <td>2</td>\n",
       "      <td>YES</td>\n",
       "      <td>37</td>\n",
       "      <td>3040</td>\n",
       "      <td>-0.689341</td>\n",
       "    </tr>\n",
       "    <tr>\n",
       "      <th>4</th>\n",
       "      <td>5</td>\n",
       "      <td>NO</td>\n",
       "      <td>2</td>\n",
       "      <td>NO</td>\n",
       "      <td>38</td>\n",
       "      <td>3523</td>\n",
       "      <td>-0.314955</td>\n",
       "    </tr>\n",
       "  </tbody>\n",
       "</table>\n",
       "</div>"
      ],
      "text/plain": [
       "   count black  educ smoke  gestate  weight  standardized_gestate\n",
       "0      1    NO     0   YES       40    2898              0.433818\n",
       "1      2   YES     0   YES       26     994             -4.807591\n",
       "2      3    NO     2    NO       38    3977             -0.314955\n",
       "3      4    NO     2   YES       37    3040             -0.689341\n",
       "4      5    NO     2    NO       38    3523             -0.314955"
      ]
     },
     "execution_count": 19,
     "metadata": {},
     "output_type": "execute_result"
    }
   ],
   "source": [
    "#removing outliers:\n",
    "phillybabies['standardized_gestate'] = standardize(phillybabies['gestate'])\n",
    "phillybabies.head()"
   ]
  },
  {
   "cell_type": "code",
   "execution_count": 20,
   "metadata": {},
   "outputs": [],
   "source": [
    "# We're taking out all the rows with gestational week values that are outside of 2 standard deviations from the mean.\n",
    "# That is how I will define outliers for this problem; data outside 2 STDs from the mean (Arvind said this was ok on \n",
    "# piazza)\n",
    "upper_bound = np.mean(phillybabies['standardized_gestate']) + 2 * np.std(phillybabies['standardized_gestate'])\n",
    "lower_bound = np.mean(phillybabies['standardized_gestate']) - 2 * np.std(phillybabies['standardized_gestate'])\n",
    "within_2_SD = phillybabies[np.logical_and(phillybabies['standardized_gestate'] < upper_bound, phillybabies['standardized_gestate'] > lower_bound)]\n",
    "phillybabies_no_outliers = within_2_SD"
   ]
  },
  {
   "cell_type": "code",
   "execution_count": 21,
   "metadata": {},
   "outputs": [],
   "source": [
    "predicted_weight_no_outliers = phillybabies_no_outliers[\"gestate\"] * m + b\n",
    "res = phillybabies_no_outliers[\"weight\"] - predicted_weight_no_outliers"
   ]
  },
  {
   "cell_type": "code",
   "execution_count": 22,
   "metadata": {},
   "outputs": [
    {
     "name": "stdout",
     "output_type": "stream",
     "text": [
      "slope: 153.63563813621548\n",
      "intercept: -2738.687721479927\n"
     ]
    }
   ],
   "source": [
    "m, b = np.polyfit(phillybabies_no_outliers[\"gestate\"], phillybabies_no_outliers[\"weight\"], 1)\n",
    "print(\"slope:\", m)\n",
    "print(\"intercept:\", b)"
   ]
  },
  {
   "cell_type": "code",
   "execution_count": 23,
   "metadata": {},
   "outputs": [
    {
     "data": {
      "text/plain": [
       "<matplotlib.collections.PathCollection at 0x113ecceb8>"
      ]
     },
     "execution_count": 23,
     "metadata": {},
     "output_type": "execute_result"
    },
    {
     "data": {
      "image/png": "[encoded data removed]",
      "text/plain": [
       "<Figure size 432x288 with 1 Axes>"
      ]
     },
     "metadata": {},
     "output_type": "display_data"
    }
   ],
   "source": [
    "plt.scatter(phillybabies_no_outliers[\"gestate\"], res)"
   ]
  },
  {
   "cell_type": "markdown",
   "metadata": {},
   "source": [
    "- Yes, removing the outliers makes the model more accurate. Good linear models should residuals that look like a blob on the scatterplot. This is more blobbish than the first scatter plot with the outliers."
   ]
  },
  {
   "cell_type": "markdown",
   "metadata": {
    "collapsed": true
   },
   "source": [
    "## Increasing accuracy via bootstrapping, confidence intervals"
   ]
  },
  {
   "cell_type": "markdown",
   "metadata": {},
   "source": [
    "Bootstrapping steps:\n",
    "\n",
    "1. Compute a statistic from the original sample - in this case, the slope of the regression line.\n",
    "2. Repeatedly create samples from your original sample by sampling with replacement\n",
    "3. For each of the samples, compute the same statistic and store the values obtained.\n",
    "4. Finally, plot a histogram of the various values of the statistic."
   ]
  },
  {
   "cell_type": "code",
   "execution_count": 24,
   "metadata": {},
   "outputs": [],
   "source": [
    "babies = pd.read_csv('/users/elizabeth/downloads/baby.csv')"
   ]
  },
  {
   "cell_type": "code",
   "execution_count": 26,
   "metadata": {},
   "outputs": [
    {
     "data": {
      "text/plain": [
       "0.4665568769492164"
      ]
     },
     "execution_count": 26,
     "metadata": {},
     "output_type": "execute_result"
    }
   ],
   "source": [
    "original_slope = slope(babies,'Gestational Days', 'Birth Weight')\n",
    "original_slope"
   ]
  },
  {
   "cell_type": "code",
   "execution_count": 27,
   "metadata": {},
   "outputs": [
    {
     "data": {
      "text/plain": [
       "0.5096112246823102"
      ]
     },
     "execution_count": 27,
     "metadata": {},
     "output_type": "execute_result"
    }
   ],
   "source": [
    "random_sample = babies.sample(500, replace=True)  \n",
    "slope(random_sample, 'Gestational Days', 'Birth Weight')"
   ]
  },
  {
   "cell_type": "code",
   "execution_count": 28,
   "metadata": {},
   "outputs": [],
   "source": [
    "slopes = []\n",
    "for i in np.arange(2500): #for 2500 times, we want to generate random sample w/ replacement\n",
    "    random_sample = babies.sample(500, replace=True)  \n",
    "    new_slope = slope(random_sample, 'Gestational Days', 'Birth Weight')\n",
    "    slopes.append(new_slope)"
   ]
  },
  {
   "cell_type": "code",
   "execution_count": 29,
   "metadata": {},
   "outputs": [
    {
     "data": {
      "text/plain": [
       "Text(0.5,1,'Bootstrapped Slope Distribution')"
      ]
     },
     "execution_count": 29,
     "metadata": {},
     "output_type": "execute_result"
    },
    {
     "data": {
      "image/png": "[encoded data removed]",
      "text/plain": [
       "<Figure size 720x288 with 1 Axes>"
      ]
     },
     "metadata": {},
     "output_type": "display_data"
    }
   ],
   "source": [
    "plt.figure(figsize=(10,4))\n",
    "plt.style.use('fivethirtyeight')\n",
    "plt.hist(slopes, bins = 30, color = 'lightcoral', ec = 'darkblue')\n",
    "plt.xlabel('slope values for 2500 different samples', size = 'small')\n",
    "plt.ylabel('frequency for each slope value', size = 'small')\n",
    "plt.title('Bootstrapped Slope Distribution', size = 'medium')"
   ]
  },
  {
   "cell_type": "code",
   "execution_count": 30,
   "metadata": {},
   "outputs": [],
   "source": [
    "# Calculating a 95% confidence interval for the slope values\n",
    "lower_bound = np.percentile(slopes, 2.5)\n",
    "upper_bound = np.percentile(slopes, 97.5)"
   ]
  },
  {
   "cell_type": "code",
   "execution_count": 170,
   "metadata": {},
   "outputs": [
    {
     "name": "stdout",
     "output_type": "stream",
     "text": [
      "We are 95% certain that the slope values will be between 0.3366879560493333 and 0.610212628551802\n"
     ]
    }
   ],
   "source": [
    "print(\"We are 95% certain that the slope values will be between \" + str(lower_bound) + \" and \" + str(upper_bound))"
   ]
  },
  {
   "cell_type": "markdown",
   "metadata": {},
   "source": [
    "## Movies: Comparing Rotten Tomatoes scores and IMDB scores"
   ]
  },
  {
   "cell_type": "code",
   "execution_count": 31,
   "metadata": {},
   "outputs": [],
   "source": [
    "movies = pd.read_csv('/users/elizabeth/downloads/blockbusters.csv')"
   ]
  },
  {
   "cell_type": "code",
   "execution_count": 32,
   "metadata": {},
   "outputs": [
    {
     "data": {
      "text/plain": [
       "Index(['audience_freshness', 'poster_url', 'rt_audience_score', 'rt_freshness',\n",
       "       'rt_score', '2015_inflation', 'adjusted', 'genres', 'Genre_1',\n",
       "       'Genre_2', 'Genre_3', 'imdb_rating', 'length', 'rank_in_year', 'rating',\n",
       "       'release_date', 'studio', 'title', 'worldwide_gross', 'year'],\n",
       "      dtype='object')"
      ]
     },
     "execution_count": 32,
     "metadata": {},
     "output_type": "execute_result"
    }
   ],
   "source": [
    "movies.columns"
   ]
  },
  {
   "cell_type": "code",
   "execution_count": 33,
   "metadata": {},
   "outputs": [],
   "source": [
    "# dropping any possible nans in the listed subset; not dropping nans in 'Genre_1', 'Genre_2', and 'Genre_3'\n",
    "# because that would remove movies that don't have more than 1 genre.\n",
    "movies = movies.dropna(subset = ['imdb_rating', 'length', 'rank_in_year', 'genres', 'rating', 'year', \n",
    "                                 'audience_freshness', 'rt_audience_score', 'rt_freshness','rt_score',\n",
    "                                 'worldwide_gross'])"
   ]
  },
  {
   "cell_type": "code",
   "execution_count": 34,
   "metadata": {},
   "outputs": [
    {
     "data": {
      "text/plain": [
       "(398, 20)"
      ]
     },
     "execution_count": 34,
     "metadata": {},
     "output_type": "execute_result"
    }
   ],
   "source": [
    "movies.shape"
   ]
  },
  {
   "cell_type": "code",
   "execution_count": 35,
   "metadata": {},
   "outputs": [
    {
     "data": {
      "text/plain": [
       "(392, 20)"
      ]
     },
     "execution_count": 35,
     "metadata": {},
     "output_type": "execute_result"
    }
   ],
   "source": [
    "# Removing all the movies with rt_scores and rt_freshness ratings of 0. \n",
    "movies = movies[np.logical_and(movies['rt_score'] != 0, movies['rt_freshness'] != 0)]\n",
    "movies.shape"
   ]
  },
  {
   "cell_type": "markdown",
   "metadata": {},
   "source": [
    "#### Are the rt_freshness scores and the imdb scores related in any manner?"
   ]
  },
  {
   "cell_type": "code",
   "execution_count": 36,
   "metadata": {},
   "outputs": [
    {
     "data": {
      "text/plain": [
       "0.7379022733512594"
      ]
     },
     "execution_count": 36,
     "metadata": {},
     "output_type": "execute_result"
    }
   ],
   "source": [
    "r = correlation(movies, 'rt_freshness', 'imdb_rating')\n",
    "r"
   ]
  },
  {
   "cell_type": "markdown",
   "metadata": {},
   "source": [
    "- there is a distinct positive correlation between rt freshness and imdb scores."
   ]
  },
  {
   "cell_type": "code",
   "execution_count": 37,
   "metadata": {},
   "outputs": [],
   "source": [
    "m, b = np.polyfit(movies['rt_freshness'], movies['imdb_rating'], 1)"
   ]
  },
  {
   "cell_type": "code",
   "execution_count": 38,
   "metadata": {},
   "outputs": [
    {
     "data": {
      "text/plain": [
       "[<matplotlib.lines.Line2D at 0x10ed69240>]"
      ]
     },
     "execution_count": 38,
     "metadata": {},
     "output_type": "execute_result"
    },
    {
     "data": {
      "image/png": "[encoded data removed]",
      "text/plain": [
       "<Figure size 432x288 with 1 Axes>"
      ]
     },
     "metadata": {},
     "output_type": "display_data"
    }
   ],
   "source": [
    "plt.style.use('fivethirtyeight')\n",
    "\n",
    "plt.figure(figsize = (6, 4))\n",
    "plt.scatter(movies['rt_freshness'], movies['imdb_rating'], color = 'goldenrod')\n",
    "plt.xlabel('rotten tomatoes freshness', size = 'small')\n",
    "plt.ylabel('IMDB score', size = 'small')\n",
    "plt.title('Plotted RT Freshness Scores and IMDB Ratings', size = 'medium')\n",
    "\n",
    "xvals = np.arange(0, 100)\n",
    "yvals = m * xvals + b \n",
    "plt.plot(xvals, yvals, color = 'mediumvioletred') #graphing the linear regression\n"
   ]
  },
  {
   "cell_type": "markdown",
   "metadata": {},
   "source": [
    "- The correlation of 0.7379 and the scatter plot show there is some significnt relation between rt freshness and imdb scores."
   ]
  },
  {
   "cell_type": "markdown",
   "metadata": {},
   "source": [
    "#### Identifying outliers (in the sense that their rotten tomatoes score and their imdb score are vastly different)"
   ]
  },
  {
   "cell_type": "code",
   "execution_count": 39,
   "metadata": {},
   "outputs": [],
   "source": [
    "# standardizing the ratings.\n",
    "movies['z_rt_freshness'] = standardize(movies['rt_freshness'])\n",
    "movies['z_imdb_rating'] = standardize(movies['imdb_rating'])"
   ]
  },
  {
   "cell_type": "code",
   "execution_count": 40,
   "metadata": {},
   "outputs": [
    {
     "data": {
      "text/html": [
       "<div>\n",
       "<style scoped>\n",
       "    .dataframe tbody tr th:only-of-type {\n",
       "        vertical-align: middle;\n",
       "    }\n",
       "\n",
       "    .dataframe tbody tr th {\n",
       "        vertical-align: top;\n",
       "    }\n",
       "\n",
       "    .dataframe thead th {\n",
       "        text-align: right;\n",
       "    }\n",
       "</style>\n",
       "<table border=\"1\" class=\"dataframe\">\n",
       "  <thead>\n",
       "    <tr style=\"text-align: right;\">\n",
       "      <th></th>\n",
       "      <th>rt_imdb_difference</th>\n",
       "      <th>title</th>\n",
       "    </tr>\n",
       "  </thead>\n",
       "  <tbody>\n",
       "    <tr>\n",
       "      <th>344</th>\n",
       "      <td>2.138767</td>\n",
       "      <td>Private Benjamin</td>\n",
       "    </tr>\n",
       "    <tr>\n",
       "      <th>202</th>\n",
       "      <td>2.056177</td>\n",
       "      <td>Forrest Gump</td>\n",
       "    </tr>\n",
       "    <tr>\n",
       "      <th>3</th>\n",
       "      <td>1.932724</td>\n",
       "      <td>Interstellar</td>\n",
       "    </tr>\n",
       "    <tr>\n",
       "      <th>279</th>\n",
       "      <td>1.739681</td>\n",
       "      <td>Three Men and a Baby</td>\n",
       "    </tr>\n",
       "    <tr>\n",
       "      <th>48</th>\n",
       "      <td>1.697196</td>\n",
       "      <td>The Twilight Saga: Eclipse</td>\n",
       "    </tr>\n",
       "  </tbody>\n",
       "</table>\n",
       "</div>"
      ],
      "text/plain": [
       "     rt_imdb_difference                       title\n",
       "344            2.138767            Private Benjamin\n",
       "202            2.056177                Forrest Gump\n",
       "3              1.932724                Interstellar\n",
       "279            1.739681        Three Men and a Baby\n",
       "48             1.697196  The Twilight Saga: Eclipse"
      ]
     },
     "execution_count": 40,
     "metadata": {},
     "output_type": "execute_result"
    }
   ],
   "source": [
    "# calculating the difference between rt freshness and imdb rating for all rows\n",
    "movies['rt_imdb_difference'] = movies['z_rt_freshness'] - movies['z_imdb_rating']\n",
    "movies['rt_imdb_difference'] = np.abs(movies['rt_imdb_difference'])\n",
    "movies.sort_values('rt_imdb_difference', ascending = False)[['rt_imdb_difference', 'title']].head(5)"
   ]
  },
  {
   "cell_type": "code",
   "execution_count": 41,
   "metadata": {},
   "outputs": [
    {
     "name": "stdout",
     "output_type": "stream",
     "text": [
      "These are the 5 movies with the greatest difference between RT score and IMDB score:\n"
     ]
    },
    {
     "data": {
      "text/html": [
       "<div>\n",
       "<style scoped>\n",
       "    .dataframe tbody tr th:only-of-type {\n",
       "        vertical-align: middle;\n",
       "    }\n",
       "\n",
       "    .dataframe tbody tr th {\n",
       "        vertical-align: top;\n",
       "    }\n",
       "\n",
       "    .dataframe thead th {\n",
       "        text-align: right;\n",
       "    }\n",
       "</style>\n",
       "<table border=\"1\" class=\"dataframe\">\n",
       "  <thead>\n",
       "    <tr style=\"text-align: right;\">\n",
       "      <th></th>\n",
       "      <th>title</th>\n",
       "    </tr>\n",
       "  </thead>\n",
       "  <tbody>\n",
       "    <tr>\n",
       "      <th>344</th>\n",
       "      <td>Private Benjamin</td>\n",
       "    </tr>\n",
       "    <tr>\n",
       "      <th>202</th>\n",
       "      <td>Forrest Gump</td>\n",
       "    </tr>\n",
       "    <tr>\n",
       "      <th>3</th>\n",
       "      <td>Interstellar</td>\n",
       "    </tr>\n",
       "    <tr>\n",
       "      <th>279</th>\n",
       "      <td>Three Men and a Baby</td>\n",
       "    </tr>\n",
       "    <tr>\n",
       "      <th>48</th>\n",
       "      <td>The Twilight Saga: Eclipse</td>\n",
       "    </tr>\n",
       "  </tbody>\n",
       "</table>\n",
       "</div>"
      ],
      "text/plain": [
       "                          title\n",
       "344            Private Benjamin\n",
       "202                Forrest Gump\n",
       "3                  Interstellar\n",
       "279        Three Men and a Baby\n",
       "48   The Twilight Saga: Eclipse"
      ]
     },
     "execution_count": 41,
     "metadata": {},
     "output_type": "execute_result"
    }
   ],
   "source": [
    "top_outliers = movies.sort_values('rt_imdb_difference', ascending = False)[['rt_imdb_difference', 'title']].head(5)[['title']]\n",
    "print('These are the 5 movies with the greatest difference between RT score and IMDB score:')\n",
    "top_outliers"
   ]
  },
  {
   "cell_type": "markdown",
   "metadata": {},
   "source": [
    "Question: if you had to use only one out of the rotten tomatoes or imdb scores to predict the success of a movie, which one would you pick? \n",
    "\n",
    "To answer this, I build a linear regression model that predicts the adjusted gross based only on rt_freshness. Then I build a linear regression model that predicts the adjusted gross based on imdb scores. Then I will evaluate the models by comparing the root mean square error in the predictions."
   ]
  },
  {
   "cell_type": "code",
   "execution_count": 42,
   "metadata": {},
   "outputs": [],
   "source": [
    "# Must write a function to convert the values from strings to floats\n",
    "def floatify(my_number):\n",
    "    my_num = my_number.split('$')\n",
    "    my_num = my_num[1].split(',')\n",
    "    my_num = float(''.join(my_num))\n",
    "    return my_num\n",
    "\n",
    "vect_floatify = np.vectorize(floatify)"
   ]
  },
  {
   "cell_type": "code",
   "execution_count": 43,
   "metadata": {},
   "outputs": [],
   "source": [
    "movies['float_gross'] = vect_floatify(movies['adjusted'])"
   ]
  },
  {
   "cell_type": "code",
   "execution_count": 44,
   "metadata": {},
   "outputs": [],
   "source": [
    "# making the model for gross based on RT freshness"
   ]
  },
  {
   "cell_type": "code",
   "execution_count": 45,
   "metadata": {},
   "outputs": [
    {
     "name": "stdout",
     "output_type": "stream",
     "text": [
      "slope: 1063836.260672998\n",
      "intercept: 471601530.01662207\n"
     ]
    }
   ],
   "source": [
    "m1, b1 = np.polyfit(movies[\"rt_freshness\"], movies[\"float_gross\"], 1)\n",
    "print(\"slope:\", m1)\n",
    "print(\"intercept:\", b1)"
   ]
  },
  {
   "cell_type": "code",
   "execution_count": 46,
   "metadata": {},
   "outputs": [
    {
     "data": {
      "text/plain": [
       "0.06770861431189738"
      ]
     },
     "execution_count": 46,
     "metadata": {},
     "output_type": "execute_result"
    }
   ],
   "source": [
    "correlation(movies, 'float_gross', 'rt_freshness')"
   ]
  },
  {
   "cell_type": "markdown",
   "metadata": {},
   "source": [
    "- very small linear correlation between rt freshness and gross earnings."
   ]
  },
  {
   "cell_type": "markdown",
   "metadata": {},
   "source": [
    "##### linear regression model that predicts the adjusted gross based only on rt_freshness"
   ]
  },
  {
   "cell_type": "markdown",
   "metadata": {},
   "source": [
    "- predicted_gross_rt = rt_freshness * 1063836.261 + 471601530.017"
   ]
  },
  {
   "cell_type": "code",
   "execution_count": 47,
   "metadata": {},
   "outputs": [],
   "source": [
    "# making the model for gross based on IMDB ratings"
   ]
  },
  {
   "cell_type": "code",
   "execution_count": 48,
   "metadata": {},
   "outputs": [
    {
     "name": "stdout",
     "output_type": "stream",
     "text": [
      "slope: 110195939.90135102\n",
      "intercept: -233234549.55004466\n"
     ]
    }
   ],
   "source": [
    "m2, b2 = np.polyfit(movies[\"imdb_rating\"], movies[\"float_gross\"], 1)\n",
    "print(\"slope:\", m2)\n",
    "print(\"intercept:\", b2)"
   ]
  },
  {
   "cell_type": "code",
   "execution_count": 49,
   "metadata": {},
   "outputs": [
    {
     "data": {
      "text/plain": [
       "0.26214030911798475"
      ]
     },
     "execution_count": 49,
     "metadata": {},
     "output_type": "execute_result"
    }
   ],
   "source": [
    "correlation(movies, 'float_gross', 'imdb_rating')"
   ]
  },
  {
   "cell_type": "markdown",
   "metadata": {},
   "source": [
    "- small linear correlation between rt freshness and gross earnings."
   ]
  },
  {
   "cell_type": "markdown",
   "metadata": {},
   "source": [
    "##### linear regression model that predicts the adjusted gross based on imdb scores"
   ]
  },
  {
   "cell_type": "markdown",
   "metadata": {},
   "source": [
    "- predicted_gross_imdb = imdb_rating * 110195939.901  - 233234549.550"
   ]
  },
  {
   "cell_type": "markdown",
   "metadata": {},
   "source": [
    "####  evaluate the models by comparing the root mean square error in the predictions."
   ]
  },
  {
   "cell_type": "code",
   "execution_count": 50,
   "metadata": {},
   "outputs": [
    {
     "name": "stdout",
     "output_type": "stream",
     "text": [
      "This is the RMSE for the rotten-tomatoes-based prediction: 339730351.2002244\n"
     ]
    }
   ],
   "source": [
    "predicted_gross_rt = (movies[\"rt_freshness\"] * m1) + b1\n",
    "res_rt = movies[\"float_gross\"] - predicted_gross_rt #actual gross - predicted gross based on rt_freshness\n",
    "mse_rt = np.mean(np.power(res_rt, 2))\n",
    "rmse_rt = np.sqrt(mse_rt)\n",
    "print('This is the RMSE for the rotten-tomatoes-based prediction: ' + str(rmse_rt))"
   ]
  },
  {
   "cell_type": "code",
   "execution_count": 51,
   "metadata": {},
   "outputs": [
    {
     "name": "stdout",
     "output_type": "stream",
     "text": [
      "This is the RMSE for the IMDB-based prediction: 328604003.56867945\n"
     ]
    }
   ],
   "source": [
    "predicted_gross_imdb = (movies[\"imdb_rating\"] * m2) + b2\n",
    "res_imdb = movies[\"float_gross\"] - predicted_gross_imdb #actual gross - predicted gross based on imdb_freshness\n",
    "mse_imdb = np.mean(np.power(res_imdb, 2))\n",
    "rmse_imdb = np.sqrt(mse_imdb)\n",
    "print('This is the RMSE for the IMDB-based prediction: ' + str(rmse_imdb))"
   ]
  },
  {
   "cell_type": "code",
   "execution_count": 52,
   "metadata": {},
   "outputs": [
    {
     "data": {
      "text/plain": [
       "True"
      ]
     },
     "execution_count": 52,
     "metadata": {},
     "output_type": "execute_result"
    }
   ],
   "source": [
    "rmse_imdb < rmse_rt"
   ]
  },
  {
   "cell_type": "markdown",
   "metadata": {},
   "source": [
    "- We can see that the RMSE for the IMDB-based prediction of movie gross is less than the RMSE for the Rotten Tomatoes-based prediction of movie gross. Thus the IMDB-based prediction does a better job at predicting the gross of a movie."
   ]
  },
  {
   "cell_type": "markdown",
   "metadata": {},
   "source": [
    "### Movie budgets affecting gross earnings?"
   ]
  },
  {
   "cell_type": "code",
   "execution_count": 56,
   "metadata": {},
   "outputs": [],
   "source": [
    "budgets = pd.read_csv('/users/elizabeth/downloads/budgets.csv')"
   ]
  },
  {
   "cell_type": "code",
   "execution_count": 57,
   "metadata": {},
   "outputs": [],
   "source": [
    "movies = movies.rename(columns = {'title' : 'Movie Title'})\n",
    "budgets = budgets.rename(columns = {'Movie' : 'Movie Title'})"
   ]
  },
  {
   "cell_type": "code",
   "execution_count": 58,
   "metadata": {},
   "outputs": [],
   "source": [
    "movie_budgets = pd.merge(movies, budgets, on = 'Movie Title', how = 'inner')"
   ]
  },
  {
   "cell_type": "code",
   "execution_count": 59,
   "metadata": {},
   "outputs": [
    {
     "data": {
      "text/html": [
       "<div>\n",
       "<style scoped>\n",
       "    .dataframe tbody tr th:only-of-type {\n",
       "        vertical-align: middle;\n",
       "    }\n",
       "\n",
       "    .dataframe tbody tr th {\n",
       "        vertical-align: top;\n",
       "    }\n",
       "\n",
       "    .dataframe thead th {\n",
       "        text-align: right;\n",
       "    }\n",
       "</style>\n",
       "<table border=\"1\" class=\"dataframe\">\n",
       "  <thead>\n",
       "    <tr style=\"text-align: right;\">\n",
       "      <th></th>\n",
       "      <th>audience_freshness</th>\n",
       "      <th>poster_url</th>\n",
       "      <th>rt_audience_score</th>\n",
       "      <th>rt_freshness</th>\n",
       "      <th>rt_score</th>\n",
       "      <th>2015_inflation</th>\n",
       "      <th>adjusted</th>\n",
       "      <th>genres</th>\n",
       "      <th>Genre_1</th>\n",
       "      <th>Genre_2</th>\n",
       "      <th>...</th>\n",
       "      <th>worldwide_gross</th>\n",
       "      <th>year</th>\n",
       "      <th>z_rt_freshness</th>\n",
       "      <th>z_imdb_rating</th>\n",
       "      <th>rt_imdb_difference</th>\n",
       "      <th>float_gross</th>\n",
       "      <th>Release Date</th>\n",
       "      <th>Production Budget</th>\n",
       "      <th>Domestic Gross</th>\n",
       "      <th>Worldwide Gross</th>\n",
       "    </tr>\n",
       "  </thead>\n",
       "  <tbody>\n",
       "    <tr>\n",
       "      <th>0</th>\n",
       "      <td>92.0</td>\n",
       "      <td>http://resizing.flixster.com/gxRJwetP1eNIrPR6x...</td>\n",
       "      <td>4.3</td>\n",
       "      <td>89.0</td>\n",
       "      <td>7.5</td>\n",
       "      <td>-0.26%</td>\n",
       "      <td>$712,903,691.09</td>\n",
       "      <td>Sci-Fi\\nAdventure\\nAction</td>\n",
       "      <td>Sci-Fi</td>\n",
       "      <td>Adventure</td>\n",
       "      <td>...</td>\n",
       "      <td>$714,766,572.00</td>\n",
       "      <td>2014.0</td>\n",
       "      <td>0.856221</td>\n",
       "      <td>0.893455</td>\n",
       "      <td>0.037234</td>\n",
       "      <td>7.129037e+08</td>\n",
       "      <td>4/4/14</td>\n",
       "      <td>$170,000,000</td>\n",
       "      <td>$259,746,958</td>\n",
       "      <td>$714,401,889</td>\n",
       "    </tr>\n",
       "    <tr>\n",
       "      <th>1</th>\n",
       "      <td>89.0</td>\n",
       "      <td>http://resizing.flixster.com/gDtbA1iPxTYEjBZeS...</td>\n",
       "      <td>4.2</td>\n",
       "      <td>90.0</td>\n",
       "      <td>7.9</td>\n",
       "      <td>-0.26%</td>\n",
       "      <td>$706,988,165.89</td>\n",
       "      <td>Sci-Fi\\nDrama\\nAction</td>\n",
       "      <td>Sci-Fi</td>\n",
       "      <td>Drama</td>\n",
       "      <td>...</td>\n",
       "      <td>$708,835,589.00</td>\n",
       "      <td>2014.0</td>\n",
       "      <td>0.902363</td>\n",
       "      <td>0.770003</td>\n",
       "      <td>0.132360</td>\n",
       "      <td>7.069882e+08</td>\n",
       "      <td>7/11/14</td>\n",
       "      <td>$170,000,000</td>\n",
       "      <td>$208,545,589</td>\n",
       "      <td>$710,644,566</td>\n",
       "    </tr>\n",
       "    <tr>\n",
       "      <th>2</th>\n",
       "      <td>93.0</td>\n",
       "      <td>http://resizing.flixster.com/YrF_OeTQx3bXNsMLI...</td>\n",
       "      <td>4.4</td>\n",
       "      <td>91.0</td>\n",
       "      <td>7.7</td>\n",
       "      <td>-0.26%</td>\n",
       "      <td>$772,158,880.00</td>\n",
       "      <td>Sci-Fi\\nAdventure\\nAction</td>\n",
       "      <td>Sci-Fi</td>\n",
       "      <td>Adventure</td>\n",
       "      <td>...</td>\n",
       "      <td>$774,176,600.00</td>\n",
       "      <td>2014.0</td>\n",
       "      <td>0.948506</td>\n",
       "      <td>1.263813</td>\n",
       "      <td>0.315307</td>\n",
       "      <td>7.721589e+08</td>\n",
       "      <td>8/1/14</td>\n",
       "      <td>$170,000,000</td>\n",
       "      <td>$333,172,112</td>\n",
       "      <td>$771,051,335</td>\n",
       "    </tr>\n",
       "    <tr>\n",
       "      <th>3</th>\n",
       "      <td>86.0</td>\n",
       "      <td>http://resizing.flixster.com/l9yjA-72sZMYECeOj...</td>\n",
       "      <td>4.2</td>\n",
       "      <td>72.0</td>\n",
       "      <td>7.0</td>\n",
       "      <td>-0.26%</td>\n",
       "      <td>$671,220,455.10</td>\n",
       "      <td>Sci-Fi\\nAdventure</td>\n",
       "      <td>Sci-Fi</td>\n",
       "      <td>Adventure</td>\n",
       "      <td>...</td>\n",
       "      <td>$672,974,414.00</td>\n",
       "      <td>2014.0</td>\n",
       "      <td>0.071803</td>\n",
       "      <td>2.004527</td>\n",
       "      <td>1.932724</td>\n",
       "      <td>6.712205e+08</td>\n",
       "      <td>11/5/14</td>\n",
       "      <td>$165,000,000</td>\n",
       "      <td>$188,017,894</td>\n",
       "      <td>$667,752,422</td>\n",
       "    </tr>\n",
       "    <tr>\n",
       "      <th>4</th>\n",
       "      <td>71.0</td>\n",
       "      <td>http://resizing.flixster.com/YukULOFULUesVZccN...</td>\n",
       "      <td>3.8</td>\n",
       "      <td>49.0</td>\n",
       "      <td>5.7</td>\n",
       "      <td>-0.26%</td>\n",
       "      <td>$756,677,675.77</td>\n",
       "      <td>Family\\nAdventure\\nAction</td>\n",
       "      <td>Family</td>\n",
       "      <td>Adventure</td>\n",
       "      <td>...</td>\n",
       "      <td>$758,654,942.00</td>\n",
       "      <td>2014.0</td>\n",
       "      <td>-0.989469</td>\n",
       "      <td>0.029288</td>\n",
       "      <td>1.018757</td>\n",
       "      <td>7.566777e+08</td>\n",
       "      <td>5/30/14</td>\n",
       "      <td>$180,000,000</td>\n",
       "      <td>$241,407,328</td>\n",
       "      <td>$758,536,735</td>\n",
       "    </tr>\n",
       "  </tbody>\n",
       "</table>\n",
       "<p>5 rows × 28 columns</p>\n",
       "</div>"
      ],
      "text/plain": [
       "   audience_freshness                                         poster_url  \\\n",
       "0                92.0  http://resizing.flixster.com/gxRJwetP1eNIrPR6x...   \n",
       "1                89.0  http://resizing.flixster.com/gDtbA1iPxTYEjBZeS...   \n",
       "2                93.0  http://resizing.flixster.com/YrF_OeTQx3bXNsMLI...   \n",
       "3                86.0  http://resizing.flixster.com/l9yjA-72sZMYECeOj...   \n",
       "4                71.0  http://resizing.flixster.com/YukULOFULUesVZccN...   \n",
       "\n",
       "   rt_audience_score  rt_freshness  rt_score 2015_inflation         adjusted  \\\n",
       "0                4.3          89.0       7.5         -0.26%  $712,903,691.09   \n",
       "1                4.2          90.0       7.9         -0.26%  $706,988,165.89   \n",
       "2                4.4          91.0       7.7         -0.26%  $772,158,880.00   \n",
       "3                4.2          72.0       7.0         -0.26%  $671,220,455.10   \n",
       "4                3.8          49.0       5.7         -0.26%  $756,677,675.77   \n",
       "\n",
       "                      genres Genre_1    Genre_2       ...         \\\n",
       "0  Sci-Fi\\nAdventure\\nAction  Sci-Fi  Adventure       ...          \n",
       "1      Sci-Fi\\nDrama\\nAction  Sci-Fi      Drama       ...          \n",
       "2  Sci-Fi\\nAdventure\\nAction  Sci-Fi  Adventure       ...          \n",
       "3          Sci-Fi\\nAdventure  Sci-Fi  Adventure       ...          \n",
       "4  Family\\nAdventure\\nAction  Family  Adventure       ...          \n",
       "\n",
       "   worldwide_gross    year  z_rt_freshness  z_imdb_rating rt_imdb_difference  \\\n",
       "0  $714,766,572.00  2014.0        0.856221       0.893455           0.037234   \n",
       "1  $708,835,589.00  2014.0        0.902363       0.770003           0.132360   \n",
       "2  $774,176,600.00  2014.0        0.948506       1.263813           0.315307   \n",
       "3  $672,974,414.00  2014.0        0.071803       2.004527           1.932724   \n",
       "4  $758,654,942.00  2014.0       -0.989469       0.029288           1.018757   \n",
       "\n",
       "    float_gross Release Date Production Budget Domestic Gross  Worldwide Gross  \n",
       "0  7.129037e+08       4/4/14     $170,000,000   $259,746,958     $714,401,889   \n",
       "1  7.069882e+08      7/11/14     $170,000,000   $208,545,589     $710,644,566   \n",
       "2  7.721589e+08       8/1/14     $170,000,000   $333,172,112     $771,051,335   \n",
       "3  6.712205e+08      11/5/14     $165,000,000   $188,017,894     $667,752,422   \n",
       "4  7.566777e+08      5/30/14     $180,000,000   $241,407,328     $758,536,735   \n",
       "\n",
       "[5 rows x 28 columns]"
      ]
     },
     "execution_count": 59,
     "metadata": {},
     "output_type": "execute_result"
    }
   ],
   "source": [
    "movie_budgets.head()"
   ]
  },
  {
   "cell_type": "code",
   "execution_count": 60,
   "metadata": {},
   "outputs": [],
   "source": [
    "movie_budgets['float_production_budget'] = vect_floatify(movie_budgets['Production Budget'])"
   ]
  },
  {
   "cell_type": "code",
   "execution_count": 61,
   "metadata": {},
   "outputs": [
    {
     "data": {
      "text/plain": [
       "0.491425439312412"
      ]
     },
     "execution_count": 61,
     "metadata": {},
     "output_type": "execute_result"
    }
   ],
   "source": [
    "original_correlation = correlation(movie_budgets,'float_production_budget', 'float_gross')\n",
    "original_correlation"
   ]
  },
  {
   "cell_type": "code",
   "execution_count": 62,
   "metadata": {},
   "outputs": [
    {
     "data": {
      "text/plain": [
       "0.4753803073237066"
      ]
     },
     "execution_count": 62,
     "metadata": {},
     "output_type": "execute_result"
    }
   ],
   "source": [
    "random_sample = movie_budgets.sample(500, replace=True)  \n",
    "correlation(random_sample,'float_production_budget', 'float_gross')"
   ]
  },
  {
   "cell_type": "code",
   "execution_count": 63,
   "metadata": {},
   "outputs": [],
   "source": [
    "correlations = []\n",
    "for i in np.arange(2500): #for 2500 times, we want to generate random sample w/ replacement\n",
    "    random_sample = movie_budgets.sample(500, replace=True)   \n",
    "    new_correlations = correlation(random_sample,'float_production_budget', 'float_gross')\n",
    "    correlations.append(new_correlations)"
   ]
  },
  {
   "cell_type": "code",
   "execution_count": 64,
   "metadata": {},
   "outputs": [
    {
     "data": {
      "text/plain": [
       "Text(0.5,1,'Bootstrapped Correlation Distribution (gross sales by budget)')"
      ]
     },
     "execution_count": 64,
     "metadata": {},
     "output_type": "execute_result"
    },
    {
     "data": {
      "image/png": "[encoded data removed]",
      "text/plain": [
       "<Figure size 720x288 with 1 Axes>"
      ]
     },
     "metadata": {},
     "output_type": "display_data"
    }
   ],
   "source": [
    "plt.figure(figsize=(10,4))\n",
    "plt.style.use('fivethirtyeight')\n",
    "plt.hist(correlations, bins = 30, color = 'lightblue', ec = 'blue')\n",
    "plt.xlabel('correlation values for 2500 different samples', size = 'small')\n",
    "plt.ylabel('frequency for each correlation value', size = 'small')\n",
    "plt.title('Bootstrapped Correlation Distribution (gross sales by budget)', size = 'medium')"
   ]
  },
  {
   "cell_type": "code",
   "execution_count": 65,
   "metadata": {},
   "outputs": [],
   "source": [
    "# Calculating a 95% confidence interval for the correlation values\n",
    "lower_bound = np.percentile(correlations, 2.5)\n",
    "upper_bound = np.percentile(correlations, 97.5)"
   ]
  },
  {
   "cell_type": "code",
   "execution_count": 66,
   "metadata": {},
   "outputs": [
    {
     "name": "stdout",
     "output_type": "stream",
     "text": [
      "We are 95% certain that the correlation values will be between 0.35032017724543363 and 0.6045847101183042\n"
     ]
    }
   ],
   "source": [
    "print(\"We are 95% certain that the correlation values will be between \" + str(lower_bound) + \" and \" + str(upper_bound))"
   ]
  },
  {
   "cell_type": "markdown",
   "metadata": {},
   "source": [
    "#### Based on this confidence interval, is movie budget a good predictor for the amount of money that a movie will make?"
   ]
  },
  {
   "cell_type": "markdown",
   "metadata": {},
   "source": [
    "- Yes. We are 95% certain that the correlation coefficient between the movie budget and its gross earnings would be between 0.351 and 0.605, and any correlation coefficient greater than 0.3 is at least a moderately strong indication of a positive linear relationship. So the movie budget is a relatively good indicator of the amount of money that it will make."
   ]
  }
 ],
 "metadata": {
  "kernelspec": {
   "display_name": "Python 3",
   "language": "python",
   "name": "python3"
  },
  "language_info": {
   "codemirror_mode": {
    "name": "ipython",
    "version": 3
   },
   "file_extension": ".py",
   "mimetype": "text/x-python",
   "name": "python",
   "nbconvert_exporter": "python",
   "pygments_lexer": "ipython3",
   "version": "3.6.5"
  }
 },
 "nbformat": 4,
 "nbformat_minor": 1
}
