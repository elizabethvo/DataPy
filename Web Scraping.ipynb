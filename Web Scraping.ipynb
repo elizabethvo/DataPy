{
 "cells": [
  {
   "cell_type": "code",
   "execution_count": 2,
   "metadata": {},
   "outputs": [],
   "source": [
    "import numpy as np\n",
    "import pandas as pd\n",
    "from bs4 import BeautifulSoup\n",
    "import requests\n",
    "from bs4 import SoupStrainer\n",
    "import matplotlib.pyplot as plt"
   ]
  },
  {
   "cell_type": "code",
   "execution_count": 3,
   "metadata": {},
   "outputs": [],
   "source": [
    "%matplotlib inline"
   ]
  },
  {
   "cell_type": "markdown",
   "metadata": {},
   "source": [
    "## Scraping from a Dog Adoption website!"
   ]
  },
  {
   "cell_type": "markdown",
   "metadata": {},
   "source": [
    "https://homeatlastdogrescue.com/adoptable/ is a website that has a number of puppies that are available for adoption."
   ]
  },
  {
   "cell_type": "code",
   "execution_count": 4,
   "metadata": {},
   "outputs": [],
   "source": [
    "r = requests.get(\"https://homeatlastdogrescue.com/adoptable/\")"
   ]
  },
  {
   "cell_type": "code",
   "execution_count": 5,
   "metadata": {},
   "outputs": [],
   "source": [
    "soup = BeautifulSoup(r.text, 'html.parser')"
   ]
  },
  {
   "cell_type": "markdown",
   "metadata": {},
   "source": [
    "## Goal 1: plot a pie chart with the percent of male and female dogs that are up for adoption. \n"
   ]
  },
  {
   "cell_type": "code",
   "execution_count": 6,
   "metadata": {},
   "outputs": [
    {
     "data": {
      "text/plain": [
       "(89,\n",
       " [<a class=\"details\" href=\"dog_desc.php?ID=11060\" rel=\"dog_desc.php?ID=11060\" title=\"Dog Detail\"><h1>** SAVE A LIFE **</h1></a>,\n",
       "  <a class=\"details\" href=\"dog_desc.php?ID=9655\" rel=\"dog_desc.php?ID=9655\" title=\"Dog Detail\"><h1>*HELP Vagabond*</h1></a>,\n",
       "  <a class=\"details\" href=\"dog_desc.php?ID=5632\" rel=\"dog_desc.php?ID=5632\" title=\"Dog Detail\"><h1>Alexander</h1></a>,\n",
       "  <a class=\"details\" href=\"dog_desc.php?ID=11061\" rel=\"dog_desc.php?ID=11061\" title=\"Dog Detail\"><h1>Beau</h1></a>,\n",
       "  <a class=\"details\" href=\"dog_desc.php?ID=11229\" rel=\"dog_desc.php?ID=11229\" title=\"Dog Detail\"><h1>Betty</h1></a>])"
      ]
     },
     "execution_count": 6,
     "metadata": {},
     "output_type": "execute_result"
    }
   ],
   "source": [
    "urls = soup.find_all(\"a\", class_ = \"details\")\n",
    "len(urls), urls[:5]"
   ]
  },
  {
   "cell_type": "code",
   "execution_count": 7,
   "metadata": {},
   "outputs": [],
   "source": [
    "fetch_urls = []\n",
    "for x in urls:\n",
    "    base_url = 'https://homeatlastdogrescue.com/adoptable/'\n",
    "    url_str = str(x)\n",
    "    start = url_str.index('dog_desc')\n",
    "    end = url_str.index('\" rel')\n",
    "    new_url = url_str[start : end]\n",
    "    new_url = new_url.strip()\n",
    "    request_url = base_url + new_url\n",
    "    fetch_urls.append(request_url)"
   ]
  },
  {
   "cell_type": "code",
   "execution_count": 8,
   "metadata": {},
   "outputs": [],
   "source": [
    "fetch_urls = fetch_urls[1:]"
   ]
  },
  {
   "cell_type": "code",
   "execution_count": 9,
   "metadata": {},
   "outputs": [],
   "source": [
    "header_texts = []\n",
    "dog_soups = []\n",
    "for x in fetch_urls:\n",
    "    r = requests.get(x)\n",
    "    soup = BeautifulSoup(r.text, 'html.parser')\n",
    "    dog_soups.append(soup)\n",
    "for x in dog_soups:\n",
    "    header = x.find('h3').get_text()\n",
    "    header_texts.append(header)"
   ]
  },
  {
   "cell_type": "code",
   "execution_count": 10,
   "metadata": {},
   "outputs": [
    {
     "data": {
      "text/plain": [
       "['Young Male Greater Swiss Mountain Dog',\n",
       " 'Adult Male Shepherd/Australian Shepherd mix\\r\\n',\n",
       " 'Young Male Bulldog',\n",
       " 'Young Female Pit Bull Terrier',\n",
       " 'Senior Male Chihuahua/Poodle mix\\r\\n']"
      ]
     },
     "execution_count": 10,
     "metadata": {},
     "output_type": "execute_result"
    }
   ],
   "source": [
    "header_texts[:5]"
   ]
  },
  {
   "cell_type": "code",
   "execution_count": 11,
   "metadata": {},
   "outputs": [],
   "source": [
    "genders = []\n",
    "for x in header_texts:\n",
    "    split_header = x.split(' ')\n",
    "    gender = split_header[1]\n",
    "    genders.append(gender)"
   ]
  },
  {
   "cell_type": "code",
   "execution_count": 12,
   "metadata": {},
   "outputs": [
    {
     "data": {
      "text/html": [
       "<div>\n",
       "<style scoped>\n",
       "    .dataframe tbody tr th:only-of-type {\n",
       "        vertical-align: middle;\n",
       "    }\n",
       "\n",
       "    .dataframe tbody tr th {\n",
       "        vertical-align: top;\n",
       "    }\n",
       "\n",
       "    .dataframe thead th {\n",
       "        text-align: right;\n",
       "    }\n",
       "</style>\n",
       "<table border=\"1\" class=\"dataframe\">\n",
       "  <thead>\n",
       "    <tr style=\"text-align: right;\">\n",
       "      <th></th>\n",
       "      <th>Dog</th>\n",
       "      <th>Gender</th>\n",
       "    </tr>\n",
       "  </thead>\n",
       "  <tbody>\n",
       "    <tr>\n",
       "      <th>0</th>\n",
       "      <td>Young Male Greater Swiss Mountain Dog</td>\n",
       "      <td>Male</td>\n",
       "    </tr>\n",
       "    <tr>\n",
       "      <th>1</th>\n",
       "      <td>Adult Male Shepherd/Australian Shepherd mix\\r\\n</td>\n",
       "      <td>Male</td>\n",
       "    </tr>\n",
       "    <tr>\n",
       "      <th>2</th>\n",
       "      <td>Young Male Bulldog</td>\n",
       "      <td>Male</td>\n",
       "    </tr>\n",
       "    <tr>\n",
       "      <th>3</th>\n",
       "      <td>Young Female Pit Bull Terrier</td>\n",
       "      <td>Female</td>\n",
       "    </tr>\n",
       "    <tr>\n",
       "      <th>4</th>\n",
       "      <td>Senior Male Chihuahua/Poodle mix\\r\\n</td>\n",
       "      <td>Male</td>\n",
       "    </tr>\n",
       "    <tr>\n",
       "      <th>5</th>\n",
       "      <td>Senior Female Chihuahua</td>\n",
       "      <td>Female</td>\n",
       "    </tr>\n",
       "    <tr>\n",
       "      <th>6</th>\n",
       "      <td>Adult Male Pit Bull Terrier</td>\n",
       "      <td>Male</td>\n",
       "    </tr>\n",
       "    <tr>\n",
       "      <th>7</th>\n",
       "      <td>Young Male Wirehaired Terrier</td>\n",
       "      <td>Male</td>\n",
       "    </tr>\n",
       "    <tr>\n",
       "      <th>8</th>\n",
       "      <td>Young Female Australian Shepherd</td>\n",
       "      <td>Female</td>\n",
       "    </tr>\n",
       "    <tr>\n",
       "      <th>9</th>\n",
       "      <td>Baby  Hound</td>\n",
       "      <td></td>\n",
       "    </tr>\n",
       "    <tr>\n",
       "      <th>10</th>\n",
       "      <td>Baby Female Hound</td>\n",
       "      <td>Female</td>\n",
       "    </tr>\n",
       "    <tr>\n",
       "      <th>11</th>\n",
       "      <td>Female Hound</td>\n",
       "      <td>Female</td>\n",
       "    </tr>\n",
       "    <tr>\n",
       "      <th>12</th>\n",
       "      <td>Young Male Wirehaired Terrier</td>\n",
       "      <td>Male</td>\n",
       "    </tr>\n",
       "    <tr>\n",
       "      <th>13</th>\n",
       "      <td>Young Male</td>\n",
       "      <td>Male</td>\n",
       "    </tr>\n",
       "    <tr>\n",
       "      <th>14</th>\n",
       "      <td>Adult Male Retriever</td>\n",
       "      <td>Male</td>\n",
       "    </tr>\n",
       "    <tr>\n",
       "      <th>15</th>\n",
       "      <td>Adult Male Shih Tzu/Schnauzer mix\\r\\n</td>\n",
       "      <td>Male</td>\n",
       "    </tr>\n",
       "    <tr>\n",
       "      <th>16</th>\n",
       "      <td>Young Female Labrador Retriever</td>\n",
       "      <td>Female</td>\n",
       "    </tr>\n",
       "    <tr>\n",
       "      <th>17</th>\n",
       "      <td>Adult  English Setter</td>\n",
       "      <td></td>\n",
       "    </tr>\n",
       "    <tr>\n",
       "      <th>18</th>\n",
       "      <td>Senior Male Hound</td>\n",
       "      <td>Male</td>\n",
       "    </tr>\n",
       "    <tr>\n",
       "      <th>19</th>\n",
       "      <td>Baby Female Shepherd</td>\n",
       "      <td>Female</td>\n",
       "    </tr>\n",
       "    <tr>\n",
       "      <th>20</th>\n",
       "      <td>Baby Female Shepherd</td>\n",
       "      <td>Female</td>\n",
       "    </tr>\n",
       "    <tr>\n",
       "      <th>21</th>\n",
       "      <td>Adult Male Beagle</td>\n",
       "      <td>Male</td>\n",
       "    </tr>\n",
       "    <tr>\n",
       "      <th>22</th>\n",
       "      <td>Adult Male Yorkshire Terrier Yorkie</td>\n",
       "      <td>Male</td>\n",
       "    </tr>\n",
       "    <tr>\n",
       "      <th>23</th>\n",
       "      <td>Baby Male Shepherd</td>\n",
       "      <td>Male</td>\n",
       "    </tr>\n",
       "    <tr>\n",
       "      <th>24</th>\n",
       "      <td>Adult Male Pit Bull Terrier</td>\n",
       "      <td>Male</td>\n",
       "    </tr>\n",
       "    <tr>\n",
       "      <th>25</th>\n",
       "      <td>Senior Male Labrador Retriever</td>\n",
       "      <td>Male</td>\n",
       "    </tr>\n",
       "    <tr>\n",
       "      <th>26</th>\n",
       "      <td>Adult Female Standard Poodle/Poodle mix\\r\\n</td>\n",
       "      <td>Female</td>\n",
       "    </tr>\n",
       "    <tr>\n",
       "      <th>27</th>\n",
       "      <td>Adult Female Feist</td>\n",
       "      <td>Female</td>\n",
       "    </tr>\n",
       "    <tr>\n",
       "      <th>28</th>\n",
       "      <td>Young Male Wirehaired Terrier</td>\n",
       "      <td>Male</td>\n",
       "    </tr>\n",
       "    <tr>\n",
       "      <th>29</th>\n",
       "      <td>Young Female Husky</td>\n",
       "      <td>Female</td>\n",
       "    </tr>\n",
       "    <tr>\n",
       "      <th>...</th>\n",
       "      <td>...</td>\n",
       "      <td>...</td>\n",
       "    </tr>\n",
       "    <tr>\n",
       "      <th>58</th>\n",
       "      <td>Adult Female Pit Bull Terrier/Labrador Retriev...</td>\n",
       "      <td>Female</td>\n",
       "    </tr>\n",
       "    <tr>\n",
       "      <th>59</th>\n",
       "      <td>Adult Male Labrador Retriever/Hound mix\\r\\n</td>\n",
       "      <td>Male</td>\n",
       "    </tr>\n",
       "    <tr>\n",
       "      <th>60</th>\n",
       "      <td>Baby Female Pit Bull Terrier</td>\n",
       "      <td>Female</td>\n",
       "    </tr>\n",
       "    <tr>\n",
       "      <th>61</th>\n",
       "      <td>Baby Female Saint Bernard St. Bernard/Poodle m...</td>\n",
       "      <td>Female</td>\n",
       "    </tr>\n",
       "    <tr>\n",
       "      <th>62</th>\n",
       "      <td>Baby Female Australian Cattle Dog/Blue Heeler</td>\n",
       "      <td>Female</td>\n",
       "    </tr>\n",
       "    <tr>\n",
       "      <th>63</th>\n",
       "      <td>Young Male Pit Bull Terrier</td>\n",
       "      <td>Male</td>\n",
       "    </tr>\n",
       "    <tr>\n",
       "      <th>64</th>\n",
       "      <td>Baby Male Havanese/Poodle mix\\r\\n</td>\n",
       "      <td>Male</td>\n",
       "    </tr>\n",
       "    <tr>\n",
       "      <th>65</th>\n",
       "      <td>Baby Female Australian Cattle Dog/Blue Heeler</td>\n",
       "      <td>Female</td>\n",
       "    </tr>\n",
       "    <tr>\n",
       "      <th>66</th>\n",
       "      <td>Young Female Labrador Retriever</td>\n",
       "      <td>Female</td>\n",
       "    </tr>\n",
       "    <tr>\n",
       "      <th>67</th>\n",
       "      <td>Adult Male Pit Bull Terrier</td>\n",
       "      <td>Male</td>\n",
       "    </tr>\n",
       "    <tr>\n",
       "      <th>68</th>\n",
       "      <td>Young Male Labrador Retriever</td>\n",
       "      <td>Male</td>\n",
       "    </tr>\n",
       "    <tr>\n",
       "      <th>69</th>\n",
       "      <td>Adult Female Poodle</td>\n",
       "      <td>Female</td>\n",
       "    </tr>\n",
       "    <tr>\n",
       "      <th>70</th>\n",
       "      <td>Baby Male Havanese/Poodle mix\\r\\n</td>\n",
       "      <td>Male</td>\n",
       "    </tr>\n",
       "    <tr>\n",
       "      <th>71</th>\n",
       "      <td>Young Male Labrador Retriever</td>\n",
       "      <td>Male</td>\n",
       "    </tr>\n",
       "    <tr>\n",
       "      <th>72</th>\n",
       "      <td>Senior Male Poodle</td>\n",
       "      <td>Male</td>\n",
       "    </tr>\n",
       "    <tr>\n",
       "      <th>73</th>\n",
       "      <td>Young Male Chinese Crested Dog</td>\n",
       "      <td>Male</td>\n",
       "    </tr>\n",
       "    <tr>\n",
       "      <th>74</th>\n",
       "      <td>Young Male Shepherd</td>\n",
       "      <td>Male</td>\n",
       "    </tr>\n",
       "    <tr>\n",
       "      <th>75</th>\n",
       "      <td>Baby Male Maltese/Yorkshire Terrier Yorkie mix...</td>\n",
       "      <td>Male</td>\n",
       "    </tr>\n",
       "    <tr>\n",
       "      <th>76</th>\n",
       "      <td>Senior Female Beagle</td>\n",
       "      <td>Female</td>\n",
       "    </tr>\n",
       "    <tr>\n",
       "      <th>77</th>\n",
       "      <td>Young Male Shar Pei</td>\n",
       "      <td>Male</td>\n",
       "    </tr>\n",
       "    <tr>\n",
       "      <th>78</th>\n",
       "      <td>Adult Female Jack Russell Terrier</td>\n",
       "      <td>Female</td>\n",
       "    </tr>\n",
       "    <tr>\n",
       "      <th>79</th>\n",
       "      <td>Young Male Pit Bull Terrier/Boxer mix\\r\\n</td>\n",
       "      <td>Male</td>\n",
       "    </tr>\n",
       "    <tr>\n",
       "      <th>80</th>\n",
       "      <td>Baby Male Maltese/Yorkshire Terrier Yorkie mix...</td>\n",
       "      <td>Male</td>\n",
       "    </tr>\n",
       "    <tr>\n",
       "      <th>81</th>\n",
       "      <td>Baby Female Maltese/Yorkshire Terrier Yorkie m...</td>\n",
       "      <td>Female</td>\n",
       "    </tr>\n",
       "    <tr>\n",
       "      <th>82</th>\n",
       "      <td>Adult Male Black Labrador Retriever</td>\n",
       "      <td>Male</td>\n",
       "    </tr>\n",
       "    <tr>\n",
       "      <th>83</th>\n",
       "      <td>Young Male Labrador Retriever</td>\n",
       "      <td>Male</td>\n",
       "    </tr>\n",
       "    <tr>\n",
       "      <th>84</th>\n",
       "      <td>Young Female Hound</td>\n",
       "      <td>Female</td>\n",
       "    </tr>\n",
       "    <tr>\n",
       "      <th>85</th>\n",
       "      <td>Senior Male Jack Russell Terrier</td>\n",
       "      <td>Male</td>\n",
       "    </tr>\n",
       "    <tr>\n",
       "      <th>86</th>\n",
       "      <td>Young Male Shih Tzu</td>\n",
       "      <td>Male</td>\n",
       "    </tr>\n",
       "    <tr>\n",
       "      <th>87</th>\n",
       "      <td>Senior Female Chihuahua</td>\n",
       "      <td>Female</td>\n",
       "    </tr>\n",
       "  </tbody>\n",
       "</table>\n",
       "<p>88 rows × 2 columns</p>\n",
       "</div>"
      ],
      "text/plain": [
       "                                                  Dog  Gender\n",
       "0               Young Male Greater Swiss Mountain Dog    Male\n",
       "1     Adult Male Shepherd/Australian Shepherd mix\\r\\n    Male\n",
       "2                                  Young Male Bulldog    Male\n",
       "3                       Young Female Pit Bull Terrier  Female\n",
       "4                Senior Male Chihuahua/Poodle mix\\r\\n    Male\n",
       "5                             Senior Female Chihuahua  Female\n",
       "6                         Adult Male Pit Bull Terrier    Male\n",
       "7                       Young Male Wirehaired Terrier    Male\n",
       "8                    Young Female Australian Shepherd  Female\n",
       "9                                         Baby  Hound        \n",
       "10                                  Baby Female Hound  Female\n",
       "11                                       Female Hound  Female\n",
       "12                      Young Male Wirehaired Terrier    Male\n",
       "13                                        Young Male     Male\n",
       "14                               Adult Male Retriever    Male\n",
       "15              Adult Male Shih Tzu/Schnauzer mix\\r\\n    Male\n",
       "16                    Young Female Labrador Retriever  Female\n",
       "17                              Adult  English Setter        \n",
       "18                                  Senior Male Hound    Male\n",
       "19                               Baby Female Shepherd  Female\n",
       "20                               Baby Female Shepherd  Female\n",
       "21                                  Adult Male Beagle    Male\n",
       "22                Adult Male Yorkshire Terrier Yorkie    Male\n",
       "23                                 Baby Male Shepherd    Male\n",
       "24                        Adult Male Pit Bull Terrier    Male\n",
       "25                     Senior Male Labrador Retriever    Male\n",
       "26        Adult Female Standard Poodle/Poodle mix\\r\\n  Female\n",
       "27                                 Adult Female Feist  Female\n",
       "28                      Young Male Wirehaired Terrier    Male\n",
       "29                                 Young Female Husky  Female\n",
       "..                                                ...     ...\n",
       "58  Adult Female Pit Bull Terrier/Labrador Retriev...  Female\n",
       "59        Adult Male Labrador Retriever/Hound mix\\r\\n    Male\n",
       "60                       Baby Female Pit Bull Terrier  Female\n",
       "61  Baby Female Saint Bernard St. Bernard/Poodle m...  Female\n",
       "62      Baby Female Australian Cattle Dog/Blue Heeler  Female\n",
       "63                        Young Male Pit Bull Terrier    Male\n",
       "64                  Baby Male Havanese/Poodle mix\\r\\n    Male\n",
       "65      Baby Female Australian Cattle Dog/Blue Heeler  Female\n",
       "66                    Young Female Labrador Retriever  Female\n",
       "67                        Adult Male Pit Bull Terrier    Male\n",
       "68                      Young Male Labrador Retriever    Male\n",
       "69                                Adult Female Poodle  Female\n",
       "70                  Baby Male Havanese/Poodle mix\\r\\n    Male\n",
       "71                      Young Male Labrador Retriever    Male\n",
       "72                                 Senior Male Poodle    Male\n",
       "73                     Young Male Chinese Crested Dog    Male\n",
       "74                                Young Male Shepherd    Male\n",
       "75  Baby Male Maltese/Yorkshire Terrier Yorkie mix...    Male\n",
       "76                               Senior Female Beagle  Female\n",
       "77                                Young Male Shar Pei    Male\n",
       "78                  Adult Female Jack Russell Terrier  Female\n",
       "79          Young Male Pit Bull Terrier/Boxer mix\\r\\n    Male\n",
       "80  Baby Male Maltese/Yorkshire Terrier Yorkie mix...    Male\n",
       "81  Baby Female Maltese/Yorkshire Terrier Yorkie m...  Female\n",
       "82                Adult Male Black Labrador Retriever    Male\n",
       "83                      Young Male Labrador Retriever    Male\n",
       "84                                 Young Female Hound  Female\n",
       "85                   Senior Male Jack Russell Terrier    Male\n",
       "86                                Young Male Shih Tzu    Male\n",
       "87                            Senior Female Chihuahua  Female\n",
       "\n",
       "[88 rows x 2 columns]"
      ]
     },
     "execution_count": 12,
     "metadata": {},
     "output_type": "execute_result"
    }
   ],
   "source": [
    "dogs = pd.DataFrame({ \"Dog\" : header_texts, \"Gender\" : genders})\n",
    "dogs"
   ]
  },
  {
   "cell_type": "code",
   "execution_count": 13,
   "metadata": {},
   "outputs": [],
   "source": [
    "grouped_genders = dogs.groupby(['Gender'], as_index = False)"
   ]
  },
  {
   "cell_type": "code",
   "execution_count": 14,
   "metadata": {},
   "outputs": [],
   "source": [
    "dogs_by_gender = grouped_genders.agg({'Dog' : 'count'})\n",
    "dogs_by_gender = dogs_by_gender.rename(columns = {\"Dog\" : \"number\"})"
   ]
  },
  {
   "cell_type": "code",
   "execution_count": 15,
   "metadata": {},
   "outputs": [],
   "source": [
    "male_vs_female = dogs_by_gender[np.logical_or(dogs_by_gender['Gender'] == 'Female', dogs_by_gender['Gender'] == 'Male')]"
   ]
  },
  {
   "cell_type": "code",
   "execution_count": 16,
   "metadata": {},
   "outputs": [
    {
     "data": {
      "text/html": [
       "<div>\n",
       "<style scoped>\n",
       "    .dataframe tbody tr th:only-of-type {\n",
       "        vertical-align: middle;\n",
       "    }\n",
       "\n",
       "    .dataframe tbody tr th {\n",
       "        vertical-align: top;\n",
       "    }\n",
       "\n",
       "    .dataframe thead th {\n",
       "        text-align: right;\n",
       "    }\n",
       "</style>\n",
       "<table border=\"1\" class=\"dataframe\">\n",
       "  <thead>\n",
       "    <tr style=\"text-align: right;\">\n",
       "      <th></th>\n",
       "      <th>Gender</th>\n",
       "      <th>number</th>\n",
       "    </tr>\n",
       "  </thead>\n",
       "  <tbody>\n",
       "    <tr>\n",
       "      <th>1</th>\n",
       "      <td>Female</td>\n",
       "      <td>32</td>\n",
       "    </tr>\n",
       "    <tr>\n",
       "      <th>2</th>\n",
       "      <td>Male</td>\n",
       "      <td>54</td>\n",
       "    </tr>\n",
       "  </tbody>\n",
       "</table>\n",
       "</div>"
      ],
      "text/plain": [
       "   Gender  number\n",
       "1  Female      32\n",
       "2    Male      54"
      ]
     },
     "execution_count": 16,
     "metadata": {},
     "output_type": "execute_result"
    }
   ],
   "source": [
    "male_vs_female"
   ]
  },
  {
   "cell_type": "code",
   "execution_count": 17,
   "metadata": {},
   "outputs": [
    {
     "data": {
      "text/plain": [
       "Text(0.5,1,'Percentages of Male and Female Dogs for Adoption')"
      ]
     },
     "execution_count": 17,
     "metadata": {},
     "output_type": "execute_result"
    },
    {
     "data": {
      "image/png": "[encoded data removed]",
      "text/plain": [
       "<Figure size 432x432 with 1 Axes>"
      ]
     },
     "metadata": {},
     "output_type": "display_data"
    }
   ],
   "source": [
    "plt.style.use('fivethirtyeight')\n",
    "fig = plt.figure(figsize = (6,6))\n",
    "sizes = male_vs_female['number']\n",
    "labels = male_vs_female['Gender']\n",
    "colors = [\"lightskyblue\", \"lightcoral\"]\n",
    "plt.pie(sizes, labels = labels, colors = colors, autopct='%1.4f%%')\n",
    "plt.title('Percentages of Male and Female Dogs for Adoption', size = 'medium')"
   ]
  },
  {
   "cell_type": "markdown",
   "metadata": {},
   "source": [
    "## Goal 2: plot a graph that represents the number of adoptable dogs by breed. For this question please consider the complete breed. "
   ]
  },
  {
   "cell_type": "code",
   "execution_count": 18,
   "metadata": {},
   "outputs": [
    {
     "data": {
      "text/plain": [
       "['Young Male Greater Swiss Mountain Dog',\n",
       " 'Adult Male Shepherd/Australian Shepherd mix\\r\\n',\n",
       " 'Young Male Bulldog',\n",
       " 'Young Female Pit Bull Terrier',\n",
       " 'Senior Male Chihuahua/Poodle mix\\r\\n']"
      ]
     },
     "execution_count": 18,
     "metadata": {},
     "output_type": "execute_result"
    }
   ],
   "source": [
    "header_texts[:5]"
   ]
  },
  {
   "cell_type": "code",
   "execution_count": 19,
   "metadata": {},
   "outputs": [],
   "source": [
    "breeds = []\n",
    "for x in header_texts:\n",
    "    split_header = x.split() #splitting the header with all the info we want\n",
    "    split_breed = split_header[2:]\n",
    "    breed = ' '.join(split_breed)\n",
    "    breeds.append(breed)"
   ]
  },
  {
   "cell_type": "code",
   "execution_count": 20,
   "metadata": {},
   "outputs": [
    {
     "data": {
      "text/plain": [
       "43"
      ]
     },
     "execution_count": 20,
     "metadata": {},
     "output_type": "execute_result"
    }
   ],
   "source": [
    "len(np.unique(breeds))"
   ]
  },
  {
   "cell_type": "code",
   "execution_count": 21,
   "metadata": {},
   "outputs": [],
   "source": [
    "dogs['breed'] = breeds"
   ]
  },
  {
   "cell_type": "code",
   "execution_count": 22,
   "metadata": {},
   "outputs": [
    {
     "data": {
      "text/html": [
       "<div>\n",
       "<style scoped>\n",
       "    .dataframe tbody tr th:only-of-type {\n",
       "        vertical-align: middle;\n",
       "    }\n",
       "\n",
       "    .dataframe tbody tr th {\n",
       "        vertical-align: top;\n",
       "    }\n",
       "\n",
       "    .dataframe thead th {\n",
       "        text-align: right;\n",
       "    }\n",
       "</style>\n",
       "<table border=\"1\" class=\"dataframe\">\n",
       "  <thead>\n",
       "    <tr style=\"text-align: right;\">\n",
       "      <th></th>\n",
       "      <th>Dog</th>\n",
       "      <th>Gender</th>\n",
       "      <th>breed</th>\n",
       "    </tr>\n",
       "  </thead>\n",
       "  <tbody>\n",
       "    <tr>\n",
       "      <th>0</th>\n",
       "      <td>Young Male Greater Swiss Mountain Dog</td>\n",
       "      <td>Male</td>\n",
       "      <td>Greater Swiss Mountain Dog</td>\n",
       "    </tr>\n",
       "    <tr>\n",
       "      <th>1</th>\n",
       "      <td>Adult Male Shepherd/Australian Shepherd mix\\r\\n</td>\n",
       "      <td>Male</td>\n",
       "      <td>Shepherd/Australian Shepherd mix</td>\n",
       "    </tr>\n",
       "    <tr>\n",
       "      <th>2</th>\n",
       "      <td>Young Male Bulldog</td>\n",
       "      <td>Male</td>\n",
       "      <td>Bulldog</td>\n",
       "    </tr>\n",
       "    <tr>\n",
       "      <th>3</th>\n",
       "      <td>Young Female Pit Bull Terrier</td>\n",
       "      <td>Female</td>\n",
       "      <td>Pit Bull Terrier</td>\n",
       "    </tr>\n",
       "    <tr>\n",
       "      <th>4</th>\n",
       "      <td>Senior Male Chihuahua/Poodle mix\\r\\n</td>\n",
       "      <td>Male</td>\n",
       "      <td>Chihuahua/Poodle mix</td>\n",
       "    </tr>\n",
       "  </tbody>\n",
       "</table>\n",
       "</div>"
      ],
      "text/plain": [
       "                                               Dog  Gender  \\\n",
       "0            Young Male Greater Swiss Mountain Dog    Male   \n",
       "1  Adult Male Shepherd/Australian Shepherd mix\\r\\n    Male   \n",
       "2                               Young Male Bulldog    Male   \n",
       "3                    Young Female Pit Bull Terrier  Female   \n",
       "4             Senior Male Chihuahua/Poodle mix\\r\\n    Male   \n",
       "\n",
       "                              breed  \n",
       "0        Greater Swiss Mountain Dog  \n",
       "1  Shepherd/Australian Shepherd mix  \n",
       "2                           Bulldog  \n",
       "3                  Pit Bull Terrier  \n",
       "4              Chihuahua/Poodle mix  "
      ]
     },
     "execution_count": 22,
     "metadata": {},
     "output_type": "execute_result"
    }
   ],
   "source": [
    "dogs[:5]"
   ]
  },
  {
   "cell_type": "code",
   "execution_count": 23,
   "metadata": {},
   "outputs": [],
   "source": [
    "grouped_breeds = dogs.groupby(['breed'], as_index = False)"
   ]
  },
  {
   "cell_type": "code",
   "execution_count": 24,
   "metadata": {},
   "outputs": [],
   "source": [
    "dogs_by_breed = grouped_breeds.agg({'Dog' : 'count'})\n",
    "dogs_by_breed = dogs_by_breed.rename(columns = {'Dog' : 'number'})"
   ]
  },
  {
   "cell_type": "code",
   "execution_count": 25,
   "metadata": {},
   "outputs": [
    {
     "data": {
      "text/plain": [
       "<matplotlib.axes._subplots.AxesSubplot at 0x11a2fb400>"
      ]
     },
     "execution_count": 25,
     "metadata": {},
     "output_type": "execute_result"
    },
    {
     "data": {
      "image/png": "[encoded data removed]",
      "text/plain": [
       "<Figure size 1080x432 with 1 Axes>"
      ]
     },
     "metadata": {},
     "output_type": "display_data"
    }
   ],
   "source": [
    "dogs_by_breed.plot.bar(x = 'breed', y = 'number', figsize = (15,6), title = 'Number of Dogs per Breed')\n"
   ]
  },
  {
   "cell_type": "markdown",
   "metadata": {
    "collapsed": true
   },
   "source": [
    "#### How many Labradors are up for adoption?"
   ]
  },
  {
   "cell_type": "code",
   "execution_count": 26,
   "metadata": {},
   "outputs": [
    {
     "name": "stdout",
     "output_type": "stream",
     "text": [
      "There are 16 Labradors up for adoption.\n",
      "The Labradors constitute 0.18181818181818182 percent of the adoptable dogs.\n"
     ]
    }
   ],
   "source": [
    "labradors = dogs[dogs['breed'].str.contains('Labrador')]\n",
    "labradors_percentage = len(labradors) / len(dogs)\n",
    "print('There are ' + str(len(labradors)) + ' Labradors up for adoption.')\n",
    "print('The Labradors constitute ' + str(labradors_percentage) + ' percent of the adoptable dogs.')"
   ]
  },
  {
   "cell_type": "markdown",
   "metadata": {},
   "source": [
    "#### How many Chihuahuas?"
   ]
  },
  {
   "cell_type": "code",
   "execution_count": 27,
   "metadata": {},
   "outputs": [
    {
     "name": "stdout",
     "output_type": "stream",
     "text": [
      "There are 4 Chihuahuas up for adoption.\n",
      "The Chihuahuas constitute 0.045454545454545456 percent of the adoptable dogs.\n"
     ]
    }
   ],
   "source": [
    "chihuahuas = dogs[dogs['breed'].str.contains('Chihuahua')]\n",
    "chihuahuas_percentage = len(chihuahuas) / len(dogs)\n",
    "\n",
    "print('There are ' + str(len(chihuahuas)) + ' Chihuahuas up for adoption.')\n",
    "print('The Chihuahuas constitute ' + str(chihuahuas_percentage) + ' percent of the adoptable dogs.')"
   ]
  },
  {
   "cell_type": "code",
   "execution_count": 28,
   "metadata": {},
   "outputs": [
    {
     "name": "stdout",
     "output_type": "stream",
     "text": [
      "Together, the Labs and Chihuahuas constitute 0.2272727272727273 percent of the adoptable dogs.\n"
     ]
    }
   ],
   "source": [
    "print('Together, the Labs and Chihuahuas constitute ' + str(labradors_percentage + chihuahuas_percentage) + ' percent of the adoptable dogs.')"
   ]
  },
  {
   "cell_type": "markdown",
   "metadata": {},
   "source": [
    "## Scraping from the American Kennel Club for Official Dog Breeds"
   ]
  },
  {
   "cell_type": "markdown",
   "metadata": {},
   "source": [
    "http://www.akc.org/dog-breeds/?letter=A"
   ]
  },
  {
   "cell_type": "code",
   "execution_count": 29,
   "metadata": {},
   "outputs": [],
   "source": [
    "r = requests.get('https://www.akc.org/dog-breeds/?letter=A')\n",
    "soup = BeautifulSoup(r.text, 'html.parser')"
   ]
  },
  {
   "cell_type": "code",
   "execution_count": 30,
   "metadata": {},
   "outputs": [],
   "source": [
    "akc = soup.find_all('option')"
   ]
  },
  {
   "cell_type": "code",
   "execution_count": 31,
   "metadata": {},
   "outputs": [],
   "source": [
    "akc = akc[1:]"
   ]
  },
  {
   "cell_type": "code",
   "execution_count": 32,
   "metadata": {},
   "outputs": [],
   "source": [
    "akc_breeds = []\n",
    "for x in akc:\n",
    "    akc_breeds.append(x.get_text())"
   ]
  },
  {
   "cell_type": "code",
   "execution_count": 33,
   "metadata": {},
   "outputs": [],
   "source": [
    "recognized_breeds = pd.DataFrame({'AKC Breeds' : akc_breeds})"
   ]
  },
  {
   "cell_type": "code",
   "execution_count": 34,
   "metadata": {},
   "outputs": [
    {
     "data": {
      "text/html": [
       "<div>\n",
       "<style scoped>\n",
       "    .dataframe tbody tr th:only-of-type {\n",
       "        vertical-align: middle;\n",
       "    }\n",
       "\n",
       "    .dataframe tbody tr th {\n",
       "        vertical-align: top;\n",
       "    }\n",
       "\n",
       "    .dataframe thead th {\n",
       "        text-align: right;\n",
       "    }\n",
       "</style>\n",
       "<table border=\"1\" class=\"dataframe\">\n",
       "  <thead>\n",
       "    <tr style=\"text-align: right;\">\n",
       "      <th></th>\n",
       "      <th>AKC Breeds</th>\n",
       "    </tr>\n",
       "  </thead>\n",
       "  <tbody>\n",
       "    <tr>\n",
       "      <th>0</th>\n",
       "      <td>Affenpinscher</td>\n",
       "    </tr>\n",
       "    <tr>\n",
       "      <th>1</th>\n",
       "      <td>Afghan Hound</td>\n",
       "    </tr>\n",
       "    <tr>\n",
       "      <th>2</th>\n",
       "      <td>Airedale Terrier</td>\n",
       "    </tr>\n",
       "    <tr>\n",
       "      <th>3</th>\n",
       "      <td>Akita</td>\n",
       "    </tr>\n",
       "    <tr>\n",
       "      <th>4</th>\n",
       "      <td>Alaskan Malamute</td>\n",
       "    </tr>\n",
       "    <tr>\n",
       "      <th>5</th>\n",
       "      <td>American English Coonhound</td>\n",
       "    </tr>\n",
       "    <tr>\n",
       "      <th>6</th>\n",
       "      <td>American Eskimo Dog</td>\n",
       "    </tr>\n",
       "    <tr>\n",
       "      <th>7</th>\n",
       "      <td>American Foxhound</td>\n",
       "    </tr>\n",
       "    <tr>\n",
       "      <th>8</th>\n",
       "      <td>American Hairless Terrier</td>\n",
       "    </tr>\n",
       "    <tr>\n",
       "      <th>9</th>\n",
       "      <td>American Leopard Hound</td>\n",
       "    </tr>\n",
       "    <tr>\n",
       "      <th>10</th>\n",
       "      <td>American Staffordshire Terrier</td>\n",
       "    </tr>\n",
       "    <tr>\n",
       "      <th>11</th>\n",
       "      <td>American Water Spaniel</td>\n",
       "    </tr>\n",
       "    <tr>\n",
       "      <th>12</th>\n",
       "      <td>Anatolian Shepherd Dog</td>\n",
       "    </tr>\n",
       "    <tr>\n",
       "      <th>13</th>\n",
       "      <td>Appenzeller Sennenhund</td>\n",
       "    </tr>\n",
       "    <tr>\n",
       "      <th>14</th>\n",
       "      <td>Australian Cattle Dog</td>\n",
       "    </tr>\n",
       "    <tr>\n",
       "      <th>15</th>\n",
       "      <td>Australian Kelpie</td>\n",
       "    </tr>\n",
       "    <tr>\n",
       "      <th>16</th>\n",
       "      <td>Australian Shepherd</td>\n",
       "    </tr>\n",
       "    <tr>\n",
       "      <th>17</th>\n",
       "      <td>Australian Stumpy Tail Cattle Dog</td>\n",
       "    </tr>\n",
       "    <tr>\n",
       "      <th>18</th>\n",
       "      <td>Australian Terrier</td>\n",
       "    </tr>\n",
       "    <tr>\n",
       "      <th>19</th>\n",
       "      <td>Azawakh</td>\n",
       "    </tr>\n",
       "  </tbody>\n",
       "</table>\n",
       "</div>"
      ],
      "text/plain": [
       "                           AKC Breeds\n",
       "0                       Affenpinscher\n",
       "1                        Afghan Hound\n",
       "2                    Airedale Terrier\n",
       "3                               Akita\n",
       "4                    Alaskan Malamute\n",
       "5          American English Coonhound\n",
       "6                 American Eskimo Dog\n",
       "7                   American Foxhound\n",
       "8           American Hairless Terrier\n",
       "9              American Leopard Hound\n",
       "10     American Staffordshire Terrier\n",
       "11             American Water Spaniel\n",
       "12             Anatolian Shepherd Dog\n",
       "13             Appenzeller Sennenhund\n",
       "14              Australian Cattle Dog\n",
       "15                  Australian Kelpie\n",
       "16                Australian Shepherd\n",
       "17  Australian Stumpy Tail Cattle Dog\n",
       "18                 Australian Terrier\n",
       "19                            Azawakh"
      ]
     },
     "execution_count": 34,
     "metadata": {},
     "output_type": "execute_result"
    }
   ],
   "source": [
    "recognized_breeds.head(20)"
   ]
  },
  {
   "cell_type": "code",
   "execution_count": 35,
   "metadata": {},
   "outputs": [],
   "source": [
    "# merging the AKC dogs df with the dogs-grouped-by-breed df\n",
    "adoptable_akc = pd.merge(recognized_breeds, dogs_by_breed, left_on= \"AKC Breeds\", right_on = \"breed\", how = 'inner')"
   ]
  },
  {
   "cell_type": "code",
   "execution_count": 36,
   "metadata": {},
   "outputs": [
    {
     "data": {
      "text/html": [
       "<div>\n",
       "<style scoped>\n",
       "    .dataframe tbody tr th:only-of-type {\n",
       "        vertical-align: middle;\n",
       "    }\n",
       "\n",
       "    .dataframe tbody tr th {\n",
       "        vertical-align: top;\n",
       "    }\n",
       "\n",
       "    .dataframe thead th {\n",
       "        text-align: right;\n",
       "    }\n",
       "</style>\n",
       "<table border=\"1\" class=\"dataframe\">\n",
       "  <thead>\n",
       "    <tr style=\"text-align: right;\">\n",
       "      <th></th>\n",
       "      <th>AKC Breeds</th>\n",
       "      <th>breed</th>\n",
       "      <th>number</th>\n",
       "    </tr>\n",
       "  </thead>\n",
       "  <tbody>\n",
       "    <tr>\n",
       "      <th>0</th>\n",
       "      <td>Australian Shepherd</td>\n",
       "      <td>Australian Shepherd</td>\n",
       "      <td>1</td>\n",
       "    </tr>\n",
       "    <tr>\n",
       "      <th>1</th>\n",
       "      <td>Australian Shepherd</td>\n",
       "      <td>Australian Shepherd</td>\n",
       "      <td>1</td>\n",
       "    </tr>\n",
       "    <tr>\n",
       "      <th>2</th>\n",
       "      <td>Australian Shepherd</td>\n",
       "      <td>Australian Shepherd</td>\n",
       "      <td>1</td>\n",
       "    </tr>\n",
       "    <tr>\n",
       "      <th>3</th>\n",
       "      <td>Beagle</td>\n",
       "      <td>Beagle</td>\n",
       "      <td>3</td>\n",
       "    </tr>\n",
       "    <tr>\n",
       "      <th>4</th>\n",
       "      <td>Beagle</td>\n",
       "      <td>Beagle</td>\n",
       "      <td>3</td>\n",
       "    </tr>\n",
       "  </tbody>\n",
       "</table>\n",
       "</div>"
      ],
      "text/plain": [
       "            AKC Breeds                breed  number\n",
       "0  Australian Shepherd  Australian Shepherd       1\n",
       "1  Australian Shepherd  Australian Shepherd       1\n",
       "2  Australian Shepherd  Australian Shepherd       1\n",
       "3               Beagle               Beagle       3\n",
       "4               Beagle               Beagle       3"
      ]
     },
     "execution_count": 36,
     "metadata": {},
     "output_type": "execute_result"
    }
   ],
   "source": [
    "adoptable_akc.head()"
   ]
  },
  {
   "cell_type": "code",
   "execution_count": 37,
   "metadata": {},
   "outputs": [],
   "source": [
    "# removing duplicate rows\n",
    "adoptable_akc = adoptable_akc.drop_duplicates(subset=['breed'], keep='first')"
   ]
  },
  {
   "cell_type": "code",
   "execution_count": 38,
   "metadata": {},
   "outputs": [
    {
     "data": {
      "text/plain": [
       "<matplotlib.axes._subplots.AxesSubplot at 0x11adb4908>"
      ]
     },
     "execution_count": 38,
     "metadata": {},
     "output_type": "execute_result"
    },
    {
     "data": {
      "image/png": "[encoded data removed]",
      "text/plain": [
       "<Figure size 576x432 with 1 Axes>"
      ]
     },
     "metadata": {},
     "output_type": "display_data"
    }
   ],
   "source": [
    "adoptable_akc.plot.bar(x = 'breed', y = 'number', figsize = (8,6), title = 'Number of Adoptable Dogs per AKC-Recognized Breed')"
   ]
  },
  {
   "cell_type": "markdown",
   "metadata": {},
   "source": [
    "- We can see that, of the officially recognized breeds, the Labrador Retriever shows up most commonly among the adoptable dogs."
   ]
  }
 ],
 "metadata": {
  "kernelspec": {
   "display_name": "Python 3",
   "language": "python",
   "name": "python3"
  },
  "language_info": {
   "codemirror_mode": {
    "name": "ipython",
    "version": 3
   },
   "file_extension": ".py",
   "mimetype": "text/x-python",
   "name": "python",
   "nbconvert_exporter": "python",
   "pygments_lexer": "ipython3",
   "version": "3.6.5"
  }
 },
 "nbformat": 4,
 "nbformat_minor": 2
}
